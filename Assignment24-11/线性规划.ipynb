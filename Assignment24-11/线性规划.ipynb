{
 "cells": [
  {
   "cell_type": "code",
   "execution_count": 2,
   "metadata": {},
   "outputs": [
    {
     "name": "stdout",
     "output_type": "stream",
     "text": [
      "Looking in indexes: https://pypi.tuna.tsinghua.edu.cn/simple/\n",
      "Collecting pulp\n",
      "  Downloading https://pypi.tuna.tsinghua.edu.cn/packages/89/0c/6d80f5f81a92d1733cc5ca180491b8a3cd5839e335627a0046c81b7d3d3d/PuLP-2.3.1-py3-none-any.whl (40.6 MB)\n",
      "\u001b[K     |████████████████████████████████| 40.6 MB 94 kB/s eta 0:00:011    |█████▊                          | 7.3 MB 48 kB/s eta 0:11:21     |██████                          | 7.6 MB 858 kB/s eta 0:00:39     |████████▌                       | 10.7 MB 1.6 MB/s eta 0:00:20     |████████████████████▎           | 25.7 MB 905 kB/s eta 0:00:17     |█████████████████████▏          | 26.9 MB 99 kB/s eta 0:02:18\n",
      "\u001b[?25hCollecting amply>=0.1.2\n",
      "  Downloading https://pypi.tuna.tsinghua.edu.cn/packages/f3/c5/dfa09dd2595a2ab2ab4e6fa7bebef9565812722e1980d04b0edce5032066/amply-0.1.4-py3-none-any.whl (16 kB)\n",
      "Requirement already satisfied: docutils>=0.3 in /opt/anaconda3/lib/python3.8/site-packages (from amply>=0.1.2->pulp) (0.16)\n",
      "Requirement already satisfied: pyparsing in /opt/anaconda3/lib/python3.8/site-packages (from amply>=0.1.2->pulp) (2.4.7)\n",
      "Installing collected packages: amply, pulp\n",
      "Successfully installed amply-0.1.4 pulp-2.3.1\n"
     ]
    }
   ],
   "source": [
    "!pip install pulp -i https://pypi.tuna.tsinghua.edu.cn/simple/"
   ]
  },
  {
   "cell_type": "code",
   "execution_count": 3,
   "metadata": {},
   "outputs": [
    {
     "name": "stdout",
     "output_type": "stream",
     "text": [
      "Looking in indexes: https://pypi.tuna.tsinghua.edu.cn/simple/\n",
      "Collecting pprint\n",
      "  Downloading https://pypi.tuna.tsinghua.edu.cn/packages/99/12/b6383259ef85c2b942ab9135f322c0dce83fdca8600d87122d2b0181451f/pprint-0.1.tar.gz (860 bytes)\n",
      "Building wheels for collected packages: pprint\n",
      "  Building wheel for pprint (setup.py) ... \u001b[?25ldone\n",
      "\u001b[?25h  Created wheel for pprint: filename=pprint-0.1-py3-none-any.whl size=1250 sha256=3668c0ceb06841c3b343f390cb34e686f8958c64b0fb6e5e5e0b078fd66c0112\n",
      "  Stored in directory: /Users/yangkaixiang/Library/Caches/pip/wheels/c4/d7/d8/8c4c4efc441cff850497342bfe37a54b3101593e503b8ef225\n",
      "Successfully built pprint\n",
      "Installing collected packages: pprint\n",
      "Successfully installed pprint-0.1\n"
     ]
    }
   ],
   "source": [
    "!pip install pprint -i https://pypi.tuna.tsinghua.edu.cn/simple/"
   ]
  },
  {
   "cell_type": "code",
   "execution_count": 4,
   "metadata": {},
   "outputs": [],
   "source": [
    "import pulp\n",
    "import numpy as np\n",
    "from pprint import pprint\n",
    "\n",
    "# 定义问题\n",
    "def farming_program(costs, x_max, y_max):\n",
    "    row = len(costs)\n",
    "    col = len(costs[0])\n",
    "    print(f'row:{row} col:{col}')\n",
    "    # 定义问题\n",
    "    prob = pulp.LpProblem('Transportation', sense=pulp.LpMaximize)\n",
    "    # 定义决策变量\n",
    "    var = [[pulp.LpVariable(f'x{i}{j}', lowBound=0, cat=pulp.LpInteger) for j in range(col)] for i in range(row)] # 先执行外层list 再执行内层list\n",
    "    # 递归展开列表\n",
    "    flatten = lambda x: [y for l in x for y in flatten(l)] if type(x) is list else [x]\n",
    "    print('var=', var)\n",
    "    print('flatten=', flatten)\n",
    "    print('var[1]', var[1])\n",
    "    # 定义目标函数 （单价* {ij}运量）\n",
    "    prob += pulp.lpDot(flatten(var), costs.flatten())\n",
    "    # 定义约束条件\n",
    "    for i in range(row):\n",
    "        prob += pulp.lpSum(var[i]) <= x_max[i]\n",
    "    for j in range(col):\n",
    "        prob += pulp.lpSum([var[i][j] for i in range(row)]) <= y_max[j]\n",
    "\n",
    "    prob.solve()\n",
    "    result = {'objective':pulp.value(prob.objective), \\\n",
    "              'var': [[pulp.value(var[i][j]) for j in range(col)] for i in range(row)]}\n",
    "    return result"
   ]
  },
  {
   "cell_type": "code",
   "execution_count": 5,
   "metadata": {},
   "outputs": [
    {
     "name": "stdout",
     "output_type": "stream",
     "text": [
      "row:4 col:6\n",
      "var= [[x00, x01, x02, x03, x04, x05], [x10, x11, x12, x13, x14, x15], [x20, x21, x22, x23, x24, x25], [x30, x31, x32, x33, x34, x35]]\n",
      "flatten= <function trans_program.<locals>.<lambda> at 0x10d1cd430>\n",
      "var[1] [x10, x11, x12, x13, x14, x15]\n",
      "最大值为284230.0\n",
      "各变量的取值为：\n",
      "[[0.0, 0.0, 6.0, 39.0, 31.0, 0.0],\n",
      " [0.0, 0.0, 0.0, 0.0, 29.0, 59.0],\n",
      " [2.0, 56.0, 38.0, 0.0, 0.0, 0.0],\n",
      " [40.0, 0.0, 0.0, 0.0, 0.0, 0.0]]\n"
     ]
    }
   ],
   "source": [
    "costs = np.array([[500, 550, 630, 1000, 800, 700],\n",
    "                  [800, 700, 600, 950, 900, 930],\n",
    "                  [1000, 960, 840, 650, 600, 700],\n",
    "                  [1200, 1040, 980, 860, 880, 780]])\n",
    "# 工厂最大产量\n",
    "max_plant = [76, 88, 96, 40]\n",
    "# 销售地需求量\n",
    "max_cultivation = [42, 56, 44, 39, 60, 59]\n",
    "# 使用线性规划\n",
    "result = farming_program(costs, max_plant, max_cultivation)\n",
    "# 输出结果\n",
    "print(f'最大值为{result[\"objective\"]}')\n",
    "print('各变量的取值为：')\n",
    "pprint(result['var'])"
   ]
  },
  {
   "cell_type": "code",
   "execution_count": null,
   "metadata": {},
   "outputs": [],
   "source": []
  }
 ],
 "metadata": {
  "kernelspec": {
   "display_name": "Python 3",
   "language": "python",
   "name": "python3"
  },
  "language_info": {
   "codemirror_mode": {
    "name": "ipython",
    "version": 3
   },
   "file_extension": ".py",
   "mimetype": "text/x-python",
   "name": "python",
   "nbconvert_exporter": "python",
   "pygments_lexer": "ipython3",
   "version": "3.8.3"
  }
 },
 "nbformat": 4,
 "nbformat_minor": 4
}
