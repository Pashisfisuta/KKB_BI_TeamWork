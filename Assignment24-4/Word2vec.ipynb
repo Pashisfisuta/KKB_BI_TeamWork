{
 "cells": [
  {
   "cell_type": "code",
   "execution_count": 2,
   "metadata": {
    "scrolled": true
   },
   "outputs": [
    {
     "name": "stdout",
     "output_type": "stream",
     "text": [
      "Collecting gensim\n",
      "  Downloading gensim-3.8.3-cp38-cp38-macosx_10_9_x86_64.whl (24.2 MB)\n",
      "\u001b[K     |████████████████████████████████| 24.2 MB 1.7 MB/s eta 0:00:01    |█████                           | 3.9 MB 436 kB/s eta 0:00:47\n",
      "\u001b[?25hRequirement already satisfied: numpy>=1.11.3 in /opt/anaconda3/lib/python3.8/site-packages (from gensim) (1.18.5)\n",
      "Collecting smart-open>=1.8.1\n",
      "  Using cached smart_open-2.1.1.tar.gz (111 kB)\n",
      "Requirement already satisfied: scipy>=0.18.1 in /opt/anaconda3/lib/python3.8/site-packages (from gensim) (1.5.0)\n",
      "Requirement already satisfied: six>=1.5.0 in /opt/anaconda3/lib/python3.8/site-packages (from gensim) (1.15.0)\n",
      "Requirement already satisfied: requests in /opt/anaconda3/lib/python3.8/site-packages (from smart-open>=1.8.1->gensim) (2.24.0)\n",
      "Requirement already satisfied: boto in /opt/anaconda3/lib/python3.8/site-packages (from smart-open>=1.8.1->gensim) (2.49.0)\n",
      "Collecting boto3\n",
      "  Downloading boto3-1.15.0-py2.py3-none-any.whl (129 kB)\n",
      "\u001b[K     |████████████████████████████████| 129 kB 810 kB/s eta 0:00:01\n",
      "\u001b[?25hRequirement already satisfied: idna<3,>=2.5 in /opt/anaconda3/lib/python3.8/site-packages (from requests->smart-open>=1.8.1->gensim) (2.10)\n",
      "Requirement already satisfied: certifi>=2017.4.17 in /opt/anaconda3/lib/python3.8/site-packages (from requests->smart-open>=1.8.1->gensim) (2020.6.20)\n",
      "Requirement already satisfied: chardet<4,>=3.0.2 in /opt/anaconda3/lib/python3.8/site-packages (from requests->smart-open>=1.8.1->gensim) (3.0.4)\n",
      "Requirement already satisfied: urllib3!=1.25.0,!=1.25.1,<1.26,>=1.21.1 in /opt/anaconda3/lib/python3.8/site-packages (from requests->smart-open>=1.8.1->gensim) (1.25.9)\n",
      "Collecting jmespath<1.0.0,>=0.7.1\n",
      "  Using cached jmespath-0.10.0-py2.py3-none-any.whl (24 kB)\n",
      "Collecting botocore<1.19.0,>=1.18.0\n",
      "  Downloading botocore-1.18.0.tar.gz (6.8 MB)\n",
      "\u001b[K     |████████████████████████████████| 6.8 MB 362 kB/s eta 0:00:01     |████████████████████████▊       | 5.3 MB 226 kB/s eta 0:00:07\n",
      "\u001b[?25hCollecting s3transfer<0.4.0,>=0.3.0\n",
      "  Using cached s3transfer-0.3.3-py2.py3-none-any.whl (69 kB)\n",
      "Requirement already satisfied: python-dateutil<3.0.0,>=2.1 in /opt/anaconda3/lib/python3.8/site-packages (from botocore<1.19.0,>=1.18.0->boto3->smart-open>=1.8.1->gensim) (2.8.1)\n",
      "Building wheels for collected packages: smart-open, botocore\n",
      "  Building wheel for smart-open (setup.py) ... \u001b[?25ldone\n",
      "\u001b[?25h  Created wheel for smart-open: filename=smart_open-2.1.1-py3-none-any.whl size=112413 sha256=13873a4df179519f8e113ad54de73b3e6a850d41fa6662d4380651be95e23a9f\n",
      "  Stored in directory: /Users/yangkaixiang/Library/Caches/pip/wheels/75/81/f7/25ad503e6a6a4bd757502b7b8329da19f9ecdbba5965de36c8\n",
      "  Building wheel for botocore (setup.py) ... \u001b[?25ldone\n",
      "\u001b[?25h  Created wheel for botocore: filename=botocore-1.18.0-py2.py3-none-any.whl size=6591889 sha256=70f5c07a6c25aa0916b77527181e03b572285e1526fa4a9a71ff01f5a2fd1b97\n",
      "  Stored in directory: /Users/yangkaixiang/Library/Caches/pip/wheels/c4/e0/e0/1fdb8c08181641451cb5ec05940472dbba1797899b2f98a5f0\n",
      "Successfully built smart-open botocore\n",
      "Installing collected packages: jmespath, botocore, s3transfer, boto3, smart-open, gensim\n",
      "Successfully installed boto3-1.15.0 botocore-1.18.0 gensim-3.8.3 jmespath-0.10.0 s3transfer-0.3.3 smart-open-2.1.1\n"
     ]
    }
   ],
   "source": [
    "!pip install gensim!which python"
   ]
  },
  {
   "cell_type": "code",
   "execution_count": 6,
   "metadata": {},
   "outputs": [
    {
     "name": "stdout",
     "output_type": "stream",
     "text": [
      "Collecting jieba\n",
      "  Using cached jieba-0.42.1.tar.gz (19.2 MB)\n",
      "Building wheels for collected packages: jieba\n",
      "  Building wheel for jieba (setup.py) ... \u001b[?25ldone\n",
      "\u001b[?25h  Created wheel for jieba: filename=jieba-0.42.1-py3-none-any.whl size=19314478 sha256=7430c09043f2a2a3e477c3f8c3c96982293de107a75945b51623deeebe337632\n",
      "  Stored in directory: /Users/yangkaixiang/Library/Caches/pip/wheels/ca/38/d8/dfdfe73bec1d12026b30cb7ce8da650f3f0ea2cf155ea018ae\n",
      "Successfully built jieba\n",
      "Installing collected packages: jieba\n",
      "Successfully installed jieba-0.42.1\n"
     ]
    }
   ],
   "source": [
    "!pip install jieba"
   ]
  },
  {
   "cell_type": "code",
   "execution_count": 8,
   "metadata": {},
   "outputs": [
    {
     "name": "stdout",
     "output_type": "stream",
     "text": [
      "Collecting utils\n",
      "  Downloading utils-1.0.1-py2.py3-none-any.whl (21 kB)\n",
      "Installing collected packages: utils\n",
      "Successfully installed utils-1.0.1\n"
     ]
    }
   ],
   "source": [
    "!pip install utils"
   ]
  },
  {
   "cell_type": "code",
   "execution_count": 4,
   "metadata": {},
   "outputs": [
    {
     "name": "stdout",
     "output_type": "stream",
     "text": [
      "/opt/anaconda3/bin/python\r\n"
     ]
    }
   ],
   "source": [
    "!which python"
   ]
  },
  {
   "cell_type": "code",
   "execution_count": 2,
   "metadata": {},
   "outputs": [],
   "source": [
    "import os\n",
    "import jieba\n",
    "import pandas as pd\n",
    "\n",
    "import multiprocessing\n",
    "from gensim.models import word2vec\n",
    "from gensim.models.word2vec import LineSentence"
   ]
  },
  {
   "cell_type": "code",
   "execution_count": 2,
   "metadata": {},
   "outputs": [],
   "source": [
    "with open('/Users/yangkaixiang/Desktop/three_kingdoms.txt', 'r') as f:\n",
    "    document = f.read()"
   ]
  },
  {
   "cell_type": "code",
   "execution_count": 3,
   "metadata": {},
   "outputs": [
    {
     "data": {
      "text/plain": [
       "'三国演义\\n作者：罗贯中\\n\\n正文 第一回 '"
      ]
     },
     "execution_count": 3,
     "metadata": {},
     "output_type": "execute_result"
    }
   ],
   "source": [
    "document[:20]"
   ]
  },
  {
   "cell_type": "code",
   "execution_count": 8,
   "metadata": {},
   "outputs": [
    {
     "name": "stderr",
     "output_type": "stream",
     "text": [
      "Building prefix dict from the default dictionary ...\n",
      "Loading model from cache /var/folders/gj/2mf5qmrs21ngcz96t_z2316r0000gn/T/jieba.cache\n",
      "Loading model cost 0.937 seconds.\n",
      "Prefix dict has been built successfully.\n"
     ]
    }
   ],
   "source": [
    "# 字词分割，对整个文件内容进行字词分割\n",
    "with open('/Users/yangkaixiang/Desktop/three_kingdoms.txt', 'r') as f:\n",
    "    document = f.read()\n",
    "    # jieba分词\n",
    "    document_cut = jieba.cut(document)\n",
    "    sentence_segment=[]\n",
    "    for word in document_cut:\n",
    "        sentence_segment.append(word)\n",
    "    result = ' '.join(sentence_segment)\n",
    "    with open('/Users/yangkaixiang/Desktop/three_kingdoms_seg.txt', 'w') as f2:\n",
    "                f2.write(result)"
   ]
  },
  {
   "cell_type": "code",
   "execution_count": 10,
   "metadata": {},
   "outputs": [
    {
     "data": {
      "text/plain": [
       "'三国演义 \\n 作者 ： 罗贯中 \\n \\n '"
      ]
     },
     "execution_count": 10,
     "metadata": {},
     "output_type": "execute_result"
    }
   ],
   "source": [
    "result[:20]"
   ]
  },
  {
   "cell_type": "code",
   "execution_count": 9,
   "metadata": {},
   "outputs": [],
   "source": [
    "sentences = word2vec.LineSentence('/Users/yangkaixiang/Desktop/three_kingdoms_seg.txt') \n",
    "\n",
    "model = word2vec.Word2Vec(sentences,min_count=1,window=3,size=100)"
   ]
  },
  {
   "cell_type": "code",
   "execution_count": 10,
   "metadata": {},
   "outputs": [
    {
     "data": {
      "text/plain": [
       "[('关公', 0.9966310858726501),\n",
       " ('先主', 0.9959732890129089),\n",
       " ('孔明', 0.9957247972488403),\n",
       " ('孙权', 0.9933149814605713),\n",
       " ('众将', 0.9930603504180908),\n",
       " ('后主', 0.9924901723861694),\n",
       " ('令取', 0.9922796487808228),\n",
       " ('又', 0.992056667804718),\n",
       " ('璋', 0.9919949769973755),\n",
       " ('夫人', 0.9915884733200073)]"
      ]
     },
     "execution_count": 10,
     "metadata": {},
     "output_type": "execute_result"
    }
   ],
   "source": [
    "similars10 = model.wv.most_similar(positive=['曹操'], topn=10)\n",
    "similars10"
   ]
  },
  {
   "cell_type": "code",
   "execution_count": 11,
   "metadata": {
    "scrolled": true
   },
   "outputs": [
    {
     "data": {
      "text/plain": [
       "[('主公', 0.9961975812911987),\n",
       " ('丞相', 0.9958915710449219),\n",
       " ('此', 0.9956167936325073),\n",
       " ('是', 0.9951804876327515),\n",
       " ('臣', 0.9942126274108887),\n",
       " ('敢', 0.9940931797027588),\n",
       " ('笑', 0.9940665364265442),\n",
       " ('今', 0.9935681819915771),\n",
       " ('如此', 0.9934374094009399),\n",
       " ('先生', 0.9932020902633667)]"
      ]
     },
     "execution_count": 11,
     "metadata": {},
     "output_type": "execute_result"
    }
   ],
   "source": [
    "model.wv.most_similar(positive=['曹操', '刘备'], negative=['张飞'])"
   ]
  },
  {
   "cell_type": "code",
   "execution_count": 12,
   "metadata": {},
   "outputs": [
    {
     "data": {
      "text/plain": [
       "4"
      ]
     },
     "execution_count": 12,
     "metadata": {},
     "output_type": "execute_result"
    }
   ],
   "source": [
    "# 4个CPU\n",
    "multiprocessing.cpu_count()"
   ]
  },
  {
   "cell_type": "code",
   "execution_count": 13,
   "metadata": {},
   "outputs": [],
   "source": [
    "model2 = word2vec.Word2Vec(sentences, \n",
    "                           size=128,\n",
    "                           window=5, # 句子中当前单词和被预测单词的最大距离\n",
    "                           min_count=5, #  # 需要训练词语的最小出现次数，默认为5\n",
    "                           workers=multiprocessing.cpu_count() # 训练使用的线程数，默认为1即不使用多线程\n",
    "                          )"
   ]
  },
  {
   "cell_type": "code",
   "execution_count": 14,
   "metadata": {},
   "outputs": [
    {
     "data": {
      "text/plain": [
       "[('丞相', 0.9922670125961304),\n",
       " ('臣', 0.990966260433197),\n",
       " ('出此', 0.9881789088249207),\n",
       " ('叹', 0.9850658178329468),\n",
       " ('陛下', 0.9844874739646912),\n",
       " ('朕', 0.9840854406356812),\n",
       " ('何人', 0.9838062524795532),\n",
       " ('今', 0.9833428859710693),\n",
       " ('何故', 0.9827408790588379),\n",
       " ('吾', 0.9826945662498474)]"
      ]
     },
     "execution_count": 14,
     "metadata": {},
     "output_type": "execute_result"
    }
   ],
   "source": [
    "model2.wv.most_similar(positive=['曹操', '刘备'], negative=['张飞'])"
   ]
  }
 ],
 "metadata": {
  "kernelspec": {
   "display_name": "Python 3",
   "language": "python",
   "name": "python3"
  },
  "language_info": {
   "codemirror_mode": {
    "name": "ipython",
    "version": 3
   },
   "file_extension": ".py",
   "mimetype": "text/x-python",
   "name": "python",
   "nbconvert_exporter": "python",
   "pygments_lexer": "ipython3",
   "version": "3.8.3"
  }
 },
 "nbformat": 4,
 "nbformat_minor": 4
}
