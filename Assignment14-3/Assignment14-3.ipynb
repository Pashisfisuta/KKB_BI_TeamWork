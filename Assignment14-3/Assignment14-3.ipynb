{
 "cells": [
  {
   "cell_type": "code",
   "execution_count": 2,
   "metadata": {},
   "outputs": [
    {
     "name": "stdout",
     "output_type": "stream",
     "text": [
      "Collecting jieba\n",
      "\u001b[?25l  Downloading https://files.pythonhosted.org/packages/c6/cb/18eeb235f833b726522d7ebed54f2278ce28ba9438e3135ab0278d9792a2/jieba-0.42.1.tar.gz (19.2MB)\n",
      "\u001b[K    100% |████████████████████████████████| 19.2MB 763kB/s ta 0:00:011\n",
      "\u001b[?25hBuilding wheels for collected packages: jieba\n",
      "  Running setup.py bdist_wheel for jieba ... \u001b[?25ldone\n",
      "\u001b[?25h  Stored in directory: /Users/yangkaixiang/Library/Caches/pip/wheels/af/e4/8e/5fdd61a6b45032936b8f9ae2044ab33e61577950ce8e0dec29\n",
      "Successfully built jieba\n",
      "Installing collected packages: jieba\n",
      "Successfully installed jieba-0.42.1\n"
     ]
    }
   ],
   "source": [
    "!pip install jieba"
   ]
  },
  {
   "cell_type": "code",
   "execution_count": 4,
   "metadata": {},
   "outputs": [],
   "source": [
    "#加载所需的包\n",
    "import jieba  \n",
    "import numpy as np\n",
    "import pandas as pd\n",
    "from sklearn.cluster import KMeans \n",
    "from collections import defaultdict\n",
    "from matplotlib import pyplot as plt\n",
    "from sklearn.preprocessing import Normalizer # 把tfidf归一化为单位向量\n",
    "from sklearn.naive_bayes import MultinomialNB # 多项式贝叶斯模型\n",
    "from sklearn.model_selection import train_test_split # 拆分数据集\n",
    "from sklearn.feature_extraction.text import CountVectorizer, TfidfTransformer # 统计词频、计算tfidf\n",
    "from sklearn.metrics import classification_report # 分类报告 评估模型"
   ]
  },
  {
   "cell_type": "code",
   "execution_count": 6,
   "metadata": {},
   "outputs": [
    {
     "name": "stdout",
     "output_type": "stream",
     "text": [
      "(89611, 7)\n",
      "      id      author                  source  \\\n",
      "0  89617         NaN  快科技@http://www.kkj.cn/   \n",
      "1  89616         NaN  快科技@http://www.kkj.cn/   \n",
      "2  89615         NaN  快科技@http://www.kkj.cn/   \n",
      "3  89614         NaN                     新华社   \n",
      "4  89613  胡淑丽_MN7479                   深圳大件事   \n",
      "\n",
      "                                             content  \\\n",
      "0  此外，自本周（6月12日）起，除小米手机6等15款机型外，其余机型已暂停更新发布（含开发版/...   \n",
      "1  骁龙835作为唯一通过Windows 10桌面平台认证的ARM处理器，高通强调，不会因为只考...   \n",
      "2  此前的一加3T搭载的是3400mAh电池，DashCharge快充规格为5V/4A。\\r\\n...   \n",
      "3    这是6月18日在葡萄牙中部大佩德罗冈地区拍摄的被森林大火烧毁的汽车。新华社记者张立云摄\\r\\n   \n",
      "4  （原标题：44岁女子跑深圳约会网友被拒，暴雨中裸身奔走……）\\r\\n@深圳交警微博称：昨日清...   \n",
      "\n",
      "                                             feature  \\\n",
      "0  {\"type\":\"科技\",\"site\":\"cnbeta\",\"commentNum\":\"37\"...   \n",
      "1  {\"type\":\"科技\",\"site\":\"cnbeta\",\"commentNum\":\"15\"...   \n",
      "2  {\"type\":\"科技\",\"site\":\"cnbeta\",\"commentNum\":\"18\"...   \n",
      "3  {\"type\":\"国际新闻\",\"site\":\"环球\",\"commentNum\":\"0\",\"j...   \n",
      "4  {\"type\":\"新闻\",\"site\":\"网易热门\",\"commentNum\":\"978\",...   \n",
      "\n",
      "                           title  \\\n",
      "0           小米MIUI 9首批机型曝光：共计15款   \n",
      "1     骁龙835在Windows 10上的性能表现有望改善   \n",
      "2      一加手机5细节曝光：3300mAh、充半小时用1天   \n",
      "3  葡森林火灾造成至少62人死亡 政府宣布进入紧急状态（组图）   \n",
      "4       44岁女子约网友被拒暴雨中裸奔 交警为其披衣相随   \n",
      "\n",
      "                                                 url  \n",
      "0     http://www.cnbeta.com/articles/tech/623597.htm  \n",
      "1     http://www.cnbeta.com/articles/tech/623599.htm  \n",
      "2     http://www.cnbeta.com/articles/tech/623601.htm  \n",
      "3  http://world.huanqiu.com/hot/2017-06/10866126....  \n",
      "4  http://news.163.com/17/0618/00/CN617P3Q0001875...  \n"
     ]
    }
   ],
   "source": [
    "#读取数据探查数据的记录与字段数，查看前五行数据\n",
    "df = pd.read_csv('sqlResult.csv', encoding='gb18030')\n",
    "print(df.shape)\n",
    "print(df.head())"
   ]
  },
  {
   "cell_type": "code",
   "execution_count": 7,
   "metadata": {},
   "outputs": [
    {
     "name": "stdout",
     "output_type": "stream",
     "text": [
      "(87054, 7)\n"
     ]
    }
   ],
   "source": [
    "#删掉content列内容为空的记录并查看剩下的数据量89611-87054=5257\n",
    "df = df.dropna(subset=['content'])\n",
    "print(df.shape)"
   ]
  },
  {
   "cell_type": "code",
   "execution_count": 8,
   "metadata": {},
   "outputs": [],
   "source": [
    "with open('chinese_stopwords.txt', 'r', encoding='utf-8') as file:\n",
    "    # 直接file.readlines()得到的元素最后是换行符，用切片去掉后面的换行符\n",
    "    stopwords = [i[:-1] for i in file.readlines()]\n",
    "    \n",
    "def split_text(text):\n",
    "    text = text.replace(\" \",\"\").replace(\"\\n\",'')\n",
    "    text2 = jieba.cut(text)\n",
    "    result = \" \".join([x for x in text2 if x not in stopwords])\n",
    "    return result"
   ]
  },
  {
   "cell_type": "code",
   "execution_count": 12,
   "metadata": {},
   "outputs": [
    {
     "data": {
      "text/plain": [
       "['，', '的', '。', '、', '在', '了', '是', '\\u3000', '“', '”']"
      ]
     },
     "execution_count": 12,
     "metadata": {},
     "output_type": "execute_result"
    }
   ],
   "source": [
    "stopwords[:10]"
   ]
  },
  {
   "cell_type": "code",
   "execution_count": 10,
   "metadata": {},
   "outputs": [
    {
     "name": "stderr",
     "output_type": "stream",
     "text": [
      "Building prefix dict from the default dictionary ...\n",
      "Dumping model to file cache /var/folders/gj/2mf5qmrs21ngcz96t_z2316r0000gn/T/jieba.cache\n",
      "Loading model cost 1.232 seconds.\n",
      "Prefix dict has been built successfully.\n"
     ]
    },
    {
     "name": "stdout",
     "output_type": "stream",
     "text": [
      "此外 本周 除 小米 手机 款 机型 外 机型 暂停 更新 发布 含 开发 版 体验版 内测 稳定版 暂不受 影响 确保 工程师 集中 全部 精力 进行 系统优化 工作 有人 猜测 精力 主要 用到 MIUI9 研发 之中 \r",
      " MIUI8 去年 发布 距今已有 一年 有余 更新换代 \r",
      " 当然 MIUI9 确切 信息 等待 官方消息 \r\n"
     ]
    }
   ],
   "source": [
    "print(split_text(df.iloc[0].content))"
   ]
  },
  {
   "cell_type": "code",
   "execution_count": 20,
   "metadata": {},
   "outputs": [
    {
     "data": {
      "text/plain": [
       "array(['此外 本周 除 小米 手机 款 机型 外 机型 暂停 更新 发布 含 开发 版 体验版 内测 稳定版 暂不受 影响 确保 工程师 集中 全部 精力 进行 系统优化 工作 有人 猜测 精力 主要 用到 MIUI9 研发 之中 \\r MIUI8 去年 发布 距今已有 一年 有余 更新换代 \\r 当然 MIUI9 确切 信息 等待 官方消息 \\r',\n",
       "       '骁龙 835 唯一 Windows10 桌面 平台 认证 ARM 处理器 高通 强调 不会 只 考虑 性能 屏蔽掉 小 核心 相反 正 联手 微软 找到 一种 适合 桌面 平台 兼顾 性能 功耗 完美 方案 \\r 报道 微软 已经 拿到 一些 源码 Windows10 更好 理解 big little 架构 \\r 资料 显示 骁龙 835 一款 集成 CPU GPU 基带 蓝牙 Wi Fi SoC 传统 Wintel 方案 节省 至少 30% PCB 空间 \\r 按计划 今年 Q4 华硕 惠普 联想 首发 骁龙 835Win10 电脑 预计 均 二合一 形态 产品 \\r 当然 高通 骁龙 未来 也许 见到 三星 Exynos 联发科 华为 麒麟 小米 澎湃 进入 Windows10 桌面 平台 \\r',\n",
       "       '此前 一加 3T 搭载 3400mAh 电池 DashCharge 快充 规格 5V 4A \\r 电池 缩水 可能 刘作 虎 所说 一加 手机 市面 轻薄 大屏 旗舰 设定 \\r 按照 目前 掌握 资料 一加 手机 拥有 5.5 寸 1080P 三星 AMOLED 显示屏 6G 8GBRAM 64GB 128GBROM 双 1600 万 摄像头 备货 量 惊喜 \\r 京东 泄露 信息 一加 售价 xx99 应该 2799 2899 2999 \\r',\n",
       "       ...,\n",
       "       '\\\\ n \\\\ n2017 29 法国巴黎 郊外 凡尔赛宫 法国 总统 马克 龙 出席 新闻 发布会 新华 法新 \\\\ n \\\\ n 新华社 北京 日电 记者 张 旌 法国 定于 举行 议会选举 首轮 投票 最新 民调 结果显示 总统 埃马 纽埃 尔 马克 龙 领导 共和国 前进 运动 这场 选举 获得 压倒性 胜利 不仅 赢得 议会 多数 席位 数量 可望 创下 1968 以来 历届 执政党 最高值 \\\\ n 马克 龙 坐 稳 总统 宝座 赢得 这场 选举 至关重要 法国议会 选举 有着 第三轮 选举 之称 决定 议会 多数派 归属 影响 法国政府 未来 五年 实际 执政 方向 \\\\ n 民调 机构 益普索 集团 公布 最新 民调 结果显示 本月 举行 议会选举 首轮 投票 马克 龙 领导 共和国 前进 运动 得票率 可达 29.5% 相比之下 共和党 阵营 得票率 预计 23% 极右翼 国民 阵线 得票率 预计 17% 极 左翼 政治势力 不屈 法国 得票率 预计 12.5% 社会党 有望 获得 8.5% 选票 \\\\ n 这项 民调 显示 定于 18 举行 议会选举 第二轮 投票 共和国 前进 运动 获得 议会下院 577 议席 385 415 议席 \\\\ n 一周 进行 一场 类似 民调 共和国 前进 运动 预计 得票率 高达 31% 新政府 两名 部长 曝 牵涉 空饷 门 共和国 前进 运动 支持率 似乎 下跌 之势 \\\\ n 不过 民调 结果显示 空饷 门 事件 并未 影响 马克 龙 民众 心目 形象 约 60% 受访者 表示 马克 龙 表现 感到 满意 \\\\ n 共和国 前进 运动 去年 成立 眼下 议会 无 席位 此前 有人 担忧 共和国 前进 运动 不能 议会选举 赢得 多数 席位 马克 龙 届时 被迫 组建 联合政府 沦为 名义 总统 \\\\ n',\n",
       "       '\\\\ n \\\\ n2017 25 美国 马萨诸塞州 剑桥市 哈佛大学 毕业生 毕业典礼 欢呼 新华 欧新 ; ; ; ; 新华社 北京 日电 \\\\ n \\\\ n 记者 \\\\ n 夏文辉 \\\\ n 美国哈佛大学 知名 校园 媒体 哈佛 深红色 消息 哈佛大学 取消 至少 名 新生 入学 资格 社交 媒体 脸 书上 发表 涉及 性 种族歧视 儿童 虐待 极端主义 不当 内容 美联社 媒体 转引 报道 \\\\ n 报道 学生 去年 脸 书上 建立 一个 群 用于 发布 共享 信息 一些 内容 不堪入目 比如 一篇 文章 转载 一个 死 叙利亚 轰炸 儿童 血腥 照片 图片 不仅 没有 打码 不少 学生 对此 恶意 戏谑 \\\\ n 哈佛 深红色 报道 今年 哈佛大学 招生 部门 部分 学生 发函 要求 解释 社交 媒体 发布 极端 不当 内容 表示 审核 入学 情况 校方 通知 不必 参加 新生 到校 访问 活动 大约 一周 至少 名 学生 接到 通知 入学 资格 哈佛大学 取消 \\\\ n 哈佛 深红色 没有 给出 未能 入学 学生 名字 美联社 未能 联系 具体 学生 哈佛大学 发言人 理查德 戴恩 回复 路透社 采访 询问 校方 不会 公开 讨论 申请 入 学者 情况 \\\\ n 按照 哈佛大学 规定 以下 几种 情况 可能 学校 取消 入学 资格 高中 未能 毕业 入学 申请 造假 申请人 存在 有违 正直 诚实 品行 情况 \\\\ n',\n",
       "       '新华社 德国 杜塞尔多夫 ６ ６ 日电 题 乒乓 女球迷 \\\\ n 新华社 记者 王子江 张寒 \\\\ n 熊 老师 离开 上海 特意 花 一千多元 买 一只 张继科 代言 球拍 准备 世界 锦标赛 期间 赢 比赛 球拍 签个 名 没想到 张继科 ３ ２ 强赛 输给 韩国 李尚洙 \\\\ n 拍子 算是 白 过来 熊 老师 摇头 就算 信仰 充值 \\\\ n 信仰 充值 乒乓球 粉丝 圈 非常 流行 词汇 简单 来说 喜欢 明星 球队 花钱 \\\\ n 熊 老师 这位 ２ ２ 岁 成都 姑娘 艺名 艺名 这一 称呼 形容 熊 老师 真实 身份 上海 一所 名牌大学 会计专业 大四 学生 其他同学 正在 抓紧 毕业 找 工作 一个 人溜到 德国 观看 世乒赛 带 张继科 球拍 熊 老师 不是 张 铁粉 喜欢 张继科输 比赛 之后 一堆 科迷 赛场 外 抱头痛哭 场景 显得 比较 理智 但是 科迷 数量 众多 这种 散户 说不出 羡慕 \\\\ n 竟然 连续 两天 买断 一面 看 台上 所有 门票 为的是 挂 带有 张继科 名字 旗子 两天 就要 花 ４ ５ 万 人民币 熊 老师 直喊 过分 \\\\ n 熊 老师 １ ０ 名 中国队 女球迷 挤 一套 三居室 厨房 柜子 塞 很多 方便面 至少 三个 人挤 一个 房间 条件 的确 差 点 住宿费 平摊 下来 每天 大约 ２ ０ ０ 人民币 大家 心里 平衡 很多 \\\\ n 房间 所有人 网上 认识 大家 不全 知道 对方 真实 姓名 身份 艺名 来自 广州 茶茶 茶茶 已经 工作 几年 这次 利用 假期 出来 \\\\ n 所有人 提前 大约 半年 国际乒联 官 网上 买 比赛 通票 观看 全程 所有 比赛 票价 大约 两千块 人民币 ５ 月底 ６ 月初 不是 旅游 旺季 机票 不是 太贵 庆幸 \\\\ n 里面 幸运 应该 井井 这次 身份 一家 时尚 媒体 记者 申请 记者证 每天 背着 一个 相机 场地 里边 拍照 边 看球 提前 大约 一个 星期 来到 德国 比赛 附近 几个 城市 玩 玩 一趟 世乒赛 旅 非常 充实 \\\\ n 十几个 人中 球迷 一位 来自 香港 女 大学生 看上去 文静 内向 其他人 香港 妹 香港 妹 熊 老师 学 会计专业 告诉 父母 这次 出来 德国 看 朋友 住宿 球票 花费 平时 家教 挣 父母 支援 机票 钱 香港 杜塞尔多夫 往返 三千多元 人民币 内地 球迷 非常 羡慕 \\\\ n 香港 妹 以前 懂 乒乓球 去年 约 奥运会 一家人 边 吃饭 边 看电视 正好 电视直播 乒乓球 比赛 从此 成 中国队 球迷 \\\\ n 香港 妹 更让人 羡慕 德国 不用 签证 不过 熊 老师 欣慰 地说 这次 德国 签证 以后 日本 看 比赛 签证 容易 \\\\ n 女孩子 大部分 第一次 出国 以前 国内 看 比赛 熊 老师 自称 几年 一些 非常 奇葩 赛场 去年 一个 比赛 东北 城市 举行 赛场 过于 偏僻 手机 上点 外卖 最后 却 强制 退单 饿着肚子 看 完 比赛 \\\\ n 女球迷 每天 早出晚归 看 完 比赛 回来 有时候 近 半夜 回来 之后 还要 互相 交流 当天 看球 感想 十几个 女孩子 叽叽喳喳 吵得 楼上 一个 德国 老太太 下来 敲门 保持 安静 聊着 聊着 仍然 自觉 嗓门 起来 \\\\ n 世乒赛 闭幕 那天 晚上 餐馆 吃 顿 散伙饭 中国队 ４ 冠军 每个 心情 支持 偶像 完全相同 好几 支持 刘诗雯 女单 半决赛 输 小伙伴 一起 丧 久 井井 朋友 圈里 \\\\ n 告别 那天 大家 不约而同 朋友 圈里 晒 聚餐 照片 伤感 告别 \\\\ n 走 杜塞尔多夫 井井 \\\\ n 呆 一个 星期 走 有点 舍得 都还没 好好 看看 城市 再见 杜塞 茶茶 \\\\ n 熊 老师 最后 一条 朋友圈 发 丁宁 刘诗雯 赢得 女双 冠军 照片 \\\\ n 懂事 之前 情动 以后 长 不过 一天 留不住 算不出 流 写道 完 \\\\ n'],\n",
       "      dtype='<U20510')"
      ]
     },
     "execution_count": 20,
     "metadata": {},
     "output_type": "execute_result"
    }
   ],
   "source": [
    "corpus = np.array(list(map(split_text,[str(i) for i in df.content])))\n",
    "corpus"
   ]
  },
  {
   "cell_type": "code",
   "execution_count": 21,
   "metadata": {},
   "outputs": [
    {
     "data": {
      "text/plain": [
       "(87054,)"
      ]
     },
     "execution_count": 21,
     "metadata": {},
     "output_type": "execute_result"
    }
   ],
   "source": [
    "corpus.shape"
   ]
  },
  {
   "cell_type": "code",
   "execution_count": 26,
   "metadata": {},
   "outputs": [
    {
     "name": "stdout",
     "output_type": "stream",
     "text": [
      "(87054, 884)\n"
     ]
    }
   ],
   "source": [
    "countervectorizer = CountVectorizer(encoding='gb18030',min_df=0.015)\n",
    "countvector = countervectorizer.fit_transform(corpus)\n",
    "\n",
    "tfidftransformer = TfidfTransformer()\n",
    "tfidf = tfidftransformer.fit_transform(countvector)\n",
    "print(tfidf.shape)"
   ]
  },
  {
   "cell_type": "code",
   "execution_count": 28,
   "metadata": {},
   "outputs": [],
   "source": [
    "label = list(map(lambda source: 1 if '新华社' in str(source) else 0,df.source))"
   ]
  },
  {
   "cell_type": "code",
   "execution_count": 29,
   "metadata": {},
   "outputs": [],
   "source": [
    "x_train, x_test, y_train, y_test = train_test_split(tfidf.toarray(), label, test_size=0.3)"
   ]
  },
  {
   "cell_type": "code",
   "execution_count": 35,
   "metadata": {},
   "outputs": [
    {
     "data": {
      "text/plain": [
       "((60937, 884), (26117, 884), (60937,), (26117,))"
      ]
     },
     "execution_count": 35,
     "metadata": {},
     "output_type": "execute_result"
    }
   ],
   "source": [
    "x_train.shape, x_test.shape, np.array(y_train).shape, np.array(y_test).shape"
   ]
  },
  {
   "cell_type": "code",
   "execution_count": 36,
   "metadata": {},
   "outputs": [
    {
     "data": {
      "text/plain": [
       "MultinomialNB(alpha=1.0, class_prior=None, fit_prior=True)"
      ]
     },
     "execution_count": 36,
     "metadata": {},
     "output_type": "execute_result"
    }
   ],
   "source": [
    "#创建模型\n",
    "estimator = MultinomialNB()\n",
    "estimator"
   ]
  },
  {
   "cell_type": "code",
   "execution_count": 37,
   "metadata": {},
   "outputs": [
    {
     "data": {
      "text/plain": [
       "MultinomialNB(alpha=1.0, class_prior=None, fit_prior=True)"
      ]
     },
     "execution_count": 37,
     "metadata": {},
     "output_type": "execute_result"
    }
   ],
   "source": [
    "estimator.fit(x_train, y_train)"
   ]
  },
  {
   "cell_type": "code",
   "execution_count": 43,
   "metadata": {},
   "outputs": [],
   "source": [
    "y_pred = estimator.predict(x_test)"
   ]
  },
  {
   "cell_type": "code",
   "execution_count": 54,
   "metadata": {},
   "outputs": [
    {
     "name": "stdout",
     "output_type": "stream",
     "text": [
      "              precision    recall  f1-score   support\n",
      "\n",
      "      others       0.43      0.65      0.52      2525\n",
      "         新华社       0.96      0.91      0.93     23592\n",
      "\n",
      "   micro avg       0.88      0.88      0.88     26117\n",
      "   macro avg       0.69      0.78      0.72     26117\n",
      "weighted avg       0.91      0.88      0.89     26117\n",
      "\n"
     ]
    }
   ],
   "source": [
    "y_test = np.array(y_test)\n",
    "print(classification_report(y_test, y_pred, labels=[0, 1], target_names=['others', '新华社']))"
   ]
  },
  {
   "cell_type": "code",
   "execution_count": 55,
   "metadata": {},
   "outputs": [
    {
     "name": "stdout",
     "output_type": "stream",
     "text": [
      "87054\n"
     ]
    },
    {
     "data": {
      "text/plain": [
       "array([0, 0, 0, ..., 1, 0, 1])"
      ]
     },
     "execution_count": 55,
     "metadata": {},
     "output_type": "execute_result"
    }
   ],
   "source": [
    "prediction = estimator.predict(tfidf.toarray())\n",
    "print(len(prediction))\n",
    "prediction"
   ]
  },
  {
   "cell_type": "code",
   "execution_count": 56,
   "metadata": {},
   "outputs": [
    {
     "data": {
      "text/plain": [
       "87054"
      ]
     },
     "execution_count": 56,
     "metadata": {},
     "output_type": "execute_result"
    }
   ],
   "source": [
    "len(label)"
   ]
  },
  {
   "cell_type": "code",
   "execution_count": 52,
   "metadata": {},
   "outputs": [
    {
     "data": {
      "text/html": [
       "<div>\n",
       "<style scoped>\n",
       "    .dataframe tbody tr th:only-of-type {\n",
       "        vertical-align: middle;\n",
       "    }\n",
       "\n",
       "    .dataframe tbody tr th {\n",
       "        vertical-align: top;\n",
       "    }\n",
       "\n",
       "    .dataframe thead th {\n",
       "        text-align: right;\n",
       "    }\n",
       "</style>\n",
       "<table border=\"1\" class=\"dataframe\">\n",
       "  <thead>\n",
       "    <tr style=\"text-align: right;\">\n",
       "      <th></th>\n",
       "      <th>prediction</th>\n",
       "      <th>labels</th>\n",
       "    </tr>\n",
       "  </thead>\n",
       "  <tbody>\n",
       "    <tr>\n",
       "      <th>0</th>\n",
       "      <td>0</td>\n",
       "      <td>0</td>\n",
       "    </tr>\n",
       "    <tr>\n",
       "      <th>1</th>\n",
       "      <td>0</td>\n",
       "      <td>0</td>\n",
       "    </tr>\n",
       "    <tr>\n",
       "      <th>2</th>\n",
       "      <td>0</td>\n",
       "      <td>0</td>\n",
       "    </tr>\n",
       "  </tbody>\n",
       "</table>\n",
       "</div>"
      ],
      "text/plain": [
       "   prediction  labels\n",
       "0           0       0\n",
       "1           0       0\n",
       "2           0       0"
      ]
     },
     "execution_count": 52,
     "metadata": {},
     "output_type": "execute_result"
    }
   ],
   "source": [
    "compare_news_df = pd.DataFrame({\"prediction\": prediction, 'labels': label})\n",
    "compare_news_df.head(3)"
   ]
  },
  {
   "cell_type": "code",
   "execution_count": 60,
   "metadata": {},
   "outputs": [
    {
     "name": "stdout",
     "output_type": "stream",
     "text": [
      "(2825, 2)\n"
     ]
    },
    {
     "data": {
      "text/html": [
       "<div>\n",
       "<style scoped>\n",
       "    .dataframe tbody tr th:only-of-type {\n",
       "        vertical-align: middle;\n",
       "    }\n",
       "\n",
       "    .dataframe tbody tr th {\n",
       "        vertical-align: top;\n",
       "    }\n",
       "\n",
       "    .dataframe thead th {\n",
       "        text-align: right;\n",
       "    }\n",
       "</style>\n",
       "<table border=\"1\" class=\"dataframe\">\n",
       "  <thead>\n",
       "    <tr style=\"text-align: right;\">\n",
       "      <th></th>\n",
       "      <th>prediction</th>\n",
       "      <th>labels</th>\n",
       "    </tr>\n",
       "  </thead>\n",
       "  <tbody>\n",
       "    <tr>\n",
       "      <th>4</th>\n",
       "      <td>1</td>\n",
       "      <td>0</td>\n",
       "    </tr>\n",
       "    <tr>\n",
       "      <th>24</th>\n",
       "      <td>1</td>\n",
       "      <td>0</td>\n",
       "    </tr>\n",
       "  </tbody>\n",
       "</table>\n",
       "</div>"
      ],
      "text/plain": [
       "    prediction  labels\n",
       "4            1       0\n",
       "24           1       0"
      ]
     },
     "execution_count": 60,
     "metadata": {},
     "output_type": "execute_result"
    }
   ],
   "source": [
    "# 在实际非新华社的文章中找出预测为新华社风格的文章\n",
    "compare_news_df_new_index = compare_news_df[(compare_news_df['labels'] == 0) & (compare_news_df['prediction'] == 1)]\n",
    "print(compare_news_df_new_index.shape)\n",
    "compare_news_df_new_index.head(2)"
   ]
  },
  {
   "cell_type": "code",
   "execution_count": 59,
   "metadata": {},
   "outputs": [
    {
     "data": {
      "text/plain": [
       "Int64Index([    3,     4,    24,    25,    28,    30,    32,    35,    37,\n",
       "               38,\n",
       "            ...\n",
       "            87042, 87043, 87044, 87045, 87046, 87047, 87048, 87049, 87051,\n",
       "            87053],\n",
       "           dtype='int64', length=74282)"
      ]
     },
     "execution_count": 59,
     "metadata": {},
     "output_type": "execute_result"
    }
   ],
   "source": [
    "compare_news_df[compare_news_df['prediction'] == 1].index"
   ]
  },
  {
   "cell_type": "code",
   "execution_count": 58,
   "metadata": {},
   "outputs": [
    {
     "data": {
      "text/plain": [
       "Int64Index([   0,    1,    2,    4,    5,    6,    7,    8,    9,   10,\n",
       "            ...\n",
       "            8546, 8547, 8548, 8549, 8550, 8551, 8552, 8553, 8554, 8555],\n",
       "           dtype='int64', length=8380)"
      ]
     },
     "execution_count": 58,
     "metadata": {},
     "output_type": "execute_result"
    }
   ],
   "source": [
    "# 实际不是新华社的新闻的 index\n",
    "no_xinhua_news_index = compare_news_df[compare_news_df['labels'] == 0].index\n",
    "no_xinhua_news_index"
   ]
  },
  {
   "cell_type": "markdown",
   "metadata": {},
   "source": [
    "### 结论：8380条不是新华社发布的，其中的2825条新闻与新华社风格相似，属于疑似抄袭新华社的新闻"
   ]
  }
 ],
 "metadata": {
  "kernelspec": {
   "display_name": "Python 3",
   "language": "python",
   "name": "python3"
  },
  "language_info": {
   "codemirror_mode": {
    "name": "ipython",
    "version": 3
   },
   "file_extension": ".py",
   "mimetype": "text/x-python",
   "name": "python",
   "nbconvert_exporter": "python",
   "pygments_lexer": "ipython3",
   "version": "3.7.1"
  }
 },
 "nbformat": 4,
 "nbformat_minor": 2
}
