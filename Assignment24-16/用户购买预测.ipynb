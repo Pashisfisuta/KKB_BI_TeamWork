{
 "cells": [
  {
   "cell_type": "code",
   "execution_count": null,
   "metadata": {
    "collapsed": false
   },
   "outputs": [],
   "source": [
    "import numpy as np  # linear algebra\n",
    "import pandas as pd  #\n",
    "from datetime import datetime, date, timedelta\n",
    "from scipy.stats import skew  # for some statistics\n",
    "from scipy.special import boxcox1p\n",
    "from scipy.stats import boxcox_normmax\n",
    "from sklearn.linear_model import ElasticNetCV, LassoCV, RidgeCV,Ridge,Lasso,ElasticNet\n",
    "from sklearn.ensemble import GradientBoostingRegressor, RandomForestRegressor,RandomForestClassifier\n",
    "from sklearn.feature_selection import mutual_info_regression\n",
    "from sklearn.svm import SVR, LinearSVC\n",
    "from sklearn.pipeline import make_pipeline,Pipeline\n",
    "from sklearn.preprocessing import RobustScaler, LabelEncoder\n",
    "from sklearn.model_selection import KFold, cross_val_score, train_test_split\n",
    "from sklearn.metrics import mean_squared_error\n",
    "from sklearn.model_selection import GridSearchCV\n",
    "from sklearn.model_selection import train_test_split\n",
    "import os\n",
    "import re\n",
    "import seaborn as sns\n",
    "import matplotlib.pyplot as plt\n",
    "import time\n",
    "from itertools import product\n",
    "import datetime as dt\n",
    "import calendar\n",
    "import gc\n",
    "\n",
    "RANDOM_SEED = 42\n",
    "# 引入中文字体\n",
    "from matplotlib.font_manager import FontProperties\n",
    "myfont = FontProperties(fname=\"/home/aistudio/NotoSansCJKsc-Light.otf\", size=12)"
   ]
  },
  {
   "cell_type": "code",
   "execution_count": null,
   "metadata": {
    "collapsed": false
   },
   "outputs": [
    {
     "data": {
      "text/plain": [
       "a    1\n",
       "b    2\n",
       "c    3\n",
       "dtype: int64"
      ]
     },
     "execution_count": null,
     "metadata": {},
     "output_type": "execute_result"
    }
   ],
   "source": [
    "import pandas as pd \n",
    "pd.Series([1,2,3],index=['a','b','c'])"
   ]
  },
  {
   "cell_type": "code",
   "execution_count": null,
   "metadata": {
    "collapsed": false
   },
   "outputs": [],
   "source": [
    "PATH = './data/data19383/'\n",
    "train = pd.read_csv(PATH + 'train.csv')\n",
    "# train = pd.read_csv('./data/data19383/train.csv', usecols=[2, 3, 4, 6, 7, 18])\n",
    "# set index to ID to avoid droping it later\n",
    "# 把测试集的id列作为索引，防止误删\n",
    "test  = pd.read_csv(PATH + 'submission.csv').set_index('customer_id')"
   ]
  },
  {
   "cell_type": "code",
   "execution_count": null,
   "metadata": {
    "collapsed": false
   },
   "outputs": [
    {
     "name": "stdout",
     "output_type": "stream",
     "text": [
      "训练集使用内容 510.40091705322266 MB\n",
      "测试集使用内存 24.200225830078125 MB\n"
     ]
    }
   ],
   "source": [
    "# 对于特别大的文件，我们需要做一些内存检查\n",
    "mem_train = train.memory_usage(index=True).sum()\n",
    "mem_test=test.memory_usage(index=True).sum()\n",
    "print(u\"训练集使用内容 \"+ str(mem_train/ 1024**2)+\" MB\")\n",
    "print(u\"测试集使用内存 \"+ str(mem_test/ 1024**2)+\" MB\")"
   ]
  },
  {
   "cell_type": "code",
   "execution_count": null,
   "metadata": {
    "collapsed": false
   },
   "outputs": [
    {
     "data": {
      "text/html": [
       "<div>\n",
       "<style scoped>\n",
       "    .dataframe tbody tr th:only-of-type {\n",
       "        vertical-align: middle;\n",
       "    }\n",
       "\n",
       "    .dataframe tbody tr th {\n",
       "        vertical-align: top;\n",
       "    }\n",
       "\n",
       "    .dataframe thead th {\n",
       "        text-align: right;\n",
       "    }\n",
       "</style>\n",
       "<table border=\"1\" class=\"dataframe\">\n",
       "  <thead>\n",
       "    <tr style=\"text-align: right;\">\n",
       "      <th></th>\n",
       "      <th>order_detail_id</th>\n",
       "      <th>order_id</th>\n",
       "      <th>order_total_num</th>\n",
       "      <th>order_amount</th>\n",
       "      <th>order_total_payment</th>\n",
       "      <th>order_total_discount</th>\n",
       "      <th>order_pay_time</th>\n",
       "      <th>order_status</th>\n",
       "      <th>order_count</th>\n",
       "      <th>is_customer_rate</th>\n",
       "      <th>...</th>\n",
       "      <th>customer_gender</th>\n",
       "      <th>member_status</th>\n",
       "      <th>is_member_actived</th>\n",
       "      <th>goods_id</th>\n",
       "      <th>goods_class_id</th>\n",
       "      <th>goods_price</th>\n",
       "      <th>goods_status</th>\n",
       "      <th>goods_has_discount</th>\n",
       "      <th>goods_list_time</th>\n",
       "      <th>goods_delist_time</th>\n",
       "    </tr>\n",
       "  </thead>\n",
       "  <tbody>\n",
       "    <tr>\n",
       "      <th>0</th>\n",
       "      <td>1000000</td>\n",
       "      <td>1000000</td>\n",
       "      <td>1.0</td>\n",
       "      <td>239.9</td>\n",
       "      <td>96.9</td>\n",
       "      <td>0.0</td>\n",
       "      <td>2012-11-01 00:10:56</td>\n",
       "      <td>6</td>\n",
       "      <td>1.0</td>\n",
       "      <td>0.0</td>\n",
       "      <td>...</td>\n",
       "      <td>NaN</td>\n",
       "      <td>NaN</td>\n",
       "      <td>NaN</td>\n",
       "      <td>998</td>\n",
       "      <td>998</td>\n",
       "      <td>54.909289</td>\n",
       "      <td>1.0</td>\n",
       "      <td>0.0</td>\n",
       "      <td>2014-10-25 11:08:07</td>\n",
       "      <td>2014-11-01 11:08:07</td>\n",
       "    </tr>\n",
       "    <tr>\n",
       "      <th>1</th>\n",
       "      <td>1001530</td>\n",
       "      <td>1001327</td>\n",
       "      <td>2.0</td>\n",
       "      <td>288.0</td>\n",
       "      <td>96.9</td>\n",
       "      <td>0.0</td>\n",
       "      <td>2013-08-31 23:14:42</td>\n",
       "      <td>6</td>\n",
       "      <td>2.0</td>\n",
       "      <td>0.0</td>\n",
       "      <td>...</td>\n",
       "      <td>NaN</td>\n",
       "      <td>NaN</td>\n",
       "      <td>NaN</td>\n",
       "      <td>1953</td>\n",
       "      <td>1953</td>\n",
       "      <td>45.961352</td>\n",
       "      <td>0.0</td>\n",
       "      <td>1.0</td>\n",
       "      <td>2013-08-28 17:27:50</td>\n",
       "      <td>2013-09-01 00:38:17</td>\n",
       "    </tr>\n",
       "    <tr>\n",
       "      <th>2</th>\n",
       "      <td>1001531</td>\n",
       "      <td>1001327</td>\n",
       "      <td>2.0</td>\n",
       "      <td>288.0</td>\n",
       "      <td>96.9</td>\n",
       "      <td>0.0</td>\n",
       "      <td>2013-08-31 23:14:42</td>\n",
       "      <td>6</td>\n",
       "      <td>2.0</td>\n",
       "      <td>0.0</td>\n",
       "      <td>...</td>\n",
       "      <td>NaN</td>\n",
       "      <td>NaN</td>\n",
       "      <td>NaN</td>\n",
       "      <td>1083</td>\n",
       "      <td>1083</td>\n",
       "      <td>53.035439</td>\n",
       "      <td>1.0</td>\n",
       "      <td>0.0</td>\n",
       "      <td>2014-10-29 18:21:05</td>\n",
       "      <td>2014-11-05 18:21:05</td>\n",
       "    </tr>\n",
       "    <tr>\n",
       "      <th>3</th>\n",
       "      <td>1001532</td>\n",
       "      <td>1001328</td>\n",
       "      <td>3.0</td>\n",
       "      <td>180.0</td>\n",
       "      <td>89.7</td>\n",
       "      <td>0.0</td>\n",
       "      <td>2013-08-31 22:06:35</td>\n",
       "      <td>6</td>\n",
       "      <td>1.0</td>\n",
       "      <td>0.0</td>\n",
       "      <td>...</td>\n",
       "      <td>NaN</td>\n",
       "      <td>NaN</td>\n",
       "      <td>NaN</td>\n",
       "      <td>1013</td>\n",
       "      <td>1013</td>\n",
       "      <td>46.046917</td>\n",
       "      <td>1.0</td>\n",
       "      <td>1.0</td>\n",
       "      <td>2014-10-25 11:00:00</td>\n",
       "      <td>2014-11-01 11:00:00</td>\n",
       "    </tr>\n",
       "    <tr>\n",
       "      <th>4</th>\n",
       "      <td>1001533</td>\n",
       "      <td>1001329</td>\n",
       "      <td>1.0</td>\n",
       "      <td>159.9</td>\n",
       "      <td>65.9</td>\n",
       "      <td>0.0</td>\n",
       "      <td>2013-08-31 21:33:36</td>\n",
       "      <td>6</td>\n",
       "      <td>1.0</td>\n",
       "      <td>0.0</td>\n",
       "      <td>...</td>\n",
       "      <td>NaN</td>\n",
       "      <td>NaN</td>\n",
       "      <td>NaN</td>\n",
       "      <td>1628</td>\n",
       "      <td>1628</td>\n",
       "      <td>50.722161</td>\n",
       "      <td>1.0</td>\n",
       "      <td>0.0</td>\n",
       "      <td>2014-10-23 15:35:33</td>\n",
       "      <td>2014-10-30 15:35:33</td>\n",
       "    </tr>\n",
       "  </tbody>\n",
       "</table>\n",
       "<p>5 rows × 29 columns</p>\n",
       "</div>"
      ],
      "text/plain": [
       "   order_detail_id  order_id  order_total_num  order_amount  \\\n",
       "0          1000000   1000000              1.0         239.9   \n",
       "1          1001530   1001327              2.0         288.0   \n",
       "2          1001531   1001327              2.0         288.0   \n",
       "3          1001532   1001328              3.0         180.0   \n",
       "4          1001533   1001329              1.0         159.9   \n",
       "\n",
       "   order_total_payment  order_total_discount       order_pay_time  \\\n",
       "0                 96.9                   0.0  2012-11-01 00:10:56   \n",
       "1                 96.9                   0.0  2013-08-31 23:14:42   \n",
       "2                 96.9                   0.0  2013-08-31 23:14:42   \n",
       "3                 89.7                   0.0  2013-08-31 22:06:35   \n",
       "4                 65.9                   0.0  2013-08-31 21:33:36   \n",
       "\n",
       "   order_status  order_count  is_customer_rate         ...           \\\n",
       "0             6          1.0               0.0         ...            \n",
       "1             6          2.0               0.0         ...            \n",
       "2             6          2.0               0.0         ...            \n",
       "3             6          1.0               0.0         ...            \n",
       "4             6          1.0               0.0         ...            \n",
       "\n",
       "   customer_gender  member_status  is_member_actived  goods_id  \\\n",
       "0              NaN            NaN                NaN       998   \n",
       "1              NaN            NaN                NaN      1953   \n",
       "2              NaN            NaN                NaN      1083   \n",
       "3              NaN            NaN                NaN      1013   \n",
       "4              NaN            NaN                NaN      1628   \n",
       "\n",
       "   goods_class_id goods_price goods_status  goods_has_discount  \\\n",
       "0             998   54.909289          1.0                 0.0   \n",
       "1            1953   45.961352          0.0                 1.0   \n",
       "2            1083   53.035439          1.0                 0.0   \n",
       "3            1013   46.046917          1.0                 1.0   \n",
       "4            1628   50.722161          1.0                 0.0   \n",
       "\n",
       "       goods_list_time    goods_delist_time  \n",
       "0  2014-10-25 11:08:07  2014-11-01 11:08:07  \n",
       "1  2013-08-28 17:27:50  2013-09-01 00:38:17  \n",
       "2  2014-10-29 18:21:05  2014-11-05 18:21:05  \n",
       "3  2014-10-25 11:00:00  2014-11-01 11:00:00  \n",
       "4  2014-10-23 15:35:33  2014-10-30 15:35:33  \n",
       "\n",
       "[5 rows x 29 columns]"
      ]
     },
     "execution_count": null,
     "metadata": {},
     "output_type": "execute_result"
    }
   ],
   "source": [
    "train.head()"
   ]
  },
  {
   "cell_type": "markdown",
   "metadata": {
    "collapsed": false
   },
   "source": [
    "### 训练集文件\n",
    "- order_detail_id\t订单详情id\n",
    "- order_id\t订单id\n",
    "- order_total_num\t订单商品总购买数量\n",
    "- order_amount\t订单商品总金额\n",
    "- order_total_payment\t订单实付金额\n",
    "- order_total_discount\t订单优惠金额\n",
    "- order_pay_time\t付款时间\n",
    "- order_status\t订单状态： 1表示等待买家付款， 2表示卖家部分发货， 3表示卖家发货， 4表示等待买家确认收货， 5表示买家已签收， 6表示交易成功\n",
    "- order_count\t订单包含的子订单数量\n",
    "- is_customer_rate\t用户是否评价，0没有评价，1已经评价\n",
    "- order_detail_status\t订单详细状态\n",
    "- order_detail_goods_num\t订单中的商品数量\n",
    "- order_detail_amount\t订单应付总金额\n",
    "- order_detail_payment\t订单实付金额\n",
    "- order_detail_discount\t订单优惠金额\n",
    "- member_id\t会员id\n",
    "- customer_id\t用户id\n",
    "- customer_gender\t性别：0未知，1男，2女\n",
    "- customer_province\t用户省份所在地\n",
    "- customer_city\t用户城市所在地\n",
    "- member_status\t会员状态：1正常，2冻结，3已删除\n",
    "- is_member_actived\t会员是否激活：0没有激活，1已激活\n",
    "- goods_id\t商品id\n",
    "- goods_class_id\t商品分类id\n",
    "- goods_price\t商品原始价格\n",
    "- goods_status\t商品库存状态：1出售中，2库中\n",
    "- goods_has_discount\t是否支持会员折扣：0不支持，1支持\n",
    "- goods_list_time\t商品最新上架时间\n",
    "- goods_delist_time\t商品最新下架时间\n",
    "\n",
    "### 提交文件\n",
    "- customer_id\t用户id\n",
    "- result\t下个月是否会购买：0 不购买，1购买\n"
   ]
  },
  {
   "cell_type": "code",
   "execution_count": null,
   "metadata": {
    "collapsed": false
   },
   "outputs": [],
   "source": [
    "def summary_stats_table(data):\n",
    "    '''\n",
    "    a function to summerize all types of data\n",
    "    分类型按列的数据分布与异常值统计\n",
    "    '''\n",
    "    # count of nulls\n",
    "    # 空值数量\n",
    "    missing_counts = pd.DataFrame(data.isnull().sum())\n",
    "    missing_counts.columns = ['count_null']\n",
    "\n",
    "    # numeric column stats\n",
    "    # 数值列数据分布统计\n",
    "    num_stats = data.select_dtypes(include=['int64','float64']).describe().loc[['count','min','max','25%','50%','75%']].transpose()\n",
    "    num_stats['dtype'] = data.select_dtypes(include=['int64','float64']).dtypes.tolist()\n",
    "\n",
    "    # non-numeric value stats\n",
    "    # 非数值列数据分布统计\n",
    "    non_num_stats = data.select_dtypes(exclude=['int64','float64']).describe().transpose()\n",
    "    non_num_stats['dtype'] = data.select_dtypes(exclude=['int64','float64']).dtypes.tolist()\n",
    "    non_num_stats = non_num_stats.rename(columns={\"first\": \"min\", \"last\": \"max\"})\n",
    "\n",
    "    # merge all \n",
    "    # 聚合结果\n",
    "    stats_merge = pd.concat([num_stats, non_num_stats], axis=0, join='outer', ignore_index=False, keys=None,\n",
    "              levels=None, names=None, verify_integrity=False, copy=True, sort=False).fillna(\"\").sort_values('dtype')\n",
    "\n",
    "    column_order = ['dtype', 'count', 'count_null','unique','min','max','25%','50%','75%','top','freq']\n",
    "    summary_stats = pd.merge(stats_merge, missing_counts, left_index=True, right_index=True, sort=False)[column_order]\n",
    "    return(summary_stats)"
   ]
  },
  {
   "cell_type": "code",
   "execution_count": null,
   "metadata": {
    "collapsed": false
   },
   "outputs": [
    {
     "name": "stdout",
     "output_type": "stream",
     "text": [
      "<class 'pandas.core.frame.DataFrame'>\n",
      "RangeIndex: 2306871 entries, 0 to 2306870\n",
      "Data columns (total 29 columns):\n",
      "order_detail_id           int64\n",
      "order_id                  int64\n",
      "order_total_num           float64\n",
      "order_amount              float64\n",
      "order_total_payment       float64\n",
      "order_total_discount      float64\n",
      "order_pay_time            object\n",
      "order_status              int64\n",
      "order_count               float64\n",
      "is_customer_rate          float64\n",
      "order_detail_status       float64\n",
      "order_detail_goods_num    float64\n",
      "order_detail_amount       float64\n",
      "order_detail_payment      float64\n",
      "order_detail_discount     float64\n",
      "customer_province         object\n",
      "customer_city             object\n",
      "member_id                 float64\n",
      "customer_id               int64\n",
      "customer_gender           float64\n",
      "member_status             float64\n",
      "is_member_actived         float64\n",
      "goods_id                  int64\n",
      "goods_class_id            int64\n",
      "goods_price               float64\n",
      "goods_status              float64\n",
      "goods_has_discount        float64\n",
      "goods_list_time           object\n",
      "goods_delist_time         object\n",
      "dtypes: float64(18), int64(6), object(5)\n",
      "memory usage: 510.4+ MB\n"
     ]
    }
   ],
   "source": [
    "train.info()"
   ]
  },
  {
   "cell_type": "markdown",
   "metadata": {
    "collapsed": false
   },
   "source": [
    "从下面的基本信息分析表中可以看出：\n",
    "- 商品原始价格`goods_price`出现了负数而订单优惠折扣`order_detail_discount`出现了正数的情况，需要进一步分析\n",
    "- 双十一的影响在订单细节上反映也非常明显\n",
    "- 订单状态`order_status`最大值101，不在赛题说明中，但是有98145条记录，怀疑交易失败等异常情况。"
   ]
  },
  {
   "cell_type": "code",
   "execution_count": null,
   "metadata": {
    "collapsed": false
   },
   "outputs": [
    {
     "data": {
      "text/html": [
       "<div>\n",
       "<style scoped>\n",
       "    .dataframe tbody tr th:only-of-type {\n",
       "        vertical-align: middle;\n",
       "    }\n",
       "\n",
       "    .dataframe tbody tr th {\n",
       "        vertical-align: top;\n",
       "    }\n",
       "\n",
       "    .dataframe thead th {\n",
       "        text-align: right;\n",
       "    }\n",
       "</style>\n",
       "<table border=\"1\" class=\"dataframe\">\n",
       "  <thead>\n",
       "    <tr style=\"text-align: right;\">\n",
       "      <th></th>\n",
       "      <th>dtype</th>\n",
       "      <th>count</th>\n",
       "      <th>count_null</th>\n",
       "      <th>unique</th>\n",
       "      <th>min</th>\n",
       "      <th>max</th>\n",
       "      <th>25%</th>\n",
       "      <th>50%</th>\n",
       "      <th>75%</th>\n",
       "      <th>top</th>\n",
       "      <th>freq</th>\n",
       "    </tr>\n",
       "  </thead>\n",
       "  <tbody>\n",
       "    <tr>\n",
       "      <th>order_detail_id</th>\n",
       "      <td>int64</td>\n",
       "      <td>2306871.0</td>\n",
       "      <td>0</td>\n",
       "      <td></td>\n",
       "      <td>1e+06</td>\n",
       "      <td>3.6855e+06</td>\n",
       "      <td>1.66968e+06</td>\n",
       "      <td>2.33935e+06</td>\n",
       "      <td>3.00743e+06</td>\n",
       "      <td></td>\n",
       "      <td></td>\n",
       "    </tr>\n",
       "    <tr>\n",
       "      <th>order_id</th>\n",
       "      <td>int64</td>\n",
       "      <td>2306871.0</td>\n",
       "      <td>0</td>\n",
       "      <td></td>\n",
       "      <td>1e+06</td>\n",
       "      <td>3.23836e+06</td>\n",
       "      <td>1.57148e+06</td>\n",
       "      <td>2.14299e+06</td>\n",
       "      <td>2.70795e+06</td>\n",
       "      <td></td>\n",
       "      <td></td>\n",
       "    </tr>\n",
       "    <tr>\n",
       "      <th>goods_class_id</th>\n",
       "      <td>int64</td>\n",
       "      <td>2306871.0</td>\n",
       "      <td>0</td>\n",
       "      <td></td>\n",
       "      <td>998</td>\n",
       "      <td>6673</td>\n",
       "      <td>1038</td>\n",
       "      <td>1233</td>\n",
       "      <td>1643</td>\n",
       "      <td></td>\n",
       "      <td></td>\n",
       "    </tr>\n",
       "    <tr>\n",
       "      <th>order_status</th>\n",
       "      <td>int64</td>\n",
       "      <td>2306871.0</td>\n",
       "      <td>0</td>\n",
       "      <td></td>\n",
       "      <td>0</td>\n",
       "      <td>101</td>\n",
       "      <td>6</td>\n",
       "      <td>6</td>\n",
       "      <td>6</td>\n",
       "      <td></td>\n",
       "      <td></td>\n",
       "    </tr>\n",
       "    <tr>\n",
       "      <th>goods_id</th>\n",
       "      <td>int64</td>\n",
       "      <td>2306871.0</td>\n",
       "      <td>0</td>\n",
       "      <td></td>\n",
       "      <td>998</td>\n",
       "      <td>6673</td>\n",
       "      <td>1038</td>\n",
       "      <td>1233</td>\n",
       "      <td>1643</td>\n",
       "      <td></td>\n",
       "      <td></td>\n",
       "    </tr>\n",
       "    <tr>\n",
       "      <th>customer_id</th>\n",
       "      <td>int64</td>\n",
       "      <td>2306871.0</td>\n",
       "      <td>0</td>\n",
       "      <td></td>\n",
       "      <td>1e+06</td>\n",
       "      <td>2.82657e+06</td>\n",
       "      <td>1.43643e+06</td>\n",
       "      <td>1.92957e+06</td>\n",
       "      <td>2.45782e+06</td>\n",
       "      <td></td>\n",
       "      <td></td>\n",
       "    </tr>\n",
       "    <tr>\n",
       "      <th>goods_has_discount</th>\n",
       "      <td>float64</td>\n",
       "      <td>2306871.0</td>\n",
       "      <td>0</td>\n",
       "      <td></td>\n",
       "      <td>0</td>\n",
       "      <td>1</td>\n",
       "      <td>0</td>\n",
       "      <td>0</td>\n",
       "      <td>0</td>\n",
       "      <td></td>\n",
       "      <td></td>\n",
       "    </tr>\n",
       "    <tr>\n",
       "      <th>goods_status</th>\n",
       "      <td>float64</td>\n",
       "      <td>2306871.0</td>\n",
       "      <td>0</td>\n",
       "      <td></td>\n",
       "      <td>0</td>\n",
       "      <td>2</td>\n",
       "      <td>1</td>\n",
       "      <td>1</td>\n",
       "      <td>1</td>\n",
       "      <td></td>\n",
       "      <td></td>\n",
       "    </tr>\n",
       "    <tr>\n",
       "      <th>goods_price</th>\n",
       "      <td>float64</td>\n",
       "      <td>2306435.0</td>\n",
       "      <td>436</td>\n",
       "      <td></td>\n",
       "      <td>-79.9748</td>\n",
       "      <td>92.3526</td>\n",
       "      <td>49.6004</td>\n",
       "      <td>53.9093</td>\n",
       "      <td>54.8506</td>\n",
       "      <td></td>\n",
       "      <td></td>\n",
       "    </tr>\n",
       "    <tr>\n",
       "      <th>is_member_actived</th>\n",
       "      <td>float64</td>\n",
       "      <td>635790.0</td>\n",
       "      <td>1671081</td>\n",
       "      <td></td>\n",
       "      <td>1</td>\n",
       "      <td>1</td>\n",
       "      <td>1</td>\n",
       "      <td>1</td>\n",
       "      <td>1</td>\n",
       "      <td></td>\n",
       "      <td></td>\n",
       "    </tr>\n",
       "    <tr>\n",
       "      <th>member_status</th>\n",
       "      <td>float64</td>\n",
       "      <td>635790.0</td>\n",
       "      <td>1671081</td>\n",
       "      <td></td>\n",
       "      <td>1</td>\n",
       "      <td>1</td>\n",
       "      <td>1</td>\n",
       "      <td>1</td>\n",
       "      <td>1</td>\n",
       "      <td></td>\n",
       "      <td></td>\n",
       "    </tr>\n",
       "    <tr>\n",
       "      <th>customer_gender</th>\n",
       "      <td>float64</td>\n",
       "      <td>635790.0</td>\n",
       "      <td>1671081</td>\n",
       "      <td></td>\n",
       "      <td>0</td>\n",
       "      <td>2</td>\n",
       "      <td>0</td>\n",
       "      <td>0</td>\n",
       "      <td>0</td>\n",
       "      <td></td>\n",
       "      <td></td>\n",
       "    </tr>\n",
       "    <tr>\n",
       "      <th>order_detail_discount</th>\n",
       "      <td>float64</td>\n",
       "      <td>2306871.0</td>\n",
       "      <td>0</td>\n",
       "      <td></td>\n",
       "      <td>-101.16</td>\n",
       "      <td>79360</td>\n",
       "      <td>89.1</td>\n",
       "      <td>130.1</td>\n",
       "      <td>150</td>\n",
       "      <td></td>\n",
       "      <td></td>\n",
       "    </tr>\n",
       "    <tr>\n",
       "      <th>member_id</th>\n",
       "      <td>float64</td>\n",
       "      <td>2306871.0</td>\n",
       "      <td>0</td>\n",
       "      <td></td>\n",
       "      <td>0</td>\n",
       "      <td>4.16156e+06</td>\n",
       "      <td>0</td>\n",
       "      <td>0</td>\n",
       "      <td>483484</td>\n",
       "      <td></td>\n",
       "      <td></td>\n",
       "    </tr>\n",
       "    <tr>\n",
       "      <th>order_detail_amount</th>\n",
       "      <td>float64</td>\n",
       "      <td>2306871.0</td>\n",
       "      <td>0</td>\n",
       "      <td></td>\n",
       "      <td>0</td>\n",
       "      <td>98401.5</td>\n",
       "      <td>59.9</td>\n",
       "      <td>83.9</td>\n",
       "      <td>98.9</td>\n",
       "      <td></td>\n",
       "      <td></td>\n",
       "    </tr>\n",
       "    <tr>\n",
       "      <th>order_detail_goods_num</th>\n",
       "      <td>float64</td>\n",
       "      <td>2306871.0</td>\n",
       "      <td>0</td>\n",
       "      <td></td>\n",
       "      <td>1</td>\n",
       "      <td>1700</td>\n",
       "      <td>1</td>\n",
       "      <td>1</td>\n",
       "      <td>1</td>\n",
       "      <td></td>\n",
       "      <td></td>\n",
       "    </tr>\n",
       "    <tr>\n",
       "      <th>order_detail_status</th>\n",
       "      <td>float64</td>\n",
       "      <td>2306871.0</td>\n",
       "      <td>0</td>\n",
       "      <td></td>\n",
       "      <td>0</td>\n",
       "      <td>101</td>\n",
       "      <td>6</td>\n",
       "      <td>6</td>\n",
       "      <td>6</td>\n",
       "      <td></td>\n",
       "      <td></td>\n",
       "    </tr>\n",
       "    <tr>\n",
       "      <th>is_customer_rate</th>\n",
       "      <td>float64</td>\n",
       "      <td>2306871.0</td>\n",
       "      <td>0</td>\n",
       "      <td></td>\n",
       "      <td>0</td>\n",
       "      <td>1</td>\n",
       "      <td>0</td>\n",
       "      <td>0</td>\n",
       "      <td>0</td>\n",
       "      <td></td>\n",
       "      <td></td>\n",
       "    </tr>\n",
       "    <tr>\n",
       "      <th>order_count</th>\n",
       "      <td>float64</td>\n",
       "      <td>2306871.0</td>\n",
       "      <td>0</td>\n",
       "      <td></td>\n",
       "      <td>0</td>\n",
       "      <td>729061</td>\n",
       "      <td>1</td>\n",
       "      <td>1</td>\n",
       "      <td>2</td>\n",
       "      <td></td>\n",
       "      <td></td>\n",
       "    </tr>\n",
       "    <tr>\n",
       "      <th>order_total_discount</th>\n",
       "      <td>float64</td>\n",
       "      <td>2306871.0</td>\n",
       "      <td>0</td>\n",
       "      <td></td>\n",
       "      <td>0</td>\n",
       "      <td>1960</td>\n",
       "      <td>0</td>\n",
       "      <td>0</td>\n",
       "      <td>5</td>\n",
       "      <td></td>\n",
       "      <td></td>\n",
       "    </tr>\n",
       "    <tr>\n",
       "      <th>order_total_payment</th>\n",
       "      <td>float64</td>\n",
       "      <td>2306871.0</td>\n",
       "      <td>0</td>\n",
       "      <td></td>\n",
       "      <td>0</td>\n",
       "      <td>98401.5</td>\n",
       "      <td>66.9</td>\n",
       "      <td>89.9</td>\n",
       "      <td>113.17</td>\n",
       "      <td></td>\n",
       "      <td></td>\n",
       "    </tr>\n",
       "    <tr>\n",
       "      <th>order_amount</th>\n",
       "      <td>float64</td>\n",
       "      <td>2306871.0</td>\n",
       "      <td>0</td>\n",
       "      <td></td>\n",
       "      <td>0</td>\n",
       "      <td>102374</td>\n",
       "      <td>199</td>\n",
       "      <td>239.9</td>\n",
       "      <td>339.8</td>\n",
       "      <td></td>\n",
       "      <td></td>\n",
       "    </tr>\n",
       "    <tr>\n",
       "      <th>order_total_num</th>\n",
       "      <td>float64</td>\n",
       "      <td>2306871.0</td>\n",
       "      <td>0</td>\n",
       "      <td></td>\n",
       "      <td>1</td>\n",
       "      <td>1700</td>\n",
       "      <td>1</td>\n",
       "      <td>1</td>\n",
       "      <td>2</td>\n",
       "      <td></td>\n",
       "      <td></td>\n",
       "    </tr>\n",
       "    <tr>\n",
       "      <th>order_detail_payment</th>\n",
       "      <td>float64</td>\n",
       "      <td>2306871.0</td>\n",
       "      <td>0</td>\n",
       "      <td></td>\n",
       "      <td>0</td>\n",
       "      <td>98401.5</td>\n",
       "      <td>55.9</td>\n",
       "      <td>79.9</td>\n",
       "      <td>93.9</td>\n",
       "      <td></td>\n",
       "      <td></td>\n",
       "    </tr>\n",
       "    <tr>\n",
       "      <th>goods_list_time</th>\n",
       "      <td>object</td>\n",
       "      <td>2306871.0</td>\n",
       "      <td>0</td>\n",
       "      <td>925</td>\n",
       "      <td></td>\n",
       "      <td></td>\n",
       "      <td></td>\n",
       "      <td></td>\n",
       "      <td></td>\n",
       "      <td>2014-10-25 11:08:07</td>\n",
       "      <td>472943</td>\n",
       "    </tr>\n",
       "    <tr>\n",
       "      <th>order_pay_time</th>\n",
       "      <td>object</td>\n",
       "      <td>2306871.0</td>\n",
       "      <td>0</td>\n",
       "      <td>1329697</td>\n",
       "      <td></td>\n",
       "      <td></td>\n",
       "      <td></td>\n",
       "      <td></td>\n",
       "      <td></td>\n",
       "      <td>2012-11-11 00:00:19</td>\n",
       "      <td>1011</td>\n",
       "    </tr>\n",
       "    <tr>\n",
       "      <th>customer_province</th>\n",
       "      <td>object</td>\n",
       "      <td>2305732.0</td>\n",
       "      <td>1139</td>\n",
       "      <td>33</td>\n",
       "      <td></td>\n",
       "      <td></td>\n",
       "      <td></td>\n",
       "      <td></td>\n",
       "      <td></td>\n",
       "      <td>广东省</td>\n",
       "      <td>255700</td>\n",
       "    </tr>\n",
       "    <tr>\n",
       "      <th>customer_city</th>\n",
       "      <td>object</td>\n",
       "      <td>2305721.0</td>\n",
       "      <td>1150</td>\n",
       "      <td>375</td>\n",
       "      <td></td>\n",
       "      <td></td>\n",
       "      <td></td>\n",
       "      <td></td>\n",
       "      <td></td>\n",
       "      <td>上海市</td>\n",
       "      <td>117625</td>\n",
       "    </tr>\n",
       "    <tr>\n",
       "      <th>goods_delist_time</th>\n",
       "      <td>object</td>\n",
       "      <td>2306871.0</td>\n",
       "      <td>0</td>\n",
       "      <td>884</td>\n",
       "      <td></td>\n",
       "      <td></td>\n",
       "      <td></td>\n",
       "      <td></td>\n",
       "      <td></td>\n",
       "      <td>2014-11-01 11:08:07</td>\n",
       "      <td>472943</td>\n",
       "    </tr>\n",
       "  </tbody>\n",
       "</table>\n",
       "</div>"
      ],
      "text/plain": [
       "                          dtype      count  count_null   unique      min  \\\n",
       "order_detail_id           int64  2306871.0           0             1e+06   \n",
       "order_id                  int64  2306871.0           0             1e+06   \n",
       "goods_class_id            int64  2306871.0           0               998   \n",
       "order_status              int64  2306871.0           0                 0   \n",
       "goods_id                  int64  2306871.0           0               998   \n",
       "customer_id               int64  2306871.0           0             1e+06   \n",
       "goods_has_discount      float64  2306871.0           0                 0   \n",
       "goods_status            float64  2306871.0           0                 0   \n",
       "goods_price             float64  2306435.0         436          -79.9748   \n",
       "is_member_actived       float64   635790.0     1671081                 1   \n",
       "member_status           float64   635790.0     1671081                 1   \n",
       "customer_gender         float64   635790.0     1671081                 0   \n",
       "order_detail_discount   float64  2306871.0           0           -101.16   \n",
       "member_id               float64  2306871.0           0                 0   \n",
       "order_detail_amount     float64  2306871.0           0                 0   \n",
       "order_detail_goods_num  float64  2306871.0           0                 1   \n",
       "order_detail_status     float64  2306871.0           0                 0   \n",
       "is_customer_rate        float64  2306871.0           0                 0   \n",
       "order_count             float64  2306871.0           0                 0   \n",
       "order_total_discount    float64  2306871.0           0                 0   \n",
       "order_total_payment     float64  2306871.0           0                 0   \n",
       "order_amount            float64  2306871.0           0                 0   \n",
       "order_total_num         float64  2306871.0           0                 1   \n",
       "order_detail_payment    float64  2306871.0           0                 0   \n",
       "goods_list_time          object  2306871.0           0      925            \n",
       "order_pay_time           object  2306871.0           0  1329697            \n",
       "customer_province        object  2305732.0        1139       33            \n",
       "customer_city            object  2305721.0        1150      375            \n",
       "goods_delist_time        object  2306871.0           0      884            \n",
       "\n",
       "                                max          25%          50%          75%  \\\n",
       "order_detail_id          3.6855e+06  1.66968e+06  2.33935e+06  3.00743e+06   \n",
       "order_id                3.23836e+06  1.57148e+06  2.14299e+06  2.70795e+06   \n",
       "goods_class_id                 6673         1038         1233         1643   \n",
       "order_status                    101            6            6            6   \n",
       "goods_id                       6673         1038         1233         1643   \n",
       "customer_id             2.82657e+06  1.43643e+06  1.92957e+06  2.45782e+06   \n",
       "goods_has_discount                1            0            0            0   \n",
       "goods_status                      2            1            1            1   \n",
       "goods_price                 92.3526      49.6004      53.9093      54.8506   \n",
       "is_member_actived                 1            1            1            1   \n",
       "member_status                     1            1            1            1   \n",
       "customer_gender                   2            0            0            0   \n",
       "order_detail_discount         79360         89.1        130.1          150   \n",
       "member_id               4.16156e+06            0            0       483484   \n",
       "order_detail_amount         98401.5         59.9         83.9         98.9   \n",
       "order_detail_goods_num         1700            1            1            1   \n",
       "order_detail_status             101            6            6            6   \n",
       "is_customer_rate                  1            0            0            0   \n",
       "order_count                  729061            1            1            2   \n",
       "order_total_discount           1960            0            0            5   \n",
       "order_total_payment         98401.5         66.9         89.9       113.17   \n",
       "order_amount                 102374          199        239.9        339.8   \n",
       "order_total_num                1700            1            1            2   \n",
       "order_detail_payment        98401.5         55.9         79.9         93.9   \n",
       "goods_list_time                                                              \n",
       "order_pay_time                                                               \n",
       "customer_province                                                            \n",
       "customer_city                                                                \n",
       "goods_delist_time                                                            \n",
       "\n",
       "                                        top    freq  \n",
       "order_detail_id                                      \n",
       "order_id                                             \n",
       "goods_class_id                                       \n",
       "order_status                                         \n",
       "goods_id                                             \n",
       "customer_id                                          \n",
       "goods_has_discount                                   \n",
       "goods_status                                         \n",
       "goods_price                                          \n",
       "is_member_actived                                    \n",
       "member_status                                        \n",
       "customer_gender                                      \n",
       "order_detail_discount                                \n",
       "member_id                                            \n",
       "order_detail_amount                                  \n",
       "order_detail_goods_num                               \n",
       "order_detail_status                                  \n",
       "is_customer_rate                                     \n",
       "order_count                                          \n",
       "order_total_discount                                 \n",
       "order_total_payment                                  \n",
       "order_amount                                         \n",
       "order_total_num                                      \n",
       "order_detail_payment                                 \n",
       "goods_list_time         2014-10-25 11:08:07  472943  \n",
       "order_pay_time          2012-11-11 00:00:19    1011  \n",
       "customer_province                       广东省  255700  \n",
       "customer_city                           上海市  117625  \n",
       "goods_delist_time       2014-11-01 11:08:07  472943  "
      ]
     },
     "execution_count": null,
     "metadata": {},
     "output_type": "execute_result"
    }
   ],
   "source": [
    "summary_stats_table(train)"
   ]
  },
  {
   "cell_type": "code",
   "execution_count": null,
   "metadata": {
    "collapsed": false
   },
   "outputs": [
    {
     "data": {
      "text/html": [
       "<div>\n",
       "<style scoped>\n",
       "    .dataframe tbody tr th:only-of-type {\n",
       "        vertical-align: middle;\n",
       "    }\n",
       "\n",
       "    .dataframe tbody tr th {\n",
       "        vertical-align: top;\n",
       "    }\n",
       "\n",
       "    .dataframe thead th {\n",
       "        text-align: right;\n",
       "    }\n",
       "</style>\n",
       "<table border=\"1\" class=\"dataframe\">\n",
       "  <thead>\n",
       "    <tr style=\"text-align: right;\">\n",
       "      <th></th>\n",
       "      <th>order_detail_id</th>\n",
       "      <th>order_id</th>\n",
       "      <th>order_total_num</th>\n",
       "      <th>order_amount</th>\n",
       "      <th>order_total_payment</th>\n",
       "      <th>order_total_discount</th>\n",
       "      <th>order_pay_time</th>\n",
       "      <th>order_status</th>\n",
       "      <th>order_count</th>\n",
       "      <th>is_customer_rate</th>\n",
       "      <th>...</th>\n",
       "      <th>customer_gender</th>\n",
       "      <th>member_status</th>\n",
       "      <th>is_member_actived</th>\n",
       "      <th>goods_id</th>\n",
       "      <th>goods_class_id</th>\n",
       "      <th>goods_price</th>\n",
       "      <th>goods_status</th>\n",
       "      <th>goods_has_discount</th>\n",
       "      <th>goods_list_time</th>\n",
       "      <th>goods_delist_time</th>\n",
       "    </tr>\n",
       "  </thead>\n",
       "  <tbody>\n",
       "    <tr>\n",
       "      <th>18</th>\n",
       "      <td>1001547</td>\n",
       "      <td>1001340</td>\n",
       "      <td>2.0</td>\n",
       "      <td>339.8</td>\n",
       "      <td>89.9</td>\n",
       "      <td>0.0</td>\n",
       "      <td>2013-08-31 15:13:04</td>\n",
       "      <td>101</td>\n",
       "      <td>2.0</td>\n",
       "      <td>0.0</td>\n",
       "      <td>...</td>\n",
       "      <td>NaN</td>\n",
       "      <td>NaN</td>\n",
       "      <td>NaN</td>\n",
       "      <td>998</td>\n",
       "      <td>998</td>\n",
       "      <td>54.836807</td>\n",
       "      <td>1.0</td>\n",
       "      <td>0.0</td>\n",
       "      <td>2014-10-25 11:08:07</td>\n",
       "      <td>2014-11-01 11:08:07</td>\n",
       "    </tr>\n",
       "    <tr>\n",
       "      <th>19</th>\n",
       "      <td>1001548</td>\n",
       "      <td>1001340</td>\n",
       "      <td>2.0</td>\n",
       "      <td>339.8</td>\n",
       "      <td>89.9</td>\n",
       "      <td>0.0</td>\n",
       "      <td>2013-08-31 15:13:04</td>\n",
       "      <td>101</td>\n",
       "      <td>2.0</td>\n",
       "      <td>0.0</td>\n",
       "      <td>...</td>\n",
       "      <td>NaN</td>\n",
       "      <td>NaN</td>\n",
       "      <td>NaN</td>\n",
       "      <td>1958</td>\n",
       "      <td>1958</td>\n",
       "      <td>46.118263</td>\n",
       "      <td>2.0</td>\n",
       "      <td>0.0</td>\n",
       "      <td>2013-09-21 08:58:00</td>\n",
       "      <td>2013-09-27 17:37:59</td>\n",
       "    </tr>\n",
       "    <tr>\n",
       "      <th>20</th>\n",
       "      <td>1001549</td>\n",
       "      <td>1001341</td>\n",
       "      <td>1.0</td>\n",
       "      <td>239.9</td>\n",
       "      <td>89.9</td>\n",
       "      <td>0.0</td>\n",
       "      <td>2013-08-31 15:00:04</td>\n",
       "      <td>101</td>\n",
       "      <td>1.0</td>\n",
       "      <td>0.0</td>\n",
       "      <td>...</td>\n",
       "      <td>NaN</td>\n",
       "      <td>NaN</td>\n",
       "      <td>NaN</td>\n",
       "      <td>998</td>\n",
       "      <td>998</td>\n",
       "      <td>54.810267</td>\n",
       "      <td>1.0</td>\n",
       "      <td>0.0</td>\n",
       "      <td>2014-10-25 11:08:07</td>\n",
       "      <td>2014-11-01 11:08:07</td>\n",
       "    </tr>\n",
       "    <tr>\n",
       "      <th>73</th>\n",
       "      <td>1001602</td>\n",
       "      <td>1001374</td>\n",
       "      <td>2.0</td>\n",
       "      <td>298.9</td>\n",
       "      <td>39.9</td>\n",
       "      <td>0.0</td>\n",
       "      <td>2013-08-30 10:08:38</td>\n",
       "      <td>101</td>\n",
       "      <td>2.0</td>\n",
       "      <td>0.0</td>\n",
       "      <td>...</td>\n",
       "      <td>NaN</td>\n",
       "      <td>NaN</td>\n",
       "      <td>NaN</td>\n",
       "      <td>1983</td>\n",
       "      <td>1983</td>\n",
       "      <td>53.037544</td>\n",
       "      <td>1.0</td>\n",
       "      <td>1.0</td>\n",
       "      <td>2014-10-28 14:31:17</td>\n",
       "      <td>2014-11-04 14:31:17</td>\n",
       "    </tr>\n",
       "    <tr>\n",
       "      <th>74</th>\n",
       "      <td>1001603</td>\n",
       "      <td>1001374</td>\n",
       "      <td>2.0</td>\n",
       "      <td>298.9</td>\n",
       "      <td>39.9</td>\n",
       "      <td>0.0</td>\n",
       "      <td>2013-08-30 10:08:38</td>\n",
       "      <td>101</td>\n",
       "      <td>2.0</td>\n",
       "      <td>0.0</td>\n",
       "      <td>...</td>\n",
       "      <td>NaN</td>\n",
       "      <td>NaN</td>\n",
       "      <td>NaN</td>\n",
       "      <td>1468</td>\n",
       "      <td>1468</td>\n",
       "      <td>46.181811</td>\n",
       "      <td>0.0</td>\n",
       "      <td>1.0</td>\n",
       "      <td>2014-04-18 11:00:22</td>\n",
       "      <td>2014-04-18 17:00:38</td>\n",
       "    </tr>\n",
       "  </tbody>\n",
       "</table>\n",
       "<p>5 rows × 29 columns</p>\n",
       "</div>"
      ],
      "text/plain": [
       "    order_detail_id  order_id  order_total_num  order_amount  \\\n",
       "18          1001547   1001340              2.0         339.8   \n",
       "19          1001548   1001340              2.0         339.8   \n",
       "20          1001549   1001341              1.0         239.9   \n",
       "73          1001602   1001374              2.0         298.9   \n",
       "74          1001603   1001374              2.0         298.9   \n",
       "\n",
       "    order_total_payment  order_total_discount       order_pay_time  \\\n",
       "18                 89.9                   0.0  2013-08-31 15:13:04   \n",
       "19                 89.9                   0.0  2013-08-31 15:13:04   \n",
       "20                 89.9                   0.0  2013-08-31 15:00:04   \n",
       "73                 39.9                   0.0  2013-08-30 10:08:38   \n",
       "74                 39.9                   0.0  2013-08-30 10:08:38   \n",
       "\n",
       "    order_status  order_count  is_customer_rate         ...           \\\n",
       "18           101          2.0               0.0         ...            \n",
       "19           101          2.0               0.0         ...            \n",
       "20           101          1.0               0.0         ...            \n",
       "73           101          2.0               0.0         ...            \n",
       "74           101          2.0               0.0         ...            \n",
       "\n",
       "    customer_gender  member_status  is_member_actived  goods_id  \\\n",
       "18              NaN            NaN                NaN       998   \n",
       "19              NaN            NaN                NaN      1958   \n",
       "20              NaN            NaN                NaN       998   \n",
       "73              NaN            NaN                NaN      1983   \n",
       "74              NaN            NaN                NaN      1468   \n",
       "\n",
       "    goods_class_id goods_price goods_status  goods_has_discount  \\\n",
       "18             998   54.836807          1.0                 0.0   \n",
       "19            1958   46.118263          2.0                 0.0   \n",
       "20             998   54.810267          1.0                 0.0   \n",
       "73            1983   53.037544          1.0                 1.0   \n",
       "74            1468   46.181811          0.0                 1.0   \n",
       "\n",
       "        goods_list_time    goods_delist_time  \n",
       "18  2014-10-25 11:08:07  2014-11-01 11:08:07  \n",
       "19  2013-09-21 08:58:00  2013-09-27 17:37:59  \n",
       "20  2014-10-25 11:08:07  2014-11-01 11:08:07  \n",
       "73  2014-10-28 14:31:17  2014-11-04 14:31:17  \n",
       "74  2014-04-18 11:00:22  2014-04-18 17:00:38  \n",
       "\n",
       "[5 rows x 29 columns]"
      ]
     },
     "execution_count": null,
     "metadata": {},
     "output_type": "execute_result"
    }
   ],
   "source": [
    "train[train.order_status>6].head()"
   ]
  },
  {
   "cell_type": "markdown",
   "metadata": {
    "collapsed": false
   },
   "source": [
    "训练集有2306871条数据，占用的内存会比较大，可以对内存进行一定的优化。\n",
    "\n",
    "可以考虑的优化步骤包括\n",
    "- 查询列的数值范围\n",
    "- 给每一列选择合适的数值类型\n",
    "- 修改数值类型\n",
    "- 把日期列切成年月日3列(默认的datatime会比较占空间)\n",
    "- 填充NaN"
   ]
  },
  {
   "cell_type": "code",
   "execution_count": null,
   "metadata": {
    "collapsed": false
   },
   "outputs": [
    {
     "name": "stdout",
     "output_type": "stream",
     "text": [
      "训练集使用内容 349.8006525039673 MB\n",
      "测试集使用内存 24.200225830078125 MB\n"
     ]
    }
   ],
   "source": [
    "# 处理id字段\n",
    "train['order_detail_id'] = train['order_detail_id'].astype(np.uint32)\n",
    "train['order_id'] = train['order_id'].astype(np.uint32)\n",
    "train['customer_id'] = train['customer_id'].astype(np.uint32)\n",
    "train['goods_id'] = train['goods_id'].astype(np.uint32)\n",
    "train['goods_class_id'] = train['goods_class_id'].astype(np.uint32)\n",
    "train['member_id'] = train['member_id'].astype(np.uint32)\n",
    "# 处理状态字段，这里同时处理空值，将空值置为0\n",
    "train['order_status'] = train['order_status'].astype(np.uint8)\n",
    "train['goods_has_discount'] = train['goods_has_discount'].astype(np.uint8)\n",
    "train[\"is_member_actived\"].fillna(0, inplace=True)\n",
    "train[\"is_member_actived\"]=train[\"is_member_actived\"].astype(np.int8)\n",
    "train[\"member_status\"].fillna(0, inplace=True)\n",
    "train[\"member_status\"]=train[\"member_status\"].astype(np.int8)\n",
    "train[\"customer_gender\"].fillna(0, inplace=True)\n",
    "train[\"customer_gender\"]=train[\"customer_gender\"].astype(np.int8)\n",
    "train['is_customer_rate'] = train['is_customer_rate'].astype(np.uint8)\n",
    "train['order_detail_status'] = train['order_detail_status'].astype(np.uint8)\n",
    "# 处理日期\n",
    "train['goods_list_time']=pd.to_datetime(train['goods_list_time'],format=\"%Y-%m-%d\")\n",
    "train['order_pay_time']=pd.to_datetime(train['order_pay_time'],format=\"%Y-%m-%d\")\n",
    "train['goods_delist_time']=pd.to_datetime(train['goods_delist_time'],format=\"%Y-%m-%d\")\n",
    "# 检查内存使用\n",
    "mem_train = train.memory_usage(index=True).sum()\n",
    "mem_test=test.memory_usage(index=True).sum()\n",
    "print(u\"训练集使用内容 \"+ str(mem_train/ 1024**2)+\" MB\")\n",
    "print(u\"测试集使用内存 \"+ str(mem_test/ 1024**2)+\" MB\")"
   ]
  },
  {
   "cell_type": "markdown",
   "metadata": {
    "collapsed": false
   },
   "source": [
    "### 商品原始价格分析\n",
    "- 从图中可以看出负值价格的商品情况还是比较多的，但这里有个非常奇怪的情况，这些负值商品涉及的订单并没有折扣标记。难道是买二送一？或者优惠券？\n",
    "- 进一步分析发现，这些负值价格的商品流水记录尽管有2145条，对应只有25个商品`id`，集中度非常高\n",
    "\t- 有可能是默认的赠品？\n",
    "    - 也可能是类似“一元/分钱抢XXX”活动的商品\n",
    "    - 还有可能是活动商品\n",
    "  \n",
    " 这里引发了一个怀疑，商品价格是不是真的商品价格？有电商购物经验时我们会知道，有时优惠券抵扣的价格会以比较奇怪的形式（可能是按比例）分摊在每个商品上，如果是这样的话，那么这里商品价格的特征要附加是否有优惠券抵扣？不清楚业务规则的情况下，商品价格的特征处理比较麻烦。"
   ]
  },
  {
   "cell_type": "code",
   "execution_count": null,
   "metadata": {
    "collapsed": false
   },
   "outputs": [
    {
     "data": {
      "text/plain": [
       "<matplotlib.axes._subplots.AxesSubplot at 0x7f826b9eb490>"
      ]
     },
     "execution_count": null,
     "metadata": {},
     "output_type": "execute_result"
    },
    {
     "data": {
      "image/png": "[encoded data removed]",
      "text/plain": [
       "<Figure size 720x288 with 1 Axes>"
      ]
     },
     "metadata": {},
     "output_type": "display_data"
    },
    {
     "data": {
      "image/png": "[encoded data removed]",
      "text/plain": [
       "<Figure size 720x288 with 1 Axes>"
      ]
     },
     "metadata": {},
     "output_type": "display_data"
    }
   ],
   "source": [
    "plt.figure(figsize=(10,4))\n",
    "# x轴坐标范围\n",
    "plt.xlim(-100, 100)\n",
    "sns.boxplot(x=train.goods_price)\n",
    "\n",
    "plt.figure(figsize=(10,4))\n",
    "# x轴坐标范围\n",
    "plt.xlim(train.goods_price.min(), train.goods_price.max()*1.1)\n",
    "sns.boxplot(x=train.goods_price)"
   ]
  },
  {
   "cell_type": "code",
   "execution_count": null,
   "metadata": {
    "collapsed": false
   },
   "outputs": [
    {
     "data": {
      "text/html": [
       "<div>\n",
       "<style scoped>\n",
       "    .dataframe tbody tr th:only-of-type {\n",
       "        vertical-align: middle;\n",
       "    }\n",
       "\n",
       "    .dataframe tbody tr th {\n",
       "        vertical-align: top;\n",
       "    }\n",
       "\n",
       "    .dataframe thead th {\n",
       "        text-align: right;\n",
       "    }\n",
       "</style>\n",
       "<table border=\"1\" class=\"dataframe\">\n",
       "  <thead>\n",
       "    <tr style=\"text-align: right;\">\n",
       "      <th></th>\n",
       "      <th>order_detail_id</th>\n",
       "      <th>order_id</th>\n",
       "      <th>order_total_num</th>\n",
       "      <th>order_amount</th>\n",
       "      <th>order_total_payment</th>\n",
       "      <th>order_total_discount</th>\n",
       "      <th>order_pay_time</th>\n",
       "      <th>order_status</th>\n",
       "      <th>order_count</th>\n",
       "      <th>is_customer_rate</th>\n",
       "      <th>...</th>\n",
       "      <th>customer_gender</th>\n",
       "      <th>member_status</th>\n",
       "      <th>is_member_actived</th>\n",
       "      <th>goods_id</th>\n",
       "      <th>goods_class_id</th>\n",
       "      <th>goods_price</th>\n",
       "      <th>goods_status</th>\n",
       "      <th>goods_has_discount</th>\n",
       "      <th>goods_list_time</th>\n",
       "      <th>goods_delist_time</th>\n",
       "    </tr>\n",
       "  </thead>\n",
       "  <tbody>\n",
       "    <tr>\n",
       "      <th>2312</th>\n",
       "      <td>1003841</td>\n",
       "      <td>1003239</td>\n",
       "      <td>1.0</td>\n",
       "      <td>0.01</td>\n",
       "      <td>0.01</td>\n",
       "      <td>0.0</td>\n",
       "      <td>2013-05-12 20:21:07</td>\n",
       "      <td>6</td>\n",
       "      <td>1.0</td>\n",
       "      <td>0</td>\n",
       "      <td>...</td>\n",
       "      <td>0</td>\n",
       "      <td>0</td>\n",
       "      <td>0</td>\n",
       "      <td>2538</td>\n",
       "      <td>2538</td>\n",
       "      <td>-12.965136</td>\n",
       "      <td>1.0</td>\n",
       "      <td>0</td>\n",
       "      <td>2014-10-28 09:43:51</td>\n",
       "      <td>2014-11-04 09:43:51</td>\n",
       "    </tr>\n",
       "    <tr>\n",
       "      <th>2523</th>\n",
       "      <td>1004052</td>\n",
       "      <td>1003440</td>\n",
       "      <td>1.0</td>\n",
       "      <td>0.01</td>\n",
       "      <td>0.01</td>\n",
       "      <td>0.0</td>\n",
       "      <td>2013-04-22 10:22:39</td>\n",
       "      <td>6</td>\n",
       "      <td>1.0</td>\n",
       "      <td>0</td>\n",
       "      <td>...</td>\n",
       "      <td>0</td>\n",
       "      <td>0</td>\n",
       "      <td>0</td>\n",
       "      <td>2538</td>\n",
       "      <td>2538</td>\n",
       "      <td>-9.717323</td>\n",
       "      <td>1.0</td>\n",
       "      <td>0</td>\n",
       "      <td>2014-10-28 09:43:51</td>\n",
       "      <td>2014-11-04 09:43:51</td>\n",
       "    </tr>\n",
       "    <tr>\n",
       "      <th>2822</th>\n",
       "      <td>1004351</td>\n",
       "      <td>1003720</td>\n",
       "      <td>23.0</td>\n",
       "      <td>23.00</td>\n",
       "      <td>23.00</td>\n",
       "      <td>0.0</td>\n",
       "      <td>2013-04-03 21:40:50</td>\n",
       "      <td>6</td>\n",
       "      <td>1.0</td>\n",
       "      <td>0</td>\n",
       "      <td>...</td>\n",
       "      <td>0</td>\n",
       "      <td>0</td>\n",
       "      <td>0</td>\n",
       "      <td>1768</td>\n",
       "      <td>1768</td>\n",
       "      <td>-0.334533</td>\n",
       "      <td>1.0</td>\n",
       "      <td>0</td>\n",
       "      <td>2014-10-28 11:30:18</td>\n",
       "      <td>2014-11-04 11:30:18</td>\n",
       "    </tr>\n",
       "    <tr>\n",
       "      <th>5203</th>\n",
       "      <td>1006732</td>\n",
       "      <td>1005821</td>\n",
       "      <td>1.0</td>\n",
       "      <td>1.00</td>\n",
       "      <td>1.00</td>\n",
       "      <td>0.0</td>\n",
       "      <td>2013-01-24 22:00:31</td>\n",
       "      <td>6</td>\n",
       "      <td>1.0</td>\n",
       "      <td>0</td>\n",
       "      <td>...</td>\n",
       "      <td>0</td>\n",
       "      <td>0</td>\n",
       "      <td>0</td>\n",
       "      <td>3098</td>\n",
       "      <td>3098</td>\n",
       "      <td>-16.420158</td>\n",
       "      <td>2.0</td>\n",
       "      <td>0</td>\n",
       "      <td>2014-01-10 15:47:52</td>\n",
       "      <td>2014-01-11 12:46:23</td>\n",
       "    </tr>\n",
       "    <tr>\n",
       "      <th>6193</th>\n",
       "      <td>1007722</td>\n",
       "      <td>1006556</td>\n",
       "      <td>1.0</td>\n",
       "      <td>1.00</td>\n",
       "      <td>1.00</td>\n",
       "      <td>0.0</td>\n",
       "      <td>2013-01-09 14:13:06</td>\n",
       "      <td>6</td>\n",
       "      <td>1.0</td>\n",
       "      <td>0</td>\n",
       "      <td>...</td>\n",
       "      <td>0</td>\n",
       "      <td>0</td>\n",
       "      <td>0</td>\n",
       "      <td>3278</td>\n",
       "      <td>3278</td>\n",
       "      <td>-7.076659</td>\n",
       "      <td>2.0</td>\n",
       "      <td>0</td>\n",
       "      <td>2013-01-09 14:00:00</td>\n",
       "      <td>2013-01-09 14:00:06</td>\n",
       "    </tr>\n",
       "  </tbody>\n",
       "</table>\n",
       "<p>5 rows × 29 columns</p>\n",
       "</div>"
      ],
      "text/plain": [
       "      order_detail_id  order_id  order_total_num  order_amount  \\\n",
       "2312          1003841   1003239              1.0          0.01   \n",
       "2523          1004052   1003440              1.0          0.01   \n",
       "2822          1004351   1003720             23.0         23.00   \n",
       "5203          1006732   1005821              1.0          1.00   \n",
       "6193          1007722   1006556              1.0          1.00   \n",
       "\n",
       "      order_total_payment  order_total_discount      order_pay_time  \\\n",
       "2312                 0.01                   0.0 2013-05-12 20:21:07   \n",
       "2523                 0.01                   0.0 2013-04-22 10:22:39   \n",
       "2822                23.00                   0.0 2013-04-03 21:40:50   \n",
       "5203                 1.00                   0.0 2013-01-24 22:00:31   \n",
       "6193                 1.00                   0.0 2013-01-09 14:13:06   \n",
       "\n",
       "      order_status  order_count  is_customer_rate         ...          \\\n",
       "2312             6          1.0                 0         ...           \n",
       "2523             6          1.0                 0         ...           \n",
       "2822             6          1.0                 0         ...           \n",
       "5203             6          1.0                 0         ...           \n",
       "6193             6          1.0                 0         ...           \n",
       "\n",
       "      customer_gender  member_status  is_member_actived  goods_id  \\\n",
       "2312                0              0                  0      2538   \n",
       "2523                0              0                  0      2538   \n",
       "2822                0              0                  0      1768   \n",
       "5203                0              0                  0      3098   \n",
       "6193                0              0                  0      3278   \n",
       "\n",
       "      goods_class_id goods_price goods_status  goods_has_discount  \\\n",
       "2312            2538  -12.965136          1.0                   0   \n",
       "2523            2538   -9.717323          1.0                   0   \n",
       "2822            1768   -0.334533          1.0                   0   \n",
       "5203            3098  -16.420158          2.0                   0   \n",
       "6193            3278   -7.076659          2.0                   0   \n",
       "\n",
       "         goods_list_time   goods_delist_time  \n",
       "2312 2014-10-28 09:43:51 2014-11-04 09:43:51  \n",
       "2523 2014-10-28 09:43:51 2014-11-04 09:43:51  \n",
       "2822 2014-10-28 11:30:18 2014-11-04 11:30:18  \n",
       "5203 2014-01-10 15:47:52 2014-01-11 12:46:23  \n",
       "6193 2013-01-09 14:00:00 2013-01-09 14:00:06  \n",
       "\n",
       "[5 rows x 29 columns]"
      ]
     },
     "execution_count": null,
     "metadata": {},
     "output_type": "execute_result"
    }
   ],
   "source": [
    "train[train.goods_price<0].head()"
   ]
  },
  {
   "cell_type": "markdown",
   "metadata": {
    "collapsed": false
   },
   "source": [
    "### 订单优惠折扣分析\n",
    "这块数据就更奇怪了，感觉`goods_has_discount`这个字段反映的根本不是折扣的真实情况，诸如类似一元抢购和绝大多数折扣的场景根本没有识别出来"
   ]
  },
  {
   "cell_type": "code",
   "execution_count": null,
   "metadata": {
    "collapsed": false
   },
   "outputs": [
    {
     "data": {
      "text/plain": [
       "<matplotlib.axes._subplots.AxesSubplot at 0x7f826b8b31d0>"
      ]
     },
     "execution_count": null,
     "metadata": {},
     "output_type": "execute_result"
    },
    {
     "data": {
      "image/png": "[encoded data removed]",
      "text/plain": [
       "<Figure size 720x288 with 1 Axes>"
      ]
     },
     "metadata": {},
     "output_type": "display_data"
    },
    {
     "data": {
      "image/png": "[encoded data removed]",
      "text/plain": [
       "<Figure size 720x288 with 1 Axes>"
      ]
     },
     "metadata": {},
     "output_type": "display_data"
    }
   ],
   "source": [
    "plt.figure(figsize=(10,4))\n",
    "# x轴坐标范围\n",
    "plt.xlim(-120, 80000)\n",
    "sns.boxplot(x=train.order_detail_discount)\n",
    "\n",
    "plt.figure(figsize=(10,4))\n",
    "# x轴坐标范围\n",
    "plt.xlim(train.order_detail_discount.min(), train.order_detail_discount.max()*1.1)\n",
    "sns.boxplot(x=train.order_detail_discount)"
   ]
  },
  {
   "cell_type": "code",
   "execution_count": null,
   "metadata": {
    "collapsed": false
   },
   "outputs": [
    {
     "data": {
      "text/html": [
       "<div>\n",
       "<style scoped>\n",
       "    .dataframe tbody tr th:only-of-type {\n",
       "        vertical-align: middle;\n",
       "    }\n",
       "\n",
       "    .dataframe tbody tr th {\n",
       "        vertical-align: top;\n",
       "    }\n",
       "\n",
       "    .dataframe thead th {\n",
       "        text-align: right;\n",
       "    }\n",
       "</style>\n",
       "<table border=\"1\" class=\"dataframe\">\n",
       "  <thead>\n",
       "    <tr style=\"text-align: right;\">\n",
       "      <th></th>\n",
       "      <th>order_detail_id</th>\n",
       "      <th>order_id</th>\n",
       "      <th>order_total_num</th>\n",
       "      <th>order_amount</th>\n",
       "      <th>order_total_payment</th>\n",
       "      <th>order_total_discount</th>\n",
       "      <th>order_pay_time</th>\n",
       "      <th>order_status</th>\n",
       "      <th>order_count</th>\n",
       "      <th>is_customer_rate</th>\n",
       "      <th>...</th>\n",
       "      <th>customer_gender</th>\n",
       "      <th>member_status</th>\n",
       "      <th>is_member_actived</th>\n",
       "      <th>goods_id</th>\n",
       "      <th>goods_class_id</th>\n",
       "      <th>goods_price</th>\n",
       "      <th>goods_status</th>\n",
       "      <th>goods_has_discount</th>\n",
       "      <th>goods_list_time</th>\n",
       "      <th>goods_delist_time</th>\n",
       "    </tr>\n",
       "  </thead>\n",
       "  <tbody>\n",
       "    <tr>\n",
       "      <th>1376878</th>\n",
       "      <td>2598479</td>\n",
       "      <td>2364075</td>\n",
       "      <td>256.0</td>\n",
       "      <td>102374.0</td>\n",
       "      <td>22984.4</td>\n",
       "      <td>30.0</td>\n",
       "      <td>2013-01-25 15:26:09</td>\n",
       "      <td>3</td>\n",
       "      <td>1.0</td>\n",
       "      <td>0</td>\n",
       "      <td>...</td>\n",
       "      <td>0</td>\n",
       "      <td>0</td>\n",
       "      <td>0</td>\n",
       "      <td>4473</td>\n",
       "      <td>4473</td>\n",
       "      <td>59.945033</td>\n",
       "      <td>2.0</td>\n",
       "      <td>0</td>\n",
       "      <td>2013-02-19 11:57:38</td>\n",
       "      <td>2013-02-24 10:47:56</td>\n",
       "    </tr>\n",
       "  </tbody>\n",
       "</table>\n",
       "<p>1 rows × 29 columns</p>\n",
       "</div>"
      ],
      "text/plain": [
       "         order_detail_id  order_id  order_total_num  order_amount  \\\n",
       "1376878          2598479   2364075            256.0      102374.0   \n",
       "\n",
       "         order_total_payment  order_total_discount      order_pay_time  \\\n",
       "1376878              22984.4                  30.0 2013-01-25 15:26:09   \n",
       "\n",
       "         order_status  order_count  is_customer_rate         ...          \\\n",
       "1376878             3          1.0                 0         ...           \n",
       "\n",
       "         customer_gender  member_status  is_member_actived  goods_id  \\\n",
       "1376878                0              0                  0      4473   \n",
       "\n",
       "         goods_class_id goods_price goods_status  goods_has_discount  \\\n",
       "1376878            4473   59.945033          2.0                   0   \n",
       "\n",
       "            goods_list_time   goods_delist_time  \n",
       "1376878 2013-02-19 11:57:38 2013-02-24 10:47:56  \n",
       "\n",
       "[1 rows x 29 columns]"
      ]
     },
     "execution_count": null,
     "metadata": {},
     "output_type": "execute_result"
    }
   ],
   "source": [
    "train[train.order_detail_discount>70000].head()"
   ]
  },
  {
   "cell_type": "code",
   "execution_count": null,
   "metadata": {
    "collapsed": false
   },
   "outputs": [
    {
     "data": {
      "text/html": [
       "<div>\n",
       "<style scoped>\n",
       "    .dataframe tbody tr th:only-of-type {\n",
       "        vertical-align: middle;\n",
       "    }\n",
       "\n",
       "    .dataframe tbody tr th {\n",
       "        vertical-align: top;\n",
       "    }\n",
       "\n",
       "    .dataframe thead th {\n",
       "        text-align: right;\n",
       "    }\n",
       "</style>\n",
       "<table border=\"1\" class=\"dataframe\">\n",
       "  <thead>\n",
       "    <tr style=\"text-align: right;\">\n",
       "      <th></th>\n",
       "      <th>order_detail_id</th>\n",
       "      <th>order_id</th>\n",
       "      <th>order_total_num</th>\n",
       "      <th>order_amount</th>\n",
       "      <th>order_total_payment</th>\n",
       "      <th>order_total_discount</th>\n",
       "      <th>order_pay_time</th>\n",
       "      <th>order_status</th>\n",
       "      <th>order_count</th>\n",
       "      <th>is_customer_rate</th>\n",
       "      <th>...</th>\n",
       "      <th>customer_gender</th>\n",
       "      <th>member_status</th>\n",
       "      <th>is_member_actived</th>\n",
       "      <th>goods_id</th>\n",
       "      <th>goods_class_id</th>\n",
       "      <th>goods_price</th>\n",
       "      <th>goods_status</th>\n",
       "      <th>goods_has_discount</th>\n",
       "      <th>goods_list_time</th>\n",
       "      <th>goods_delist_time</th>\n",
       "    </tr>\n",
       "  </thead>\n",
       "  <tbody>\n",
       "    <tr>\n",
       "      <th>9313</th>\n",
       "      <td>1010842</td>\n",
       "      <td>1009334</td>\n",
       "      <td>2.0</td>\n",
       "      <td>545.8</td>\n",
       "      <td>465.8</td>\n",
       "      <td>50.0</td>\n",
       "      <td>2012-11-11 08:24:57</td>\n",
       "      <td>6</td>\n",
       "      <td>1.0</td>\n",
       "      <td>0</td>\n",
       "      <td>...</td>\n",
       "      <td>0</td>\n",
       "      <td>0</td>\n",
       "      <td>0</td>\n",
       "      <td>3733</td>\n",
       "      <td>3733</td>\n",
       "      <td>63.994268</td>\n",
       "      <td>2.0</td>\n",
       "      <td>0</td>\n",
       "      <td>2012-11-06 15:53:21</td>\n",
       "      <td>2012-11-11 01:41:31</td>\n",
       "    </tr>\n",
       "    <tr>\n",
       "      <th>9328</th>\n",
       "      <td>1010857</td>\n",
       "      <td>1009349</td>\n",
       "      <td>1.0</td>\n",
       "      <td>120.5</td>\n",
       "      <td>85.5</td>\n",
       "      <td>25.0</td>\n",
       "      <td>2012-11-11 09:15:22</td>\n",
       "      <td>6</td>\n",
       "      <td>1.0</td>\n",
       "      <td>0</td>\n",
       "      <td>...</td>\n",
       "      <td>0</td>\n",
       "      <td>0</td>\n",
       "      <td>0</td>\n",
       "      <td>3008</td>\n",
       "      <td>3008</td>\n",
       "      <td>55.232862</td>\n",
       "      <td>1.0</td>\n",
       "      <td>0</td>\n",
       "      <td>2014-10-24 16:30:39</td>\n",
       "      <td>2014-10-31 16:30:39</td>\n",
       "    </tr>\n",
       "    <tr>\n",
       "      <th>9346</th>\n",
       "      <td>1010875</td>\n",
       "      <td>1009367</td>\n",
       "      <td>1.0</td>\n",
       "      <td>120.5</td>\n",
       "      <td>85.5</td>\n",
       "      <td>25.0</td>\n",
       "      <td>2012-11-11 01:01:09</td>\n",
       "      <td>6</td>\n",
       "      <td>1.0</td>\n",
       "      <td>0</td>\n",
       "      <td>...</td>\n",
       "      <td>0</td>\n",
       "      <td>0</td>\n",
       "      <td>0</td>\n",
       "      <td>3008</td>\n",
       "      <td>3008</td>\n",
       "      <td>55.243978</td>\n",
       "      <td>1.0</td>\n",
       "      <td>0</td>\n",
       "      <td>2014-10-24 16:30:39</td>\n",
       "      <td>2014-10-31 16:30:39</td>\n",
       "    </tr>\n",
       "    <tr>\n",
       "      <th>9362</th>\n",
       "      <td>1010891</td>\n",
       "      <td>1009383</td>\n",
       "      <td>1.0</td>\n",
       "      <td>120.5</td>\n",
       "      <td>85.5</td>\n",
       "      <td>25.0</td>\n",
       "      <td>2012-11-11 01:02:18</td>\n",
       "      <td>6</td>\n",
       "      <td>1.0</td>\n",
       "      <td>0</td>\n",
       "      <td>...</td>\n",
       "      <td>0</td>\n",
       "      <td>0</td>\n",
       "      <td>0</td>\n",
       "      <td>3008</td>\n",
       "      <td>3008</td>\n",
       "      <td>55.197161</td>\n",
       "      <td>1.0</td>\n",
       "      <td>0</td>\n",
       "      <td>2014-10-24 16:30:39</td>\n",
       "      <td>2014-10-31 16:30:39</td>\n",
       "    </tr>\n",
       "    <tr>\n",
       "      <th>9365</th>\n",
       "      <td>1010894</td>\n",
       "      <td>1009386</td>\n",
       "      <td>1.0</td>\n",
       "      <td>116.4</td>\n",
       "      <td>86.4</td>\n",
       "      <td>20.0</td>\n",
       "      <td>2012-11-11 01:03:33</td>\n",
       "      <td>6</td>\n",
       "      <td>1.0</td>\n",
       "      <td>0</td>\n",
       "      <td>...</td>\n",
       "      <td>0</td>\n",
       "      <td>0</td>\n",
       "      <td>0</td>\n",
       "      <td>1858</td>\n",
       "      <td>1858</td>\n",
       "      <td>56.777319</td>\n",
       "      <td>1.0</td>\n",
       "      <td>0</td>\n",
       "      <td>2014-10-24 23:59:59</td>\n",
       "      <td>2014-10-31 23:59:59</td>\n",
       "    </tr>\n",
       "  </tbody>\n",
       "</table>\n",
       "<p>5 rows × 29 columns</p>\n",
       "</div>"
      ],
      "text/plain": [
       "      order_detail_id  order_id  order_total_num  order_amount  \\\n",
       "9313          1010842   1009334              2.0         545.8   \n",
       "9328          1010857   1009349              1.0         120.5   \n",
       "9346          1010875   1009367              1.0         120.5   \n",
       "9362          1010891   1009383              1.0         120.5   \n",
       "9365          1010894   1009386              1.0         116.4   \n",
       "\n",
       "      order_total_payment  order_total_discount      order_pay_time  \\\n",
       "9313                465.8                  50.0 2012-11-11 08:24:57   \n",
       "9328                 85.5                  25.0 2012-11-11 09:15:22   \n",
       "9346                 85.5                  25.0 2012-11-11 01:01:09   \n",
       "9362                 85.5                  25.0 2012-11-11 01:02:18   \n",
       "9365                 86.4                  20.0 2012-11-11 01:03:33   \n",
       "\n",
       "      order_status  order_count  is_customer_rate         ...          \\\n",
       "9313             6          1.0                 0         ...           \n",
       "9328             6          1.0                 0         ...           \n",
       "9346             6          1.0                 0         ...           \n",
       "9362             6          1.0                 0         ...           \n",
       "9365             6          1.0                 0         ...           \n",
       "\n",
       "      customer_gender  member_status  is_member_actived  goods_id  \\\n",
       "9313                0              0                  0      3733   \n",
       "9328                0              0                  0      3008   \n",
       "9346                0              0                  0      3008   \n",
       "9362                0              0                  0      3008   \n",
       "9365                0              0                  0      1858   \n",
       "\n",
       "      goods_class_id goods_price goods_status  goods_has_discount  \\\n",
       "9313            3733   63.994268          2.0                   0   \n",
       "9328            3008   55.232862          1.0                   0   \n",
       "9346            3008   55.243978          1.0                   0   \n",
       "9362            3008   55.197161          1.0                   0   \n",
       "9365            1858   56.777319          1.0                   0   \n",
       "\n",
       "         goods_list_time   goods_delist_time  \n",
       "9313 2012-11-06 15:53:21 2012-11-11 01:41:31  \n",
       "9328 2014-10-24 16:30:39 2014-10-31 16:30:39  \n",
       "9346 2014-10-24 16:30:39 2014-10-31 16:30:39  \n",
       "9362 2014-10-24 16:30:39 2014-10-31 16:30:39  \n",
       "9365 2014-10-24 23:59:59 2014-10-31 23:59:59  \n",
       "\n",
       "[5 rows x 29 columns]"
      ]
     },
     "execution_count": null,
     "metadata": {},
     "output_type": "execute_result"
    }
   ],
   "source": [
    "train[train.order_detail_discount<0].head()"
   ]
  },
  {
   "cell_type": "markdown",
   "metadata": {
    "collapsed": false
   },
   "source": [
    "## 中文id映射\n",
    "有一些字段是中文，在服务器上不好显示，这里先做ID映射\n",
    "\n",
    "但其实这样处理省市信息还是有点问题的，后续应该要改，比赛数据集的id列都需要额外处理\n",
    "\n",
    "> 在机器学习算法中，特征之间距离的计算是十分重要的。因此，直接把离散变量的取值转化为数值，并不能很好地代表特征之间的距离——《深入理解XGBoost：高效机器学习算法与进阶》"
   ]
  },
  {
   "cell_type": "code",
   "execution_count": null,
   "metadata": {
    "collapsed": false
   },
   "outputs": [],
   "source": [
    "train['customer_city_id'] = LabelEncoder().fit_transform(train['customer_city'].astype(str))\n",
    "train['customer_province_id'] = LabelEncoder().fit_transform(train['customer_province'].astype(str))"
   ]
  },
  {
   "cell_type": "markdown",
   "metadata": {
    "collapsed": false
   },
   "source": [
    "## 日期处理\n",
    "- 下单日期就以付款时间为准\n",
    "- 商品的上架和下架时间比较难处理，但是还是需要\n",
    "    - 如果商品下架，预测销量应该直接为0才对"
   ]
  },
  {
   "cell_type": "code",
   "execution_count": null,
   "metadata": {
    "collapsed": false
   },
   "outputs": [],
   "source": [
    "# 处理日期\n",
    "# train['order_pay_time']=pd.to_datetime(train['order_pay_time'],format=\"%Y-%m-%d\")\n",
    "# 增加年月日时间字段\n",
    "train['Year'] = pd.DatetimeIndex(train['order_pay_time']).year\n",
    "train['Month'] = pd.DatetimeIndex(train['order_pay_time']).month\n",
    "train['Day'] =pd.DatetimeIndex(train['order_pay_time']).day.astype(np.uint8)\n",
    "train['Hour'] =pd.DatetimeIndex(train['order_pay_time']).hour"
   ]
  },
  {
   "cell_type": "markdown",
   "metadata": {
    "collapsed": false
   },
   "source": [
    "年度销售情况"
   ]
  },
  {
   "cell_type": "code",
   "execution_count": null,
   "metadata": {
    "collapsed": false
   },
   "outputs": [],
   "source": [
    "# 切分不同的时间段\n",
    "train_2012=train.loc[train['Year']==2012]\n",
    "train_2013=train.loc[train['Year'] ==2013]"
   ]
  },
  {
   "cell_type": "markdown",
   "metadata": {
    "collapsed": false
   },
   "source": [
    "# EDA\n",
    "## 探索用户分布基本信息"
   ]
  },
  {
   "cell_type": "markdown",
   "metadata": {
    "collapsed": false
   },
   "source": [
    "### 用户性别"
   ]
  },
  {
   "cell_type": "code",
   "execution_count": null,
   "metadata": {
    "collapsed": false
   },
   "outputs": [
    {
     "data": {
      "text/plain": [
       "<matplotlib.axes._subplots.AxesSubplot at 0x7f826b85f5d0>"
      ]
     },
     "execution_count": null,
     "metadata": {},
     "output_type": "execute_result"
    },
    {
     "data": {
      "image/png": "[encoded data removed]",
      "text/plain": [
       "<Figure size 576x288 with 1 Axes>"
      ]
     },
     "metadata": {},
     "output_type": "display_data"
    }
   ],
   "source": [
    "# 用户性别基本未知，这个标签基本没法用\n",
    "plt.figure(figsize=(8,4))\n",
    "plt.title('会员性别分布', fontproperties=myfont)\n",
    "train.customer_gender.value_counts().plot.bar()"
   ]
  },
  {
   "cell_type": "markdown",
   "metadata": {
    "collapsed": false
   },
   "source": [
    "### 用户城市"
   ]
  },
  {
   "cell_type": "code",
   "execution_count": null,
   "metadata": {
    "collapsed": false
   },
   "outputs": [
    {
     "data": {
      "image/png": "[encoded data removed]",
      "text/plain": [
       "<Figure size 1728x576 with 1 Axes>"
      ]
     },
     "metadata": {},
     "output_type": "display_data"
    }
   ],
   "source": [
    "plt.figure(figsize=(24,8))\n",
    "plt.title('用户城市分布',fontproperties=myfont)\n",
    "x = train.customer_city.value_counts().head(30).index\n",
    "# train.customer_city.value_counts().head(30).plot.bar()\n",
    "plt.bar(train.customer_city.value_counts().head(30).index, train.customer_city.value_counts().head(30).values)\n",
    "# 做坐标刻度\n",
    "plt.xticks(x, fontproperties=myfont, rotation=45)\n",
    "plt.show()"
   ]
  },
  {
   "cell_type": "markdown",
   "metadata": {
    "collapsed": false
   },
   "source": [
    "### 用户省份"
   ]
  },
  {
   "cell_type": "code",
   "execution_count": null,
   "metadata": {
    "collapsed": false
   },
   "outputs": [
    {
     "data": {
      "image/png": "[encoded data removed]",
      "text/plain": [
       "<Figure size 1728x576 with 1 Axes>"
      ]
     },
     "metadata": {},
     "output_type": "display_data"
    }
   ],
   "source": [
    "plt.figure(figsize=(24,8))\n",
    "plt.title('用户省份分布',fontproperties=myfont)\n",
    "x = train.customer_province.value_counts().index\n",
    "plt.bar(train.customer_province.value_counts().index, train.customer_province.value_counts().values)\n",
    "# 做坐标刻度\n",
    "plt.xticks(x, fontproperties=myfont, rotation=45)\n",
    "plt.show()"
   ]
  },
  {
   "cell_type": "markdown",
   "metadata": {
    "collapsed": false
   },
   "source": [
    "### 会员状态"
   ]
  },
  {
   "cell_type": "code",
   "execution_count": null,
   "metadata": {
    "collapsed": false
   },
   "outputs": [
    {
     "data": {
      "text/plain": [
       "(array([0, 1]), <a list of 2 Text xticklabel objects>)"
      ]
     },
     "execution_count": null,
     "metadata": {},
     "output_type": "execute_result"
    },
    {
     "data": {
      "image/png": "[encoded data removed]",
      "text/plain": [
       "<Figure size 576x288 with 1 Axes>"
      ]
     },
     "metadata": {},
     "output_type": "display_data"
    }
   ],
   "source": [
    "plt.figure(figsize=(8,4))\n",
    "plt.title('会员状态',fontproperties=myfont)\n",
    "train.member_status.value_counts().plot.bar()\n",
    "plt.xticks(rotation=0)"
   ]
  },
  {
   "cell_type": "markdown",
   "metadata": {
    "collapsed": false
   },
   "source": [
    "### 是否会员"
   ]
  },
  {
   "cell_type": "code",
   "execution_count": null,
   "metadata": {
    "collapsed": false
   },
   "outputs": [
    {
     "data": {
      "text/plain": [
       "(array([0, 1]), <a list of 2 Text xticklabel objects>)"
      ]
     },
     "execution_count": null,
     "metadata": {},
     "output_type": "execute_result"
    },
    {
     "data": {
      "image/png": "[encoded data removed]",
      "text/plain": [
       "<Figure size 576x288 with 1 Axes>"
      ]
     },
     "metadata": {},
     "output_type": "display_data"
    }
   ],
   "source": [
    "plt.figure(figsize=(8,4))\n",
    "plt.title('会员激活情况',fontproperties=myfont)\n",
    "train.is_member_actived.value_counts().plot.bar()\n",
    "plt.xticks(rotation=0)"
   ]
  },
  {
   "cell_type": "markdown",
   "metadata": {
    "collapsed": false
   },
   "source": [
    "### 用户id分布"
   ]
  },
  {
   "cell_type": "code",
   "execution_count": null,
   "metadata": {
    "collapsed": false
   },
   "outputs": [
    {
     "data": {
      "text/plain": [
       "<matplotlib.axes._subplots.AxesSubplot at 0x7f826b58c6d0>"
      ]
     },
     "execution_count": null,
     "metadata": {},
     "output_type": "execute_result"
    },
    {
     "data": {
      "image/png": "[encoded data removed]",
      "text/plain": [
       "<Figure size 576x288 with 1 Axes>"
      ]
     },
     "metadata": {},
     "output_type": "display_data"
    }
   ],
   "source": [
    "plt.figure(figsize=(8,4))\n",
    "plt.title('用户id分布',fontproperties=myfont)\n",
    "sns.distplot(train.customer_id)"
   ]
  },
  {
   "cell_type": "markdown",
   "metadata": {
    "collapsed": false
   },
   "source": [
    "### 用户行为"
   ]
  },
  {
   "cell_type": "code",
   "execution_count": null,
   "metadata": {
    "collapsed": false
   },
   "outputs": [
    {
     "data": {
      "text/plain": [
       "<matplotlib.axes._subplots.AxesSubplot at 0x7f826b6fbfd0>"
      ]
     },
     "execution_count": null,
     "metadata": {},
     "output_type": "execute_result"
    },
    {
     "data": {
      "image/png": "[encoded data removed]",
      "text/plain": [
       "<Figure size 576x288 with 1 Axes>"
      ]
     },
     "metadata": {},
     "output_type": "display_data"
    }
   ],
   "source": [
    "plt.figure(figsize=(8,4))\n",
    "plt.title('订单评价情况分布', fontproperties=myfont)\n",
    "train.is_customer_rate.value_counts().plot.bar()"
   ]
  },
  {
   "cell_type": "markdown",
   "metadata": {
    "collapsed": false
   },
   "source": [
    "## 探索商品分布基本信息"
   ]
  },
  {
   "cell_type": "markdown",
   "metadata": {
    "collapsed": false
   },
   "source": [
    "### 商品分布"
   ]
  },
  {
   "cell_type": "code",
   "execution_count": null,
   "metadata": {
    "collapsed": false
   },
   "outputs": [
    {
     "data": {
      "text/plain": [
       "<matplotlib.axes._subplots.AxesSubplot at 0x7f826b848d90>"
      ]
     },
     "execution_count": null,
     "metadata": {},
     "output_type": "execute_result"
    },
    {
     "data": {
      "image/png": "[encoded data removed]",
      "text/plain": [
       "<Figure size 864x576 with 1 Axes>"
      ]
     },
     "metadata": {},
     "output_type": "display_data"
    }
   ],
   "source": [
    "plt.figure(figsize=(12,8))\n",
    "plt.title('商品分布', fontproperties=myfont)\n",
    "sns.distplot(train.goods_id)"
   ]
  },
  {
   "cell_type": "markdown",
   "metadata": {
    "collapsed": false
   },
   "source": [
    "### 商品类别\n",
    "其实看下面两张图就会发现，这个数据集中，没有真正的商品类别，`train.goods_class_id`就是`train.goods_id`，后续可能需要用聚类算法对商品进行分类"
   ]
  },
  {
   "cell_type": "code",
   "execution_count": null,
   "metadata": {
    "collapsed": false
   },
   "outputs": [
    {
     "data": {
      "text/plain": [
       "<matplotlib.axes._subplots.AxesSubplot at 0x7f826b9a3990>"
      ]
     },
     "execution_count": null,
     "metadata": {},
     "output_type": "execute_result"
    },
    {
     "data": {
      "image/png": "[encoded data removed]",
      "text/plain": [
       "<Figure size 864x576 with 1 Axes>"
      ]
     },
     "metadata": {},
     "output_type": "display_data"
    }
   ],
   "source": [
    "plt.figure(figsize=(12,8))\n",
    "plt.title('商品类别分布', FontProperties=myfont)\n",
    "sns.distplot(train.goods_class_id)"
   ]
  },
  {
   "cell_type": "code",
   "execution_count": null,
   "metadata": {
    "collapsed": false
   },
   "outputs": [
    {
     "data": {
      "text/plain": [
       "<matplotlib.axes._subplots.AxesSubplot at 0x7f826b9e9750>"
      ]
     },
     "execution_count": null,
     "metadata": {},
     "output_type": "execute_result"
    },
    {
     "data": {
      "image/png": "[encoded data removed]",
      "text/plain": [
       "<Figure size 1728x288 with 1 Axes>"
      ]
     },
     "metadata": {},
     "output_type": "display_data"
    }
   ],
   "source": [
    "plt.figure(figsize=(24,4))\n",
    "plt.title('商品类别分布', FontProperties=myfont)\n",
    "train.goods_class_id.value_counts().head(60).plot.bar()"
   ]
  },
  {
   "cell_type": "markdown",
   "metadata": {
    "collapsed": false
   },
   "source": [
    "### 是否会员优惠"
   ]
  },
  {
   "cell_type": "code",
   "execution_count": null,
   "metadata": {
    "collapsed": false
   },
   "outputs": [
    {
     "data": {
      "text/plain": [
       "<matplotlib.axes._subplots.AxesSubplot at 0x7f823e68dfd0>"
      ]
     },
     "execution_count": null,
     "metadata": {},
     "output_type": "execute_result"
    },
    {
     "data": {
      "image/png": "[encoded data removed]",
      "text/plain": [
       "<Figure size 576x288 with 1 Axes>"
      ]
     },
     "metadata": {},
     "output_type": "display_data"
    }
   ],
   "source": [
    "plt.figure(figsize=(8,4))\n",
    "plt.title('商品折扣情况分布', FontProperties=myfont)\n",
    "train.goods_has_discount.value_counts().plot.bar()"
   ]
  },
  {
   "cell_type": "markdown",
   "metadata": {
    "collapsed": false
   },
   "source": [
    "### 商品价格"
   ]
  },
  {
   "cell_type": "code",
   "execution_count": null,
   "metadata": {
    "collapsed": false
   },
   "outputs": [
    {
     "data": {
      "text/plain": [
       "<matplotlib.axes._subplots.AxesSubplot at 0x7f823e680d50>"
      ]
     },
     "execution_count": null,
     "metadata": {},
     "output_type": "execute_result"
    },
    {
     "data": {
      "image/png": "[encoded data removed]",
      "text/plain": [
       "<Figure size 864x576 with 1 Axes>"
      ]
     },
     "metadata": {},
     "output_type": "display_data"
    }
   ],
   "source": [
    "plt.figure(figsize=(12,8))\n",
    "plt.title('商品价格分布', FontProperties=myfont)\n",
    "sns.distplot(train.goods_price)"
   ]
  },
  {
   "cell_type": "markdown",
   "metadata": {
    "collapsed": false
   },
   "source": [
    "## 探索异常交易数据分布\n",
    "全数据集中有9万多条`order_status`为101的数据，怀疑是交易失败、撤单数据，即使2月1日之后也有8万多条，这些数据是否要纳入考虑？这部分比较纠结，因为从用户的角度说，如果已经到了下单了以后才撤单，很可能是确实比较想买；但也无法排除恶意刷单的问题。"
   ]
  },
  {
   "cell_type": "code",
   "execution_count": null,
   "metadata": {
    "collapsed": false
   },
   "outputs": [
    {
     "name": "stderr",
     "output_type": "stream",
     "text": [
      "/opt/conda/envs/python35-paddle120-env/lib/python3.7/site-packages/ipykernel_launcher.py:1: UserWarning: Boolean Series key will be reindexed to match DataFrame index.\n",
      "  \"\"\"Entry point for launching an IPython kernel.\n"
     ]
    },
    {
     "data": {
      "text/html": [
       "<div>\n",
       "<style scoped>\n",
       "    .dataframe tbody tr th:only-of-type {\n",
       "        vertical-align: middle;\n",
       "    }\n",
       "\n",
       "    .dataframe tbody tr th {\n",
       "        vertical-align: top;\n",
       "    }\n",
       "\n",
       "    .dataframe thead th {\n",
       "        text-align: right;\n",
       "    }\n",
       "</style>\n",
       "<table border=\"1\" class=\"dataframe\">\n",
       "  <thead>\n",
       "    <tr style=\"text-align: right;\">\n",
       "      <th></th>\n",
       "      <th>order_detail_id</th>\n",
       "      <th>order_id</th>\n",
       "      <th>order_total_num</th>\n",
       "      <th>order_amount</th>\n",
       "      <th>order_total_payment</th>\n",
       "      <th>order_total_discount</th>\n",
       "      <th>order_pay_time</th>\n",
       "      <th>order_status</th>\n",
       "      <th>order_count</th>\n",
       "      <th>is_customer_rate</th>\n",
       "      <th>...</th>\n",
       "      <th>goods_status</th>\n",
       "      <th>goods_has_discount</th>\n",
       "      <th>goods_list_time</th>\n",
       "      <th>goods_delist_time</th>\n",
       "      <th>customer_city_id</th>\n",
       "      <th>customer_province_id</th>\n",
       "      <th>Year</th>\n",
       "      <th>Month</th>\n",
       "      <th>Day</th>\n",
       "      <th>Hour</th>\n",
       "    </tr>\n",
       "  </thead>\n",
       "  <tbody>\n",
       "    <tr>\n",
       "      <th>18</th>\n",
       "      <td>1001547</td>\n",
       "      <td>1001340</td>\n",
       "      <td>2.0</td>\n",
       "      <td>339.8</td>\n",
       "      <td>89.9</td>\n",
       "      <td>0.0</td>\n",
       "      <td>2013-08-31 15:13:04</td>\n",
       "      <td>101</td>\n",
       "      <td>2.0</td>\n",
       "      <td>0</td>\n",
       "      <td>...</td>\n",
       "      <td>1.0</td>\n",
       "      <td>0</td>\n",
       "      <td>2014-10-25 11:08:07</td>\n",
       "      <td>2014-11-01 11:08:07</td>\n",
       "      <td>90</td>\n",
       "      <td>6</td>\n",
       "      <td>2013</td>\n",
       "      <td>8</td>\n",
       "      <td>31</td>\n",
       "      <td>15</td>\n",
       "    </tr>\n",
       "    <tr>\n",
       "      <th>19</th>\n",
       "      <td>1001548</td>\n",
       "      <td>1001340</td>\n",
       "      <td>2.0</td>\n",
       "      <td>339.8</td>\n",
       "      <td>89.9</td>\n",
       "      <td>0.0</td>\n",
       "      <td>2013-08-31 15:13:04</td>\n",
       "      <td>101</td>\n",
       "      <td>2.0</td>\n",
       "      <td>0</td>\n",
       "      <td>...</td>\n",
       "      <td>2.0</td>\n",
       "      <td>0</td>\n",
       "      <td>2013-09-21 08:58:00</td>\n",
       "      <td>2013-09-27 17:37:59</td>\n",
       "      <td>90</td>\n",
       "      <td>6</td>\n",
       "      <td>2013</td>\n",
       "      <td>8</td>\n",
       "      <td>31</td>\n",
       "      <td>15</td>\n",
       "    </tr>\n",
       "    <tr>\n",
       "      <th>20</th>\n",
       "      <td>1001549</td>\n",
       "      <td>1001341</td>\n",
       "      <td>1.0</td>\n",
       "      <td>239.9</td>\n",
       "      <td>89.9</td>\n",
       "      <td>0.0</td>\n",
       "      <td>2013-08-31 15:00:04</td>\n",
       "      <td>101</td>\n",
       "      <td>1.0</td>\n",
       "      <td>0</td>\n",
       "      <td>...</td>\n",
       "      <td>1.0</td>\n",
       "      <td>0</td>\n",
       "      <td>2014-10-25 11:08:07</td>\n",
       "      <td>2014-11-01 11:08:07</td>\n",
       "      <td>157</td>\n",
       "      <td>17</td>\n",
       "      <td>2013</td>\n",
       "      <td>8</td>\n",
       "      <td>31</td>\n",
       "      <td>15</td>\n",
       "    </tr>\n",
       "    <tr>\n",
       "      <th>73</th>\n",
       "      <td>1001602</td>\n",
       "      <td>1001374</td>\n",
       "      <td>2.0</td>\n",
       "      <td>298.9</td>\n",
       "      <td>39.9</td>\n",
       "      <td>0.0</td>\n",
       "      <td>2013-08-30 10:08:38</td>\n",
       "      <td>101</td>\n",
       "      <td>2.0</td>\n",
       "      <td>0</td>\n",
       "      <td>...</td>\n",
       "      <td>1.0</td>\n",
       "      <td>1</td>\n",
       "      <td>2014-10-28 14:31:17</td>\n",
       "      <td>2014-11-04 14:31:17</td>\n",
       "      <td>100</td>\n",
       "      <td>8</td>\n",
       "      <td>2013</td>\n",
       "      <td>8</td>\n",
       "      <td>30</td>\n",
       "      <td>10</td>\n",
       "    </tr>\n",
       "    <tr>\n",
       "      <th>74</th>\n",
       "      <td>1001603</td>\n",
       "      <td>1001374</td>\n",
       "      <td>2.0</td>\n",
       "      <td>298.9</td>\n",
       "      <td>39.9</td>\n",
       "      <td>0.0</td>\n",
       "      <td>2013-08-30 10:08:38</td>\n",
       "      <td>101</td>\n",
       "      <td>2.0</td>\n",
       "      <td>0</td>\n",
       "      <td>...</td>\n",
       "      <td>0.0</td>\n",
       "      <td>1</td>\n",
       "      <td>2014-04-18 11:00:22</td>\n",
       "      <td>2014-04-18 17:00:38</td>\n",
       "      <td>100</td>\n",
       "      <td>8</td>\n",
       "      <td>2013</td>\n",
       "      <td>8</td>\n",
       "      <td>30</td>\n",
       "      <td>10</td>\n",
       "    </tr>\n",
       "  </tbody>\n",
       "</table>\n",
       "<p>5 rows × 35 columns</p>\n",
       "</div>"
      ],
      "text/plain": [
       "    order_detail_id  order_id  order_total_num  order_amount  \\\n",
       "18          1001547   1001340              2.0         339.8   \n",
       "19          1001548   1001340              2.0         339.8   \n",
       "20          1001549   1001341              1.0         239.9   \n",
       "73          1001602   1001374              2.0         298.9   \n",
       "74          1001603   1001374              2.0         298.9   \n",
       "\n",
       "    order_total_payment  order_total_discount      order_pay_time  \\\n",
       "18                 89.9                   0.0 2013-08-31 15:13:04   \n",
       "19                 89.9                   0.0 2013-08-31 15:13:04   \n",
       "20                 89.9                   0.0 2013-08-31 15:00:04   \n",
       "73                 39.9                   0.0 2013-08-30 10:08:38   \n",
       "74                 39.9                   0.0 2013-08-30 10:08:38   \n",
       "\n",
       "    order_status  order_count  is_customer_rate  ...   goods_status  \\\n",
       "18           101          2.0                 0  ...            1.0   \n",
       "19           101          2.0                 0  ...            2.0   \n",
       "20           101          1.0                 0  ...            1.0   \n",
       "73           101          2.0                 0  ...            1.0   \n",
       "74           101          2.0                 0  ...            0.0   \n",
       "\n",
       "    goods_has_discount     goods_list_time   goods_delist_time  \\\n",
       "18                   0 2014-10-25 11:08:07 2014-11-01 11:08:07   \n",
       "19                   0 2013-09-21 08:58:00 2013-09-27 17:37:59   \n",
       "20                   0 2014-10-25 11:08:07 2014-11-01 11:08:07   \n",
       "73                   1 2014-10-28 14:31:17 2014-11-04 14:31:17   \n",
       "74                   1 2014-04-18 11:00:22 2014-04-18 17:00:38   \n",
       "\n",
       "    customer_city_id customer_province_id  Year  Month  Day  Hour  \n",
       "18                90                    6  2013      8   31    15  \n",
       "19                90                    6  2013      8   31    15  \n",
       "20               157                   17  2013      8   31    15  \n",
       "73               100                    8  2013      8   30    10  \n",
       "74               100                    8  2013      8   30    10  \n",
       "\n",
       "[5 rows x 35 columns]"
      ]
     },
     "execution_count": null,
     "metadata": {},
     "output_type": "execute_result"
    }
   ],
   "source": [
    "tmp = train[train.order_status==101][train.order_pay_time>'2013-02-01']\n",
    "tmp.head()"
   ]
  },
  {
   "cell_type": "code",
   "execution_count": null,
   "metadata": {
    "collapsed": false
   },
   "outputs": [
    {
     "data": {
      "text/html": [
       "<div>\n",
       "<style scoped>\n",
       "    .dataframe tbody tr th:only-of-type {\n",
       "        vertical-align: middle;\n",
       "    }\n",
       "\n",
       "    .dataframe tbody tr th {\n",
       "        vertical-align: top;\n",
       "    }\n",
       "\n",
       "    .dataframe thead th {\n",
       "        text-align: right;\n",
       "    }\n",
       "</style>\n",
       "<table border=\"1\" class=\"dataframe\">\n",
       "  <thead>\n",
       "    <tr style=\"text-align: right;\">\n",
       "      <th></th>\n",
       "      <th>order_detail_id</th>\n",
       "      <th>order_id</th>\n",
       "      <th>order_total_num</th>\n",
       "      <th>order_amount</th>\n",
       "      <th>order_total_payment</th>\n",
       "      <th>order_total_discount</th>\n",
       "      <th>order_status</th>\n",
       "      <th>order_count</th>\n",
       "      <th>is_customer_rate</th>\n",
       "      <th>order_detail_status</th>\n",
       "      <th>...</th>\n",
       "      <th>goods_class_id</th>\n",
       "      <th>goods_price</th>\n",
       "      <th>goods_status</th>\n",
       "      <th>goods_has_discount</th>\n",
       "      <th>customer_city_id</th>\n",
       "      <th>customer_province_id</th>\n",
       "      <th>Year</th>\n",
       "      <th>Month</th>\n",
       "      <th>Day</th>\n",
       "      <th>Hour</th>\n",
       "    </tr>\n",
       "  </thead>\n",
       "  <tbody>\n",
       "    <tr>\n",
       "      <th>count</th>\n",
       "      <td>8.069000e+04</td>\n",
       "      <td>8.069000e+04</td>\n",
       "      <td>80690.000000</td>\n",
       "      <td>80690.000000</td>\n",
       "      <td>80690.000000</td>\n",
       "      <td>80690.000000</td>\n",
       "      <td>80690.0</td>\n",
       "      <td>80690.000000</td>\n",
       "      <td>80690.0</td>\n",
       "      <td>80690.0</td>\n",
       "      <td>...</td>\n",
       "      <td>80690.000000</td>\n",
       "      <td>80681.000000</td>\n",
       "      <td>80690.000000</td>\n",
       "      <td>80690.000000</td>\n",
       "      <td>80690.000000</td>\n",
       "      <td>80690.000000</td>\n",
       "      <td>80690.0</td>\n",
       "      <td>80690.000000</td>\n",
       "      <td>80690.000000</td>\n",
       "      <td>80690.000000</td>\n",
       "    </tr>\n",
       "    <tr>\n",
       "      <th>mean</th>\n",
       "      <td>2.367592e+06</td>\n",
       "      <td>2.159158e+06</td>\n",
       "      <td>1.628727</td>\n",
       "      <td>295.842292</td>\n",
       "      <td>113.194452</td>\n",
       "      <td>2.369286</td>\n",
       "      <td>101.0</td>\n",
       "      <td>1.311166</td>\n",
       "      <td>0.0</td>\n",
       "      <td>101.0</td>\n",
       "      <td>...</td>\n",
       "      <td>1429.857541</td>\n",
       "      <td>52.599164</td>\n",
       "      <td>1.041058</td>\n",
       "      <td>0.123919</td>\n",
       "      <td>178.180803</td>\n",
       "      <td>15.996815</td>\n",
       "      <td>2013.0</td>\n",
       "      <td>5.117871</td>\n",
       "      <td>13.701400</td>\n",
       "      <td>12.962684</td>\n",
       "    </tr>\n",
       "    <tr>\n",
       "      <th>std</th>\n",
       "      <td>7.791512e+05</td>\n",
       "      <td>6.540363e+05</td>\n",
       "      <td>3.540653</td>\n",
       "      <td>380.475620</td>\n",
       "      <td>155.684910</td>\n",
       "      <td>10.017603</td>\n",
       "      <td>0.0</td>\n",
       "      <td>0.758133</td>\n",
       "      <td>0.0</td>\n",
       "      <td>0.0</td>\n",
       "      <td>...</td>\n",
       "      <td>640.106176</td>\n",
       "      <td>5.780158</td>\n",
       "      <td>0.379437</td>\n",
       "      <td>0.329491</td>\n",
       "      <td>106.804837</td>\n",
       "      <td>7.494300</td>\n",
       "      <td>0.0</td>\n",
       "      <td>2.344358</td>\n",
       "      <td>8.942865</td>\n",
       "      <td>5.809662</td>\n",
       "    </tr>\n",
       "    <tr>\n",
       "      <th>min</th>\n",
       "      <td>1.001547e+06</td>\n",
       "      <td>1.001340e+06</td>\n",
       "      <td>1.000000</td>\n",
       "      <td>0.010000</td>\n",
       "      <td>0.010000</td>\n",
       "      <td>0.000000</td>\n",
       "      <td>101.0</td>\n",
       "      <td>1.000000</td>\n",
       "      <td>0.0</td>\n",
       "      <td>101.0</td>\n",
       "      <td>...</td>\n",
       "      <td>998.000000</td>\n",
       "      <td>-26.782614</td>\n",
       "      <td>0.000000</td>\n",
       "      <td>0.000000</td>\n",
       "      <td>0.000000</td>\n",
       "      <td>0.000000</td>\n",
       "      <td>2013.0</td>\n",
       "      <td>2.000000</td>\n",
       "      <td>1.000000</td>\n",
       "      <td>0.000000</td>\n",
       "    </tr>\n",
       "    <tr>\n",
       "      <th>25%</th>\n",
       "      <td>1.689368e+06</td>\n",
       "      <td>1.588600e+06</td>\n",
       "      <td>1.000000</td>\n",
       "      <td>199.000000</td>\n",
       "      <td>66.900000</td>\n",
       "      <td>0.000000</td>\n",
       "      <td>101.0</td>\n",
       "      <td>1.000000</td>\n",
       "      <td>0.0</td>\n",
       "      <td>101.0</td>\n",
       "      <td>...</td>\n",
       "      <td>1018.000000</td>\n",
       "      <td>50.917234</td>\n",
       "      <td>1.000000</td>\n",
       "      <td>0.000000</td>\n",
       "      <td>80.000000</td>\n",
       "      <td>11.000000</td>\n",
       "      <td>2013.0</td>\n",
       "      <td>3.000000</td>\n",
       "      <td>6.000000</td>\n",
       "      <td>10.000000</td>\n",
       "    </tr>\n",
       "    <tr>\n",
       "      <th>50%</th>\n",
       "      <td>2.373472e+06</td>\n",
       "      <td>2.172060e+06</td>\n",
       "      <td>1.000000</td>\n",
       "      <td>239.900000</td>\n",
       "      <td>89.900000</td>\n",
       "      <td>0.000000</td>\n",
       "      <td>101.0</td>\n",
       "      <td>1.000000</td>\n",
       "      <td>0.0</td>\n",
       "      <td>101.0</td>\n",
       "      <td>...</td>\n",
       "      <td>1168.000000</td>\n",
       "      <td>53.956080</td>\n",
       "      <td>1.000000</td>\n",
       "      <td>0.000000</td>\n",
       "      <td>185.000000</td>\n",
       "      <td>16.000000</td>\n",
       "      <td>2013.0</td>\n",
       "      <td>5.000000</td>\n",
       "      <td>13.000000</td>\n",
       "      <td>12.000000</td>\n",
       "    </tr>\n",
       "    <tr>\n",
       "      <th>75%</th>\n",
       "      <td>3.049230e+06</td>\n",
       "      <td>2.740576e+06</td>\n",
       "      <td>2.000000</td>\n",
       "      <td>299.700000</td>\n",
       "      <td>109.900000</td>\n",
       "      <td>0.000000</td>\n",
       "      <td>101.0</td>\n",
       "      <td>1.000000</td>\n",
       "      <td>0.0</td>\n",
       "      <td>101.0</td>\n",
       "      <td>...</td>\n",
       "      <td>1488.000000</td>\n",
       "      <td>54.853561</td>\n",
       "      <td>1.000000</td>\n",
       "      <td>0.000000</td>\n",
       "      <td>273.000000</td>\n",
       "      <td>20.000000</td>\n",
       "      <td>2013.0</td>\n",
       "      <td>8.000000</td>\n",
       "      <td>21.000000</td>\n",
       "      <td>17.000000</td>\n",
       "    </tr>\n",
       "    <tr>\n",
       "      <th>max</th>\n",
       "      <td>3.685470e+06</td>\n",
       "      <td>3.238344e+06</td>\n",
       "      <td>479.000000</td>\n",
       "      <td>23990.000000</td>\n",
       "      <td>10035.000000</td>\n",
       "      <td>600.000000</td>\n",
       "      <td>101.0</td>\n",
       "      <td>16.000000</td>\n",
       "      <td>0.0</td>\n",
       "      <td>101.0</td>\n",
       "      <td>...</td>\n",
       "      <td>6563.000000</td>\n",
       "      <td>92.352598</td>\n",
       "      <td>2.000000</td>\n",
       "      <td>1.000000</td>\n",
       "      <td>375.000000</td>\n",
       "      <td>33.000000</td>\n",
       "      <td>2013.0</td>\n",
       "      <td>8.000000</td>\n",
       "      <td>31.000000</td>\n",
       "      <td>23.000000</td>\n",
       "    </tr>\n",
       "  </tbody>\n",
       "</table>\n",
       "<p>8 rows × 30 columns</p>\n",
       "</div>"
      ],
      "text/plain": [
       "       order_detail_id      order_id  order_total_num  order_amount  \\\n",
       "count     8.069000e+04  8.069000e+04     80690.000000  80690.000000   \n",
       "mean      2.367592e+06  2.159158e+06         1.628727    295.842292   \n",
       "std       7.791512e+05  6.540363e+05         3.540653    380.475620   \n",
       "min       1.001547e+06  1.001340e+06         1.000000      0.010000   \n",
       "25%       1.689368e+06  1.588600e+06         1.000000    199.000000   \n",
       "50%       2.373472e+06  2.172060e+06         1.000000    239.900000   \n",
       "75%       3.049230e+06  2.740576e+06         2.000000    299.700000   \n",
       "max       3.685470e+06  3.238344e+06       479.000000  23990.000000   \n",
       "\n",
       "       order_total_payment  order_total_discount  order_status   order_count  \\\n",
       "count         80690.000000          80690.000000       80690.0  80690.000000   \n",
       "mean            113.194452              2.369286         101.0      1.311166   \n",
       "std             155.684910             10.017603           0.0      0.758133   \n",
       "min               0.010000              0.000000         101.0      1.000000   \n",
       "25%              66.900000              0.000000         101.0      1.000000   \n",
       "50%              89.900000              0.000000         101.0      1.000000   \n",
       "75%             109.900000              0.000000         101.0      1.000000   \n",
       "max           10035.000000            600.000000         101.0     16.000000   \n",
       "\n",
       "       is_customer_rate  order_detail_status      ...       goods_class_id  \\\n",
       "count           80690.0              80690.0      ...         80690.000000   \n",
       "mean                0.0                101.0      ...          1429.857541   \n",
       "std                 0.0                  0.0      ...           640.106176   \n",
       "min                 0.0                101.0      ...           998.000000   \n",
       "25%                 0.0                101.0      ...          1018.000000   \n",
       "50%                 0.0                101.0      ...          1168.000000   \n",
       "75%                 0.0                101.0      ...          1488.000000   \n",
       "max                 0.0                101.0      ...          6563.000000   \n",
       "\n",
       "        goods_price  goods_status  goods_has_discount  customer_city_id  \\\n",
       "count  80681.000000  80690.000000        80690.000000      80690.000000   \n",
       "mean      52.599164      1.041058            0.123919        178.180803   \n",
       "std        5.780158      0.379437            0.329491        106.804837   \n",
       "min      -26.782614      0.000000            0.000000          0.000000   \n",
       "25%       50.917234      1.000000            0.000000         80.000000   \n",
       "50%       53.956080      1.000000            0.000000        185.000000   \n",
       "75%       54.853561      1.000000            0.000000        273.000000   \n",
       "max       92.352598      2.000000            1.000000        375.000000   \n",
       "\n",
       "       customer_province_id     Year         Month           Day          Hour  \n",
       "count          80690.000000  80690.0  80690.000000  80690.000000  80690.000000  \n",
       "mean              15.996815   2013.0      5.117871     13.701400     12.962684  \n",
       "std                7.494300      0.0      2.344358      8.942865      5.809662  \n",
       "min                0.000000   2013.0      2.000000      1.000000      0.000000  \n",
       "25%               11.000000   2013.0      3.000000      6.000000     10.000000  \n",
       "50%               16.000000   2013.0      5.000000     13.000000     12.000000  \n",
       "75%               20.000000   2013.0      8.000000     21.000000     17.000000  \n",
       "max               33.000000   2013.0      8.000000     31.000000     23.000000  \n",
       "\n",
       "[8 rows x 30 columns]"
      ]
     },
     "execution_count": null,
     "metadata": {},
     "output_type": "execute_result"
    }
   ],
   "source": [
    "tmp.describe()"
   ]
  },
  {
   "cell_type": "markdown",
   "metadata": {
    "collapsed": false
   },
   "source": [
    "### 会员状态"
   ]
  },
  {
   "cell_type": "code",
   "execution_count": null,
   "metadata": {
    "collapsed": false
   },
   "outputs": [
    {
     "data": {
      "text/plain": [
       "<matplotlib.axes._subplots.AxesSubplot at 0x7f823e514610>"
      ]
     },
     "execution_count": null,
     "metadata": {},
     "output_type": "execute_result"
    },
    {
     "data": {
      "image/png": "[encoded data removed]",
      "text/plain": [
       "<Figure size 576x288 with 1 Axes>"
      ]
     },
     "metadata": {},
     "output_type": "display_data"
    }
   ],
   "source": [
    "plt.figure(figsize=(8,4))\n",
    "plt.title('会员状态分布', fontproperties=myfont)\n",
    "tmp.member_status.value_counts().plot.bar()"
   ]
  },
  {
   "cell_type": "markdown",
   "metadata": {
    "collapsed": false
   },
   "source": [
    "### 交易金额"
   ]
  },
  {
   "cell_type": "code",
   "execution_count": null,
   "metadata": {
    "collapsed": false
   },
   "outputs": [
    {
     "data": {
      "text/plain": [
       "<matplotlib.axes._subplots.AxesSubplot at 0x7f826b88ab10>"
      ]
     },
     "execution_count": null,
     "metadata": {},
     "output_type": "execute_result"
    },
    {
     "data": {
      "image/png": "[encoded data removed]",
      "text/plain": [
       "<Figure size 864x576 with 1 Axes>"
      ]
     },
     "metadata": {},
     "output_type": "display_data"
    }
   ],
   "source": [
    "plt.figure(figsize=(12,8))\n",
    "plt.title('异常交易订单付款金额', fontproperties=myfont)\n",
    "sns.distplot(tmp.order_total_payment)"
   ]
  },
  {
   "cell_type": "markdown",
   "metadata": {
    "collapsed": false
   },
   "source": [
    "### 商品分布"
   ]
  },
  {
   "cell_type": "code",
   "execution_count": null,
   "metadata": {
    "collapsed": false
   },
   "outputs": [
    {
     "data": {
      "text/plain": [
       "<matplotlib.axes._subplots.AxesSubplot at 0x7f823e402850>"
      ]
     },
     "execution_count": null,
     "metadata": {},
     "output_type": "execute_result"
    },
    {
     "data": {
      "image/png": "[encoded data removed]",
      "text/plain": [
       "<Figure size 864x576 with 1 Axes>"
      ]
     },
     "metadata": {},
     "output_type": "display_data"
    }
   ],
   "source": [
    "plt.figure(figsize=(12,8))\n",
    "plt.title('异常交易商品分布', fontproperties=myfont)\n",
    "sns.distplot(tmp.goods_id)"
   ]
  },
  {
   "cell_type": "markdown",
   "metadata": {
    "collapsed": false
   },
   "source": [
    "### 用户分布"
   ]
  },
  {
   "cell_type": "code",
   "execution_count": null,
   "metadata": {
    "collapsed": false
   },
   "outputs": [
    {
     "data": {
      "text/plain": [
       "<matplotlib.axes._subplots.AxesSubplot at 0x7f823e448f50>"
      ]
     },
     "execution_count": null,
     "metadata": {},
     "output_type": "execute_result"
    },
    {
     "data": {
      "image/png": "[encoded data removed]",
      "text/plain": [
       "<Figure size 864x576 with 1 Axes>"
      ]
     },
     "metadata": {},
     "output_type": "display_data"
    }
   ],
   "source": [
    "plt.figure(figsize=(12,8))\n",
    "plt.title('异常交易用户分布', fontproperties=myfont)\n",
    "sns.distplot(tmp.customer_id)"
   ]
  },
  {
   "cell_type": "markdown",
   "metadata": {
    "collapsed": false
   },
   "source": [
    "### 城市分布"
   ]
  },
  {
   "cell_type": "code",
   "execution_count": null,
   "metadata": {
    "collapsed": false
   },
   "outputs": [
    {
     "data": {
      "image/png": "[encoded data removed]",
      "text/plain": [
       "<Figure size 1728x576 with 1 Axes>"
      ]
     },
     "metadata": {},
     "output_type": "display_data"
    }
   ],
   "source": [
    "plt.figure(figsize=(24,8))\n",
    "plt.title('用户城市分布',fontproperties=myfont)\n",
    "x = tmp.customer_city.value_counts().head(60).index\n",
    "plt.bar(tmp.customer_city.value_counts().head(60).index, tmp.customer_city.value_counts().head(60).values)\n",
    "# 做坐标刻度\n",
    "plt.xticks(x, fontproperties=myfont, rotation=45)\n",
    "plt.show()"
   ]
  },
  {
   "cell_type": "markdown",
   "metadata": {
    "collapsed": false
   },
   "source": [
    "### 省份分布"
   ]
  },
  {
   "cell_type": "code",
   "execution_count": null,
   "metadata": {
    "collapsed": false
   },
   "outputs": [
    {
     "data": {
      "image/png": "[encoded data removed]",
      "text/plain": [
       "<Figure size 1728x576 with 1 Axes>"
      ]
     },
     "metadata": {},
     "output_type": "display_data"
    }
   ],
   "source": [
    "plt.figure(figsize=(24,8))\n",
    "plt.title('用户省份分布',fontproperties=myfont)\n",
    "x = tmp.customer_province.value_counts().index\n",
    "# train.customer_city.value_counts().head(30).plot.bar()\n",
    "plt.bar(tmp.customer_province.value_counts().index, tmp.customer_province.value_counts().values)\n",
    "# 做坐标刻度\n",
    "plt.xticks(x, fontproperties=myfont, rotation=45)\n",
    "plt.show()"
   ]
  },
  {
   "cell_type": "markdown",
   "metadata": {
    "collapsed": false
   },
   "source": [
    "### 商品类别分布"
   ]
  },
  {
   "cell_type": "code",
   "execution_count": null,
   "metadata": {
    "collapsed": false
   },
   "outputs": [
    {
     "data": {
      "text/plain": [
       "<matplotlib.axes._subplots.AxesSubplot at 0x7f823e227ad0>"
      ]
     },
     "execution_count": null,
     "metadata": {},
     "output_type": "execute_result"
    },
    {
     "data": {
      "image/png": "[encoded data removed]",
      "text/plain": [
       "<Figure size 1728x288 with 1 Axes>"
      ]
     },
     "metadata": {},
     "output_type": "display_data"
    }
   ],
   "source": [
    "plt.figure(figsize=(24,4))\n",
    "plt.title('异常交易商品类别分布', FontProperties=myfont)\n",
    "train.goods_class_id.value_counts().head(60).plot.bar()"
   ]
  },
  {
   "cell_type": "markdown",
   "metadata": {
    "collapsed": false
   },
   "source": [
    "### 商品价格分布"
   ]
  },
  {
   "cell_type": "code",
   "execution_count": null,
   "metadata": {
    "collapsed": false
   },
   "outputs": [
    {
     "data": {
      "text/plain": [
       "<matplotlib.axes._subplots.AxesSubplot at 0x7f821769ac50>"
      ]
     },
     "execution_count": null,
     "metadata": {},
     "output_type": "execute_result"
    },
    {
     "data": {
      "image/png": "[encoded data removed]",
      "text/plain": [
       "<Figure size 864x576 with 1 Axes>"
      ]
     },
     "metadata": {},
     "output_type": "display_data"
    }
   ],
   "source": [
    "plt.figure(figsize=(12,8))\n",
    "plt.title('商品价格分布', FontProperties=myfont)\n",
    "sns.distplot(tmp.goods_price)"
   ]
  },
  {
   "cell_type": "markdown",
   "metadata": {
    "collapsed": false
   },
   "source": [
    "### 折扣分布"
   ]
  },
  {
   "cell_type": "code",
   "execution_count": null,
   "metadata": {
    "collapsed": false
   },
   "outputs": [
    {
     "data": {
      "text/plain": [
       "<matplotlib.axes._subplots.AxesSubplot at 0x7f8217565c90>"
      ]
     },
     "execution_count": null,
     "metadata": {},
     "output_type": "execute_result"
    },
    {
     "data": {
      "image/png": "[encoded data removed]",
      "text/plain": [
       "<Figure size 576x288 with 1 Axes>"
      ]
     },
     "metadata": {},
     "output_type": "display_data"
    }
   ],
   "source": [
    "plt.figure(figsize=(8,4))\n",
    "plt.title('异常交易商品折扣情况分布', FontProperties=myfont)\n",
    "tmp.goods_has_discount.value_counts().plot.bar()"
   ]
  },
  {
   "cell_type": "code",
   "execution_count": null,
   "metadata": {
    "collapsed": false
   },
   "outputs": [
    {
     "data": {
      "text/plain": [
       "1585986"
      ]
     },
     "execution_count": null,
     "metadata": {},
     "output_type": "execute_result"
    }
   ],
   "source": [
    "# 训练集全部用户数量\n",
    "len(train['customer_id'].unique())"
   ]
  },
  {
   "cell_type": "code",
   "execution_count": null,
   "metadata": {
    "collapsed": false
   },
   "outputs": [
    {
     "name": "stderr",
     "output_type": "stream",
     "text": [
      "/opt/conda/envs/python35-paddle120-env/lib/python3.7/site-packages/ipykernel_launcher.py:3: SettingWithCopyWarning: \n",
      "A value is trying to be set on a copy of a slice from a DataFrame.\n",
      "Try using .loc[row_indexer,col_indexer] = value instead\n",
      "\n",
      "See the caveats in the documentation: http://pandas.pydata.org/pandas-docs/stable/indexing.html#indexing-view-versus-copy\n",
      "  This is separate from the ipykernel package so we can avoid doing imports until\n"
     ]
    }
   ],
   "source": [
    "# 将用户下单金额按天进行汇总\n",
    "df = train[train.order_pay_time>'2013-02-01']\n",
    "df['date'] = pd.DatetimeIndex(df['order_pay_time']).date\n",
    "df_payment = df[['customer_id','date','order_total_payment']]"
   ]
  },
  {
   "cell_type": "code",
   "execution_count": null,
   "metadata": {
    "collapsed": false
   },
   "outputs": [
    {
     "data": {
      "text/plain": [
       "685471"
      ]
     },
     "execution_count": null,
     "metadata": {},
     "output_type": "execute_result"
    }
   ],
   "source": [
    "len(df_payment['customer_id'].unique())"
   ]
  },
  {
   "cell_type": "code",
   "execution_count": null,
   "metadata": {
    "collapsed": false
   },
   "outputs": [],
   "source": [
    "df_payment = df_payment.groupby(['date','customer_id']).agg({'order_total_payment': ['sum']})\n",
    "df_payment.columns = ['day_total_payment']\n",
    "df_payment.reset_index(inplace=True)"
   ]
  },
  {
   "cell_type": "code",
   "execution_count": null,
   "metadata": {
    "collapsed": false
   },
   "outputs": [],
   "source": [
    "df_payment = df_payment.set_index(\n",
    "    [\"customer_id\", \"date\"])[[\"day_total_payment\"]].unstack(level=-1).fillna(0)# unstack(level=-1) 该操作会将行中数据透视到列,level: 默认为-1，即行索引的最后一级\n",
    "df_payment.columns = df_payment.columns.get_level_values(1)# get_level_values(1)# 行索引有多个，索引第2个的值"
   ]
  },
  {
   "cell_type": "code",
   "execution_count": null,
   "metadata": {
    "collapsed": false
   },
   "outputs": [],
   "source": [
    "df_goods = df[['customer_id','date','order_total_num']]\n",
    "df_goods = df_goods.groupby(['date','customer_id']).agg({'order_total_num': ['sum']})\n",
    "df_goods.columns = ['day_total_num']\n",
    "df_goods.reset_index(inplace=True)\n",
    "df_goods = df_goods.set_index(\n",
    "    [\"customer_id\", \"date\"])[[\"day_total_num\"]].unstack(level=-1).fillna(0)\n",
    "df_goods.columns = df_goods.columns.get_level_values(1)"
   ]
  },
  {
   "cell_type": "code",
   "execution_count": null,
   "metadata": {
    "collapsed": false
   },
   "outputs": [],
   "source": [
    "# 这是一个时间滑窗函数，获得dt之前minus天以来periods的dataframe，以便进一步计算\n",
    "def get_timespan(df, dt, minus, periods, freq='D'):\n",
    "    # get_timespan(df_payment, date(2013, 6, 6), 7, 7) 就是从df_payment中取出从20130606往前7天的日期范围的数据也就是20130530-20130605\n",
    "    print('timedelta(days=minus)',timedelta(days=minus))\n",
    "    print('dt',dt)\n",
    "    # print('pd.date_range(dt - timedelta(days=minus)',pd.date_range(dt - timedelta(days=minus),periods=periods, freq=freq))\n",
    "    return df[pd.date_range(dt - timedelta(days=minus), periods=periods, freq=freq)]"
   ]
  },
  {
   "cell_type": "code",
   "execution_count": null,
   "metadata": {
    "collapsed": false
   },
   "outputs": [],
   "source": [
    "# @from: https://www.kaggle.com/arjanso/reducing-dataframe-memory-size-by-65/code\n",
    "# @liscense: Apache 2.0\n",
    "# @author: weijian\n",
    "def reduce_mem_usage(props):\n",
    "    # 计算当前内存\n",
    "    start_mem_usg = props.memory_usage().sum() / 1024 ** 2\n",
    "    print(\"Memory usage of the dataframe is :\", start_mem_usg, \"MB\")\n",
    "    \n",
    "    # 哪些列包含空值，空值用-999填充。why：因为np.nan当做float处理\n",
    "    NAlist = []\n",
    "    for col in props.columns:\n",
    "        # 这里只过滤了objectd格式，如果你的代码中还包含其他类型，请一并过滤\n",
    "        if (props[col].dtypes != object):\n",
    "            \n",
    "            # print(\"**************************\")\n",
    "            # print(\"columns: \", col)\n",
    "            # print(\"dtype before\", props[col].dtype)\n",
    "            \n",
    "            # 判断是否是int类型\n",
    "            isInt = False\n",
    "            mmax = props[col].max()\n",
    "            mmin = props[col].min()\n",
    "            \n",
    "            # Integer does not support NA, therefore Na needs to be filled\n",
    "            if not np.isfinite(props[col]).all():\n",
    "                NAlist.append(col)\n",
    "                props[col].fillna(-999, inplace=True) # 用-999填充\n",
    "                \n",
    "            # test if column can be converted to an integer\n",
    "            asint = props[col].fillna(0).astype(np.int64)\n",
    "            result = np.fabs(props[col] - asint)\n",
    "            result = result.sum()\n",
    "            if result < 0.01: # 绝对误差和小于0.01认为可以转换的，要根据task修改\n",
    "                isInt = True\n",
    "            \n",
    "            # make interger / unsigned Integer datatypes\n",
    "            if isInt:\n",
    "                if mmin >= 0: # 最小值大于0，转换成无符号整型\n",
    "                    if mmax <= 255:\n",
    "                        props[col] = props[col].astype(np.uint8)\n",
    "                    elif mmax <= 65535:\n",
    "                        props[col] = props[col].astype(np.uint16)\n",
    "                    elif mmax <= 4294967295:\n",
    "                        props[col] = props[col].astype(np.uint32)\n",
    "                    else:\n",
    "                        props[col] = props[col].astype(np.uint64)\n",
    "                else: # 转换成有符号整型\n",
    "                    if mmin > np.iinfo(np.int8).min and mmax < np.iinfo(np.int8).max:\n",
    "                        props[col] = props[col].astype(np.int8)\n",
    "                    elif mmin > np.iinfo(np.int16).min and mmax < np.iinfo(np.int16).max:\n",
    "                        props[col] = props[col].astype(np.int16)\n",
    "                    elif mmin > np.iinfo(np.int32).min and mmax < np.iinfo(np.int32).max:\n",
    "                        props[col] = props[col].astype(np.int32)\n",
    "                    elif mmin > np.iinfo(np.int64).min and mmax < np.iinfo(np.int64).max:\n",
    "                        props[col] = props[col].astype(np.int64)  \n",
    "            else: # 注意：这里对于float都转换成float16，需要根据你的情况自己更改\n",
    "                props[col] = props[col].astype(np.float16)\n",
    "            \n",
    "            # print(\"dtype after\", props[col].dtype)\n",
    "            # print(\"********************************\")\n",
    "    print(\"___MEMORY USAGE AFTER COMPLETION:___\")\n",
    "    mem_usg = props.memory_usage().sum() / 1024**2 \n",
    "    print(\"Memory usage is: \",mem_usg,\" MB\")\n",
    "    print(\"This is \",100*mem_usg/start_mem_usg,\"% of the initial size\")\n",
    "    return props, NAlist"
   ]
  },
  {
   "cell_type": "code",
   "execution_count": null,
   "metadata": {
    "collapsed": false
   },
   "outputs": [],
   "source": [
    "def prepare_dataset(df_payment, df_goods, dt, is_train=True):\n",
    "    X = {}\n",
    "    # 整合用户id\n",
    "    tmp = df_payment.reset_index()\n",
    "    X['customer_id'] = tmp['customer_id']\n",
    "    del tmp\n",
    "    gc.collect()\n",
    "    # 消费特征\n",
    "    print('Preparing payment feature...')\n",
    "    for i in [7,14,30,49,60,91,120]:\n",
    "        tmp_1 = get_timespan(df_payment, dt, i, i)\n",
    "        X['mean_%s' % i] = tmp_1.mean(axis=1).values\n",
    "        X['median_%s' % i] = tmp_1.median(axis=1).values\n",
    "        X['max_%s' % i] = tmp_1.max(axis=1).values\n",
    "        X['sum_%s' % i] = tmp_1.sum(axis=1).values\n",
    "        # 最近i天内销售额\n",
    "        X['has_sales_days_in_last_%s' % i] = (tmp_1 != 0).sum(axis=1).values\n",
    "        # 最后i天内有销售\n",
    "        X['last_has_sales_day_in_last_%s' % i] = i - ((tmp_1 != 0) * np.arange(i)).max(axis=1).values\n",
    "        # 第一个销售日在最后一个i天内\n",
    "        X['first_has_sales_day_in_last_%s' % i] = ((tmp_1 != 0) * np.arange(i, 0, -1)).max(axis=1).values\n",
    "        del tmp_1\n",
    "        # 取dt日期往前推一周的i天前的数据\n",
    "        tmp_2 = get_timespan(df_payment, dt + timedelta(weeks=-1), i, i)\n",
    "        X['mean_%s_2' % i] = tmp_2.mean(axis=1).values\n",
    "        X['median_%s_2' % i] = tmp_2.median(axis=1).values\n",
    "        X['max_%s_2' % i] = tmp_2.max(axis=1).values\n",
    "        del tmp_2\n",
    "        gc.collect()\n",
    "\n",
    "    # 对此处进行微调，主要考虑近期因素\n",
    "    for i in range(1, 4):\n",
    "        X['day_%s_2018' % i] = get_timespan(df_payment, dt, i*30, 30).sum(axis=1).values\n",
    "\n",
    "    for i in range(7):\n",
    "        X['mean_4_dow{}_2013'.format(i)] = get_timespan(df_payment, dt, 56-i*2, 4, freq='14D').mean(axis=1).values\n",
    "        # X['mean_20_dow{}_2013'.format(i)] = get_timespan(df, dt, 140-i, 20, freq='7D').mean(axis=1).values\n",
    "        X['mean_20_dow{}_2013'.format(i)] = get_timespan(df_payment, dt, 140-i*2, 10, freq='14D').mean(axis=1).values\n",
    "    \n",
    "    # 商品数量特征，这里故意把时间和消费特征错开，提高时间滑窗的覆盖面\n",
    "    print('Preparing num feature...')\n",
    "    for i in [3,21,35,49,70,84,105]:\n",
    "            tmp_1 = get_timespan(df_goods, dt, i, i)\n",
    "            X['goods_mean_%s' % i] = tmp_1.mean(axis=1).values\n",
    "            X['goods_median_%s' % i] = tmp_1.median(axis=1).values\n",
    "            X['goods_max_%s' % i] = tmp_1.max(axis=1).values\n",
    "            X['goods_sum_%s' % i] = tmp_1.sum(axis=1).values\n",
    "            # 在过去i天内有多少商品销售\n",
    "            X['goods_has_sales_days_in_last_%s' % i] = (tmp_1 > 0).sum(axis=1).values\n",
    "            # 货物在最后i天有销售的天数\n",
    "            X['goods_last_has_sales_day_in_last_%s' % i] = i - ((tmp_1 > 0) * np.arange(i)).max(axis=1).values\n",
    "            # 货物在前i天有销售的天数\n",
    "            X['goods_first_has_sales_day_in_last_%s' % i] = ((tmp_1 > 0) * np.arange(i, 0, -1)).max(axis=1).values\n",
    "            # 取dt日期往前推一周的i天前的数据\n",
    "            del tmp_1\n",
    "            tmp_2 = get_timespan(df_goods, dt + timedelta(weeks=-1), i, i)\n",
    "            X['goods_mean_%s_2' % i] = tmp_2.mean(axis=1).values\n",
    "            X['goods_median_%s_2' % i] = tmp_2.median(axis=1).values\n",
    "            X['goods_max_%s_2' % i] = tmp_2.max(axis=1).values\n",
    "            X['goods_sum_%s_2' % i] = tmp_2.sum(axis=1).values\n",
    "            del tmp_2\n",
    "            gc.collect()\n",
    "    # 对此处进行微调，主要考虑近期因素\n",
    "    for i in range(1, 4):\n",
    "        X['goods_day_%s_2018' % i] = get_timespan(df_goods, dt, i*28, 28).sum(axis=1).values\n",
    "\n",
    "    for i in range(7):\n",
    "        X['goods_mean_4_dow{}_2013'.format(i)] = get_timespan(df_goods, dt, 56-i*2, 4, freq='14D').mean(axis=1).values\n",
    "        # X['mean_20_dow{}_2013'.format(i)] = get_timespan(df, dt, 140-i, 20, freq='7D').mean(axis=1).values\n",
    "        X['goods_mean_20_dow{}_2013'.format(i)] = get_timespan(df_goods, dt, 140-i*2, 10, freq='14D').mean(axis=1).values\n",
    "\n",
    "    X = pd.DataFrame(X)\n",
    "    \n",
    "    reduce_mem_usage(X)\n",
    "    \n",
    "    if is_train:\n",
    "        # 这样转换之后，打标签直接用numpy切片就可以了\n",
    "        # 当然这里前提是确认付款总额没有负数的问题\n",
    "        y = df_goods[pd.date_range(dt, periods=30)].max(axis=1).values\n",
    "        y[y > 0] = 1\n",
    "        return X, y\n",
    "    return X"
   ]
  },
  {
   "cell_type": "code",
   "execution_count": null,
   "metadata": {
    "collapsed": false
   },
   "outputs": [],
   "source": [
    "def make_slides(train,df_part,begin,end,column):\n",
    "    # 将用户下单金额按天进行汇总\n",
    "    df = train[(train.order_pay_time > begin)&(train.order_pay_time < end)]\n",
    "    df = pd.merge(df,df_part,how='inner')\n",
    "    df['date'] = pd.DatetimeIndex(df['order_pay_time']).date\n",
    "    df = df[['customer_id', 'date', column]]\n",
    "    df = df.groupby(['date', 'customer_id']).agg({column: ['sum']})\n",
    "    df.columns = ['day_' + column]\n",
    "    df.reset_index(inplace=True)\n",
    "    df = df.set_index(\n",
    "        [\"customer_id\", \"date\"])[['day_' + column]].unstack(level=-1).fillna(0)\n",
    "    df.columns = df.columns.get_level_values(1)\n",
    "    return df"
   ]
  },
  {
   "cell_type": "code",
   "execution_count": null,
   "metadata": {
    "collapsed": false
   },
   "outputs": [
    {
     "name": "stdout",
     "output_type": "stream",
     "text": [
      "Preparing payment feature...\n",
      "timedelta(days=minus) 7 days, 0:00:00\n",
      "dt 2013-06-06\n",
      "timedelta(days=minus) 7 days, 0:00:00\n",
      "dt 2013-05-30\n",
      "timedelta(days=minus) 14 days, 0:00:00\n",
      "dt 2013-06-06\n",
      "timedelta(days=minus) 14 days, 0:00:00\n",
      "dt 2013-05-30\n",
      "timedelta(days=minus) 30 days, 0:00:00\n",
      "dt 2013-06-06\n",
      "timedelta(days=minus) 30 days, 0:00:00\n",
      "dt 2013-05-30\n",
      "timedelta(days=minus) 49 days, 0:00:00\n",
      "dt 2013-06-06\n",
      "timedelta(days=minus) 49 days, 0:00:00\n",
      "dt 2013-05-30\n",
      "timedelta(days=minus) 60 days, 0:00:00\n",
      "dt 2013-06-06\n",
      "timedelta(days=minus) 60 days, 0:00:00\n",
      "dt 2013-05-30\n",
      "timedelta(days=minus) 91 days, 0:00:00\n",
      "dt 2013-06-06\n",
      "timedelta(days=minus) 91 days, 0:00:00\n",
      "dt 2013-05-30\n",
      "timedelta(days=minus) 120 days, 0:00:00\n",
      "dt 2013-06-06\n",
      "timedelta(days=minus) 120 days, 0:00:00\n",
      "dt 2013-05-30\n",
      "timedelta(days=minus) 30 days, 0:00:00\n",
      "dt 2013-06-06\n",
      "timedelta(days=minus) 60 days, 0:00:00\n",
      "dt 2013-06-06\n",
      "timedelta(days=minus) 90 days, 0:00:00\n",
      "dt 2013-06-06\n",
      "timedelta(days=minus) 56 days, 0:00:00\n",
      "dt 2013-06-06\n",
      "timedelta(days=minus) 140 days, 0:00:00\n",
      "dt 2013-06-06\n",
      "timedelta(days=minus) 54 days, 0:00:00\n",
      "dt 2013-06-06\n",
      "timedelta(days=minus) 138 days, 0:00:00\n",
      "dt 2013-06-06\n",
      "timedelta(days=minus) 52 days, 0:00:00\n",
      "dt 2013-06-06\n",
      "timedelta(days=minus) 136 days, 0:00:00\n",
      "dt 2013-06-06\n",
      "timedelta(days=minus) 50 days, 0:00:00\n",
      "dt 2013-06-06\n",
      "timedelta(days=minus) 134 days, 0:00:00\n",
      "dt 2013-06-06\n",
      "timedelta(days=minus) 48 days, 0:00:00\n",
      "dt 2013-06-06\n",
      "timedelta(days=minus) 132 days, 0:00:00\n",
      "dt 2013-06-06\n",
      "timedelta(days=minus) 46 days, 0:00:00\n",
      "dt 2013-06-06\n",
      "timedelta(days=minus) 130 days, 0:00:00\n",
      "dt 2013-06-06\n",
      "timedelta(days=minus) 44 days, 0:00:00\n",
      "dt 2013-06-06\n",
      "timedelta(days=minus) 128 days, 0:00:00\n",
      "dt 2013-06-06\n",
      "Preparing num feature...\n",
      "timedelta(days=minus) 3 days, 0:00:00\n",
      "dt 2013-06-06\n",
      "timedelta(days=minus) 3 days, 0:00:00\n",
      "dt 2013-05-30\n",
      "timedelta(days=minus) 21 days, 0:00:00\n",
      "dt 2013-06-06\n",
      "timedelta(days=minus) 21 days, 0:00:00\n",
      "dt 2013-05-30\n",
      "timedelta(days=minus) 35 days, 0:00:00\n",
      "dt 2013-06-06\n",
      "timedelta(days=minus) 35 days, 0:00:00\n",
      "dt 2013-05-30\n",
      "timedelta(days=minus) 49 days, 0:00:00\n",
      "dt 2013-06-06\n",
      "timedelta(days=minus) 49 days, 0:00:00\n",
      "dt 2013-05-30\n",
      "timedelta(days=minus) 70 days, 0:00:00\n",
      "dt 2013-06-06\n",
      "timedelta(days=minus) 70 days, 0:00:00\n",
      "dt 2013-05-30\n",
      "timedelta(days=minus) 84 days, 0:00:00\n",
      "dt 2013-06-06\n",
      "timedelta(days=minus) 84 days, 0:00:00\n",
      "dt 2013-05-30\n",
      "timedelta(days=minus) 105 days, 0:00:00\n",
      "dt 2013-06-06\n",
      "timedelta(days=minus) 105 days, 0:00:00\n",
      "dt 2013-05-30\n",
      "timedelta(days=minus) 28 days, 0:00:00\n",
      "dt 2013-06-06\n",
      "timedelta(days=minus) 56 days, 0:00:00\n",
      "dt 2013-06-06\n",
      "timedelta(days=minus) 84 days, 0:00:00\n",
      "dt 2013-06-06\n",
      "timedelta(days=minus) 56 days, 0:00:00\n",
      "dt 2013-06-06\n",
      "timedelta(days=minus) 140 days, 0:00:00\n",
      "dt 2013-06-06\n",
      "timedelta(days=minus) 54 days, 0:00:00\n",
      "dt 2013-06-06\n",
      "timedelta(days=minus) 138 days, 0:00:00\n",
      "dt 2013-06-06\n",
      "timedelta(days=minus) 52 days, 0:00:00\n",
      "dt 2013-06-06\n",
      "timedelta(days=minus) 136 days, 0:00:00\n",
      "dt 2013-06-06\n",
      "timedelta(days=minus) 50 days, 0:00:00\n",
      "dt 2013-06-06\n",
      "timedelta(days=minus) 134 days, 0:00:00\n",
      "dt 2013-06-06\n",
      "timedelta(days=minus) 48 days, 0:00:00\n",
      "dt 2013-06-06\n",
      "timedelta(days=minus) 132 days, 0:00:00\n",
      "dt 2013-06-06\n",
      "timedelta(days=minus) 46 days, 0:00:00\n",
      "dt 2013-06-06\n",
      "timedelta(days=minus) 130 days, 0:00:00\n",
      "dt 2013-06-06\n",
      "timedelta(days=minus) 44 days, 0:00:00\n",
      "dt 2013-06-06\n",
      "timedelta(days=minus) 128 days, 0:00:00\n",
      "dt 2013-06-06\n",
      "Memory usage of the dataframe is : 1057.7542724609375 MB\n",
      "___MEMORY USAGE AFTER COMPLETION:___\n",
      "Memory usage is:  219.39689445495605  MB\n",
      "This is  20.741763958515072 % of the initial size\n"
     ]
    }
   ],
   "source": [
    "# part1 2013.06.06之前的用户，在2013.06.06后30天的时间滑窗\n",
    "df_0606 = train[(train.order_pay_time > '2013-01-01')&(train.order_pay_time <= '2013-06-06')][['customer_id']]\n",
    "df_0606 = df_0606.drop_duplicates(['customer_id'])\n",
    "df_part1_partment = make_slides(train,df_0606,'2013-01-01','2013-07-06','order_total_payment')\n",
    "df_part1_goods = make_slides(train,df_0606,'2013-01-01','2013-07-06','order_total_num')\n",
    "X_part1, y_part1 = prepare_dataset(df_part1_partment, df_part1_goods, date(2013, 6, 6))"
   ]
  },
  {
   "cell_type": "code",
   "execution_count": null,
   "metadata": {
    "collapsed": false
   },
   "outputs": [],
   "source": [
    "X_part1.to_pickle('./X_part1.pkl')\n",
    "np.save(\"./y_part1.npy\", y_part1)"
   ]
  },
  {
   "cell_type": "code",
   "execution_count": null,
   "metadata": {
    "collapsed": false
   },
   "outputs": [
    {
     "data": {
      "text/plain": [
       "48"
      ]
     },
     "execution_count": null,
     "metadata": {},
     "output_type": "execute_result"
    }
   ],
   "source": [
    "# 清理内存\n",
    "del df_0606\n",
    "del df_part1_partment\n",
    "del df_part1_goods\n",
    "del X_part1\n",
    "del y_part1\n",
    "gc.collect()"
   ]
  },
  {
   "cell_type": "code",
   "execution_count": null,
   "metadata": {
    "collapsed": false
   },
   "outputs": [
    {
     "name": "stdout",
     "output_type": "stream",
     "text": [
      "Preparing payment feature...\n",
      "timedelta(days=minus) 7 days, 0:00:00\n",
      "dt 2013-06-20\n",
      "timedelta(days=minus) 7 days, 0:00:00\n",
      "dt 2013-06-13\n",
      "timedelta(days=minus) 14 days, 0:00:00\n",
      "dt 2013-06-20\n",
      "timedelta(days=minus) 14 days, 0:00:00\n",
      "dt 2013-06-13\n",
      "timedelta(days=minus) 30 days, 0:00:00\n",
      "dt 2013-06-20\n",
      "timedelta(days=minus) 30 days, 0:00:00\n",
      "dt 2013-06-13\n",
      "timedelta(days=minus) 49 days, 0:00:00\n",
      "dt 2013-06-20\n",
      "timedelta(days=minus) 49 days, 0:00:00\n",
      "dt 2013-06-13\n",
      "timedelta(days=minus) 60 days, 0:00:00\n",
      "dt 2013-06-20\n",
      "timedelta(days=minus) 60 days, 0:00:00\n",
      "dt 2013-06-13\n",
      "timedelta(days=minus) 91 days, 0:00:00\n",
      "dt 2013-06-20\n",
      "timedelta(days=minus) 91 days, 0:00:00\n",
      "dt 2013-06-13\n",
      "timedelta(days=minus) 120 days, 0:00:00\n",
      "dt 2013-06-20\n",
      "timedelta(days=minus) 120 days, 0:00:00\n",
      "dt 2013-06-13\n",
      "timedelta(days=minus) 30 days, 0:00:00\n",
      "dt 2013-06-20\n",
      "timedelta(days=minus) 60 days, 0:00:00\n",
      "dt 2013-06-20\n",
      "timedelta(days=minus) 90 days, 0:00:00\n",
      "dt 2013-06-20\n",
      "timedelta(days=minus) 56 days, 0:00:00\n",
      "dt 2013-06-20\n",
      "timedelta(days=minus) 140 days, 0:00:00\n",
      "dt 2013-06-20\n",
      "timedelta(days=minus) 54 days, 0:00:00\n",
      "dt 2013-06-20\n",
      "timedelta(days=minus) 138 days, 0:00:00\n",
      "dt 2013-06-20\n",
      "timedelta(days=minus) 52 days, 0:00:00\n",
      "dt 2013-06-20\n",
      "timedelta(days=minus) 136 days, 0:00:00\n",
      "dt 2013-06-20\n",
      "timedelta(days=minus) 50 days, 0:00:00\n",
      "dt 2013-06-20\n",
      "timedelta(days=minus) 134 days, 0:00:00\n",
      "dt 2013-06-20\n",
      "timedelta(days=minus) 48 days, 0:00:00\n",
      "dt 2013-06-20\n",
      "timedelta(days=minus) 132 days, 0:00:00\n",
      "dt 2013-06-20\n",
      "timedelta(days=minus) 46 days, 0:00:00\n",
      "dt 2013-06-20\n",
      "timedelta(days=minus) 130 days, 0:00:00\n",
      "dt 2013-06-20\n",
      "timedelta(days=minus) 44 days, 0:00:00\n",
      "dt 2013-06-20\n",
      "timedelta(days=minus) 128 days, 0:00:00\n",
      "dt 2013-06-20\n",
      "Preparing num feature...\n",
      "timedelta(days=minus) 3 days, 0:00:00\n",
      "dt 2013-06-20\n",
      "timedelta(days=minus) 3 days, 0:00:00\n",
      "dt 2013-06-13\n",
      "timedelta(days=minus) 21 days, 0:00:00\n",
      "dt 2013-06-20\n",
      "timedelta(days=minus) 21 days, 0:00:00\n",
      "dt 2013-06-13\n",
      "timedelta(days=minus) 35 days, 0:00:00\n",
      "dt 2013-06-20\n",
      "timedelta(days=minus) 35 days, 0:00:00\n",
      "dt 2013-06-13\n",
      "timedelta(days=minus) 49 days, 0:00:00\n",
      "dt 2013-06-20\n",
      "timedelta(days=minus) 49 days, 0:00:00\n",
      "dt 2013-06-13\n",
      "timedelta(days=minus) 70 days, 0:00:00\n",
      "dt 2013-06-20\n",
      "timedelta(days=minus) 70 days, 0:00:00\n",
      "dt 2013-06-13\n",
      "timedelta(days=minus) 84 days, 0:00:00\n",
      "dt 2013-06-20\n",
      "timedelta(days=minus) 84 days, 0:00:00\n",
      "dt 2013-06-13\n",
      "timedelta(days=minus) 105 days, 0:00:00\n",
      "dt 2013-06-20\n",
      "timedelta(days=minus) 105 days, 0:00:00\n",
      "dt 2013-06-13\n",
      "timedelta(days=minus) 28 days, 0:00:00\n",
      "dt 2013-06-20\n",
      "timedelta(days=minus) 56 days, 0:00:00\n",
      "dt 2013-06-20\n",
      "timedelta(days=minus) 84 days, 0:00:00\n",
      "dt 2013-06-20\n",
      "timedelta(days=minus) 56 days, 0:00:00\n",
      "dt 2013-06-20\n",
      "timedelta(days=minus) 140 days, 0:00:00\n",
      "dt 2013-06-20\n",
      "timedelta(days=minus) 54 days, 0:00:00\n",
      "dt 2013-06-20\n",
      "timedelta(days=minus) 138 days, 0:00:00\n",
      "dt 2013-06-20\n",
      "timedelta(days=minus) 52 days, 0:00:00\n",
      "dt 2013-06-20\n",
      "timedelta(days=minus) 136 days, 0:00:00\n",
      "dt 2013-06-20\n",
      "timedelta(days=minus) 50 days, 0:00:00\n",
      "dt 2013-06-20\n",
      "timedelta(days=minus) 134 days, 0:00:00\n",
      "dt 2013-06-20\n",
      "timedelta(days=minus) 48 days, 0:00:00\n",
      "dt 2013-06-20\n",
      "timedelta(days=minus) 132 days, 0:00:00\n",
      "dt 2013-06-20\n",
      "timedelta(days=minus) 46 days, 0:00:00\n",
      "dt 2013-06-20\n",
      "timedelta(days=minus) 130 days, 0:00:00\n",
      "dt 2013-06-20\n",
      "timedelta(days=minus) 44 days, 0:00:00\n",
      "dt 2013-06-20\n",
      "timedelta(days=minus) 128 days, 0:00:00\n",
      "dt 2013-06-20\n",
      "Memory usage of the dataframe is : 1051.5419006347656 MB\n",
      "___MEMORY USAGE AFTER COMPLETION:___\n",
      "Memory usage is:  215.2194881439209  MB\n",
      "This is  20.467038737496164 % of the initial size\n"
     ]
    }
   ],
   "source": [
    "# part2 2013.06.20之前的用户，在2013.06.20后30天的时间滑窗\n",
    "df_0620 = train[(train.order_pay_time > '2013-01-15')&(train.order_pay_time <= '2013-06-20')][['customer_id']]\n",
    "df_0620 = df_0620.drop_duplicates(['customer_id'])\n",
    "df_part2_partment = make_slides(train,df_0620,'2013-01-15','2013-07-20','order_total_payment')\n",
    "df_part2_goods = make_slides(train,df_0620,'2013-01-15','2013-07-20','order_total_num')\n",
    "X_part2, y_part2 = prepare_dataset(df_part2_partment, df_part2_goods, date(2013, 6, 20))"
   ]
  },
  {
   "cell_type": "code",
   "execution_count": null,
   "metadata": {
    "collapsed": false
   },
   "outputs": [],
   "source": [
    "X_part2.to_pickle('./X_part2.pkl')\n",
    "np.save(\"./y_part2.npy\", y_part2)"
   ]
  },
  {
   "cell_type": "code",
   "execution_count": null,
   "metadata": {
    "collapsed": false
   },
   "outputs": [
    {
     "name": "stdout",
     "output_type": "stream",
     "text": [
      "CPU times: user 112 ms, sys: 148 ms, total: 260 ms\n",
      "Wall time: 262 ms\n"
     ]
    }
   ],
   "source": [
    "%%time\n",
    "del df_0620\n",
    "del df_part2_partment\n",
    "del df_part2_goods\n",
    "del X_part2\n",
    "del y_part2\n",
    "gc.collect()"
   ]
  },
  {
   "cell_type": "code",
   "execution_count": null,
   "metadata": {
    "collapsed": false
   },
   "outputs": [
    {
     "name": "stdout",
     "output_type": "stream",
     "text": [
      "Preparing payment feature...\n",
      "timedelta(days=minus) 7 days, 0:00:00\n",
      "dt 2013-07-01\n",
      "timedelta(days=minus) 7 days, 0:00:00\n",
      "dt 2013-06-24\n",
      "timedelta(days=minus) 14 days, 0:00:00\n",
      "dt 2013-07-01\n",
      "timedelta(days=minus) 14 days, 0:00:00\n",
      "dt 2013-06-24\n",
      "timedelta(days=minus) 30 days, 0:00:00\n",
      "dt 2013-07-01\n",
      "timedelta(days=minus) 30 days, 0:00:00\n",
      "dt 2013-06-24\n",
      "timedelta(days=minus) 49 days, 0:00:00\n",
      "dt 2013-07-01\n",
      "timedelta(days=minus) 49 days, 0:00:00\n",
      "dt 2013-06-24\n",
      "timedelta(days=minus) 60 days, 0:00:00\n",
      "dt 2013-07-01\n",
      "timedelta(days=minus) 60 days, 0:00:00\n",
      "dt 2013-06-24\n",
      "timedelta(days=minus) 91 days, 0:00:00\n",
      "dt 2013-07-01\n",
      "timedelta(days=minus) 91 days, 0:00:00\n",
      "dt 2013-06-24\n",
      "timedelta(days=minus) 120 days, 0:00:00\n",
      "dt 2013-07-01\n",
      "timedelta(days=minus) 120 days, 0:00:00\n",
      "dt 2013-06-24\n",
      "timedelta(days=minus) 30 days, 0:00:00\n",
      "dt 2013-07-01\n",
      "timedelta(days=minus) 60 days, 0:00:00\n",
      "dt 2013-07-01\n",
      "timedelta(days=minus) 90 days, 0:00:00\n",
      "dt 2013-07-01\n",
      "timedelta(days=minus) 56 days, 0:00:00\n",
      "dt 2013-07-01\n",
      "timedelta(days=minus) 140 days, 0:00:00\n",
      "dt 2013-07-01\n",
      "timedelta(days=minus) 54 days, 0:00:00\n",
      "dt 2013-07-01\n",
      "timedelta(days=minus) 138 days, 0:00:00\n",
      "dt 2013-07-01\n",
      "timedelta(days=minus) 52 days, 0:00:00\n",
      "dt 2013-07-01\n",
      "timedelta(days=minus) 136 days, 0:00:00\n",
      "dt 2013-07-01\n",
      "timedelta(days=minus) 50 days, 0:00:00\n",
      "dt 2013-07-01\n",
      "timedelta(days=minus) 134 days, 0:00:00\n",
      "dt 2013-07-01\n",
      "timedelta(days=minus) 48 days, 0:00:00\n",
      "dt 2013-07-01\n",
      "timedelta(days=minus) 132 days, 0:00:00\n",
      "dt 2013-07-01\n",
      "timedelta(days=minus) 46 days, 0:00:00\n",
      "dt 2013-07-01\n",
      "timedelta(days=minus) 130 days, 0:00:00\n",
      "dt 2013-07-01\n",
      "timedelta(days=minus) 44 days, 0:00:00\n",
      "dt 2013-07-01\n",
      "timedelta(days=minus) 128 days, 0:00:00\n",
      "dt 2013-07-01\n",
      "Preparing num feature...\n",
      "timedelta(days=minus) 3 days, 0:00:00\n",
      "dt 2013-07-01\n",
      "timedelta(days=minus) 3 days, 0:00:00\n",
      "dt 2013-06-24\n",
      "timedelta(days=minus) 21 days, 0:00:00\n",
      "dt 2013-07-01\n",
      "timedelta(days=minus) 21 days, 0:00:00\n",
      "dt 2013-06-24\n",
      "timedelta(days=minus) 35 days, 0:00:00\n",
      "dt 2013-07-01\n",
      "timedelta(days=minus) 35 days, 0:00:00\n",
      "dt 2013-06-24\n",
      "timedelta(days=minus) 49 days, 0:00:00\n",
      "dt 2013-07-01\n",
      "timedelta(days=minus) 49 days, 0:00:00\n",
      "dt 2013-06-24\n",
      "timedelta(days=minus) 70 days, 0:00:00\n",
      "dt 2013-07-01\n",
      "timedelta(days=minus) 70 days, 0:00:00\n",
      "dt 2013-06-24\n",
      "timedelta(days=minus) 84 days, 0:00:00\n",
      "dt 2013-07-01\n",
      "timedelta(days=minus) 84 days, 0:00:00\n",
      "dt 2013-06-24\n",
      "timedelta(days=minus) 105 days, 0:00:00\n",
      "dt 2013-07-01\n",
      "timedelta(days=minus) 105 days, 0:00:00\n",
      "dt 2013-06-24\n",
      "timedelta(days=minus) 28 days, 0:00:00\n",
      "dt 2013-07-01\n",
      "timedelta(days=minus) 56 days, 0:00:00\n",
      "dt 2013-07-01\n",
      "timedelta(days=minus) 84 days, 0:00:00\n",
      "dt 2013-07-01\n",
      "timedelta(days=minus) 56 days, 0:00:00\n",
      "dt 2013-07-01\n",
      "timedelta(days=minus) 140 days, 0:00:00\n",
      "dt 2013-07-01\n",
      "timedelta(days=minus) 54 days, 0:00:00\n",
      "dt 2013-07-01\n",
      "timedelta(days=minus) 138 days, 0:00:00\n",
      "dt 2013-07-01\n",
      "timedelta(days=minus) 52 days, 0:00:00\n",
      "dt 2013-07-01\n",
      "timedelta(days=minus) 136 days, 0:00:00\n",
      "dt 2013-07-01\n",
      "timedelta(days=minus) 50 days, 0:00:00\n",
      "dt 2013-07-01\n",
      "timedelta(days=minus) 134 days, 0:00:00\n",
      "dt 2013-07-01\n",
      "timedelta(days=minus) 48 days, 0:00:00\n",
      "dt 2013-07-01\n",
      "timedelta(days=minus) 132 days, 0:00:00\n",
      "dt 2013-07-01\n",
      "timedelta(days=minus) 46 days, 0:00:00\n",
      "dt 2013-07-01\n",
      "timedelta(days=minus) 130 days, 0:00:00\n",
      "dt 2013-07-01\n",
      "timedelta(days=minus) 44 days, 0:00:00\n",
      "dt 2013-07-01\n",
      "timedelta(days=minus) 128 days, 0:00:00\n",
      "dt 2013-07-01\n",
      "Memory usage of the dataframe is : 801.8139953613281 MB\n",
      "___MEMORY USAGE AFTER COMPLETION:___\n",
      "Memory usage is:  165.20898818969727  MB\n",
      "This is  20.60440315902041 % of the initial size\n",
      "CPU times: user 3min 36s, sys: 2min 10s, total: 5min 46s\n",
      "Wall time: 5min 46s\n"
     ]
    }
   ],
   "source": [
    "%%time\n",
    "# part3 2013.07.01之前的用户，在2013.07.01后30天的时间滑窗\n",
    "df_0701 = train[(train.order_pay_time > '2013-01-26')&(train.order_pay_time <= '2013-07-01')][['customer_id']]\n",
    "df_0701 = df_0701.drop_duplicates(['customer_id'])\n",
    "df_part3_partment = make_slides(train,df_0701,'2013-01-26','2013-07-31','order_total_payment')\n",
    "df_part3_goods = make_slides(train,df_0701,'2013-01-26','2013-07-31','order_total_num')\n",
    "X_part3, y_part3 = prepare_dataset(df_part3_partment, df_part3_goods, date(2013, 7, 1))"
   ]
  },
  {
   "cell_type": "code",
   "execution_count": null,
   "metadata": {
    "collapsed": false
   },
   "outputs": [],
   "source": [
    "X_part3.to_pickle('./X_part3.pkl')\n",
    "np.save(\"./y_part3.npy\", y_part3)"
   ]
  },
  {
   "cell_type": "code",
   "execution_count": null,
   "metadata": {
    "collapsed": false
   },
   "outputs": [
    {
     "data": {
      "text/plain": [
       "86"
      ]
     },
     "execution_count": null,
     "metadata": {},
     "output_type": "execute_result"
    }
   ],
   "source": [
    "del df_0701\n",
    "del df_part3_partment\n",
    "del df_part3_goods\n",
    "del X_part3\n",
    "del y_part3\n",
    "gc.collect()"
   ]
  },
  {
   "cell_type": "code",
   "execution_count": null,
   "metadata": {
    "collapsed": false
   },
   "outputs": [
    {
     "name": "stdout",
     "output_type": "stream",
     "text": [
      "Preparing payment feature...\n",
      "timedelta(days=minus) 7 days, 0:00:00\n",
      "dt 2013-07-15\n",
      "timedelta(days=minus) 7 days, 0:00:00\n",
      "dt 2013-07-08\n",
      "timedelta(days=minus) 14 days, 0:00:00\n",
      "dt 2013-07-15\n",
      "timedelta(days=minus) 14 days, 0:00:00\n",
      "dt 2013-07-08\n",
      "timedelta(days=minus) 30 days, 0:00:00\n",
      "dt 2013-07-15\n",
      "timedelta(days=minus) 30 days, 0:00:00\n",
      "dt 2013-07-08\n",
      "timedelta(days=minus) 49 days, 0:00:00\n",
      "dt 2013-07-15\n",
      "timedelta(days=minus) 49 days, 0:00:00\n",
      "dt 2013-07-08\n",
      "timedelta(days=minus) 60 days, 0:00:00\n",
      "dt 2013-07-15\n",
      "timedelta(days=minus) 60 days, 0:00:00\n",
      "dt 2013-07-08\n",
      "timedelta(days=minus) 91 days, 0:00:00\n",
      "dt 2013-07-15\n",
      "timedelta(days=minus) 91 days, 0:00:00\n",
      "dt 2013-07-08\n",
      "timedelta(days=minus) 120 days, 0:00:00\n",
      "dt 2013-07-15\n",
      "timedelta(days=minus) 120 days, 0:00:00\n",
      "dt 2013-07-08\n",
      "timedelta(days=minus) 30 days, 0:00:00\n",
      "dt 2013-07-15\n",
      "timedelta(days=minus) 60 days, 0:00:00\n",
      "dt 2013-07-15\n",
      "timedelta(days=minus) 90 days, 0:00:00\n",
      "dt 2013-07-15\n",
      "timedelta(days=minus) 56 days, 0:00:00\n",
      "dt 2013-07-15\n",
      "timedelta(days=minus) 140 days, 0:00:00\n",
      "dt 2013-07-15\n",
      "timedelta(days=minus) 54 days, 0:00:00\n",
      "dt 2013-07-15\n",
      "timedelta(days=minus) 138 days, 0:00:00\n",
      "dt 2013-07-15\n",
      "timedelta(days=minus) 52 days, 0:00:00\n",
      "dt 2013-07-15\n",
      "timedelta(days=minus) 136 days, 0:00:00\n",
      "dt 2013-07-15\n",
      "timedelta(days=minus) 50 days, 0:00:00\n",
      "dt 2013-07-15\n",
      "timedelta(days=minus) 134 days, 0:00:00\n",
      "dt 2013-07-15\n",
      "timedelta(days=minus) 48 days, 0:00:00\n",
      "dt 2013-07-15\n",
      "timedelta(days=minus) 132 days, 0:00:00\n",
      "dt 2013-07-15\n",
      "timedelta(days=minus) 46 days, 0:00:00\n",
      "dt 2013-07-15\n",
      "timedelta(days=minus) 130 days, 0:00:00\n",
      "dt 2013-07-15\n",
      "timedelta(days=minus) 44 days, 0:00:00\n",
      "dt 2013-07-15\n",
      "timedelta(days=minus) 128 days, 0:00:00\n",
      "dt 2013-07-15\n",
      "Preparing num feature...\n",
      "timedelta(days=minus) 3 days, 0:00:00\n",
      "dt 2013-07-15\n",
      "timedelta(days=minus) 3 days, 0:00:00\n",
      "dt 2013-07-08\n",
      "timedelta(days=minus) 21 days, 0:00:00\n",
      "dt 2013-07-15\n",
      "timedelta(days=minus) 21 days, 0:00:00\n",
      "dt 2013-07-08\n",
      "timedelta(days=minus) 35 days, 0:00:00\n",
      "dt 2013-07-15\n",
      "timedelta(days=minus) 35 days, 0:00:00\n",
      "dt 2013-07-08\n",
      "timedelta(days=minus) 49 days, 0:00:00\n",
      "dt 2013-07-15\n",
      "timedelta(days=minus) 49 days, 0:00:00\n",
      "dt 2013-07-08\n",
      "timedelta(days=minus) 70 days, 0:00:00\n",
      "dt 2013-07-15\n",
      "timedelta(days=minus) 70 days, 0:00:00\n",
      "dt 2013-07-08\n",
      "timedelta(days=minus) 84 days, 0:00:00\n",
      "dt 2013-07-15\n",
      "timedelta(days=minus) 84 days, 0:00:00\n",
      "dt 2013-07-08\n",
      "timedelta(days=minus) 105 days, 0:00:00\n",
      "dt 2013-07-15\n",
      "timedelta(days=minus) 105 days, 0:00:00\n",
      "dt 2013-07-08\n",
      "timedelta(days=minus) 28 days, 0:00:00\n",
      "dt 2013-07-15\n",
      "timedelta(days=minus) 56 days, 0:00:00\n",
      "dt 2013-07-15\n",
      "timedelta(days=minus) 84 days, 0:00:00\n",
      "dt 2013-07-15\n",
      "timedelta(days=minus) 56 days, 0:00:00\n",
      "dt 2013-07-15\n",
      "timedelta(days=minus) 140 days, 0:00:00\n",
      "dt 2013-07-15\n",
      "timedelta(days=minus) 54 days, 0:00:00\n",
      "dt 2013-07-15\n",
      "timedelta(days=minus) 138 days, 0:00:00\n",
      "dt 2013-07-15\n",
      "timedelta(days=minus) 52 days, 0:00:00\n",
      "dt 2013-07-15\n",
      "timedelta(days=minus) 136 days, 0:00:00\n",
      "dt 2013-07-15\n",
      "timedelta(days=minus) 50 days, 0:00:00\n",
      "dt 2013-07-15\n",
      "timedelta(days=minus) 134 days, 0:00:00\n",
      "dt 2013-07-15\n",
      "timedelta(days=minus) 48 days, 0:00:00\n",
      "dt 2013-07-15\n",
      "timedelta(days=minus) 132 days, 0:00:00\n",
      "dt 2013-07-15\n",
      "timedelta(days=minus) 46 days, 0:00:00\n",
      "dt 2013-07-15\n",
      "timedelta(days=minus) 130 days, 0:00:00\n",
      "dt 2013-07-15\n",
      "timedelta(days=minus) 44 days, 0:00:00\n",
      "dt 2013-07-15\n",
      "timedelta(days=minus) 128 days, 0:00:00\n",
      "dt 2013-07-15\n",
      "Memory usage of the dataframe is : 526.6256408691406 MB\n",
      "___MEMORY USAGE AFTER COMPLETION:___\n",
      "Memory usage is:  107.06131744384766  MB\n",
      "This is  20.329681871766468 % of the initial size\n",
      "CPU times: user 2min 18s, sys: 1min 15s, total: 3min 33s\n",
      "Wall time: 3min 33s\n"
     ]
    }
   ],
   "source": [
    "%%time\n",
    "# part4 2013.07.15之前的用户，在2013.07.15后30天的时间滑窗\n",
    "df_0715 = train[(train.order_pay_time > '2013-02-10')&(train.order_pay_time <= '2013-07-15')][['customer_id']]\n",
    "df_0715 = df_0715.drop_duplicates(['customer_id'])\n",
    "df_part4_partment = make_slides(train,df_0715,'2013-02-10','2013-08-16','order_total_payment')\n",
    "df_part4_goods = make_slides(train,df_0715,'2013-02-10','2013-08-16','order_total_num')\n",
    "X_part4, y_part4 = prepare_dataset(df_part4_partment, df_part4_goods, date(2013, 7, 15))"
   ]
  },
  {
   "cell_type": "code",
   "execution_count": null,
   "metadata": {
    "collapsed": false
   },
   "outputs": [
    {
     "name": "stdout",
     "output_type": "stream",
     "text": [
      "CPU times: user 96 ms, sys: 236 ms, total: 332 ms\n",
      "Wall time: 335 ms\n"
     ]
    }
   ],
   "source": [
    "%%time\n",
    "X_part4.to_pickle('./X_part4.pkl')\n",
    "np.save(\"./y_part4.npy\", y_part4)"
   ]
  },
  {
   "cell_type": "code",
   "execution_count": null,
   "metadata": {
    "collapsed": false
   },
   "outputs": [
    {
     "name": "stdout",
     "output_type": "stream",
     "text": [
      "CPU times: user 104 ms, sys: 68 ms, total: 172 ms\n",
      "Wall time: 171 ms\n"
     ]
    }
   ],
   "source": [
    "%%time\n",
    "del df_0715\n",
    "del df_part4_partment\n",
    "del df_part4_goods\n",
    "del X_part4\n",
    "del y_part4\n",
    "gc.collect()"
   ]
  },
  {
   "cell_type": "code",
   "execution_count": null,
   "metadata": {
    "collapsed": false
   },
   "outputs": [
    {
     "name": "stdout",
     "output_type": "stream",
     "text": [
      "Preparing Train dataset...\n",
      "done!\n",
      "CPU times: user 2.39 s, sys: 3.15 s, total: 5.54 s\n",
      "Wall time: 5.67 s\n"
     ]
    }
   ],
   "source": [
    "%%time\n",
    "# 将四部分训练集整合\n",
    "print(\"Preparing Train dataset...\")\n",
    "X_l, y_l = [], []\n",
    "X_part1 = pd.read_pickle('./X_part1.pkl')\n",
    "y_part1 = np.load('./y_part1.npy')\n",
    "X_l.append(X_part1)\n",
    "y_l.append(y_part1)\n",
    "X_part2 = pd.read_pickle('./X_part2.pkl')\n",
    "y_part2 = np.load('./y_part2.npy')\n",
    "X_l.append(X_part2)\n",
    "y_l.append(y_part2)\n",
    "X_part3 = pd.read_pickle('./X_part3.pkl')\n",
    "y_part3 = np.load('./y_part3.npy')\n",
    "X_l.append(X_part3)\n",
    "y_l.append(y_part3)\n",
    "X_part4 = pd.read_pickle('./X_part4.pkl')\n",
    "y_part4 = np.load('./y_part4.npy')\n",
    "X_l.append(X_part4)\n",
    "y_l.append(y_part4)\n",
    "X_train = pd.concat(X_l, axis=0)\n",
    "y_train = np.concatenate(y_l, axis=0)\n",
    "print('done!')\n",
    "del X_l\n",
    "del y_l\n",
    "del X_part1\n",
    "del y_part1\n",
    "del X_part2\n",
    "del y_part2\n",
    "del X_part3\n",
    "del y_part3\n",
    "del X_part4\n",
    "del y_part4\n",
    "gc.collect()\n",
    "X_train.to_pickle('./X_train.pkl')\n",
    "np.save(\"./y_train.npy\", y_train)"
   ]
  },
  {
   "cell_type": "code",
   "execution_count": null,
   "metadata": {
    "collapsed": false
   },
   "outputs": [
    {
     "name": "stdout",
     "output_type": "stream",
     "text": [
      "Preparing Validation dataset...\n",
      "Preparing payment feature...\n",
      "timedelta(days=minus) 7 days, 0:00:00\n",
      "dt 2013-08-01\n",
      "timedelta(days=minus) 7 days, 0:00:00\n",
      "dt 2013-07-25\n",
      "timedelta(days=minus) 14 days, 0:00:00\n",
      "dt 2013-08-01\n",
      "timedelta(days=minus) 14 days, 0:00:00\n",
      "dt 2013-07-25\n",
      "timedelta(days=minus) 30 days, 0:00:00\n",
      "dt 2013-08-01\n",
      "timedelta(days=minus) 30 days, 0:00:00\n",
      "dt 2013-07-25\n",
      "timedelta(days=minus) 49 days, 0:00:00\n",
      "dt 2013-08-01\n",
      "timedelta(days=minus) 49 days, 0:00:00\n",
      "dt 2013-07-25\n",
      "timedelta(days=minus) 60 days, 0:00:00\n",
      "dt 2013-08-01\n",
      "timedelta(days=minus) 60 days, 0:00:00\n",
      "dt 2013-07-25\n",
      "timedelta(days=minus) 91 days, 0:00:00\n",
      "dt 2013-08-01\n",
      "timedelta(days=minus) 91 days, 0:00:00\n",
      "dt 2013-07-25\n",
      "timedelta(days=minus) 120 days, 0:00:00\n",
      "dt 2013-08-01\n",
      "timedelta(days=minus) 120 days, 0:00:00\n",
      "dt 2013-07-25\n",
      "timedelta(days=minus) 30 days, 0:00:00\n",
      "dt 2013-08-01\n",
      "timedelta(days=minus) 60 days, 0:00:00\n",
      "dt 2013-08-01\n",
      "timedelta(days=minus) 90 days, 0:00:00\n",
      "dt 2013-08-01\n",
      "timedelta(days=minus) 56 days, 0:00:00\n",
      "dt 2013-08-01\n",
      "timedelta(days=minus) 140 days, 0:00:00\n",
      "dt 2013-08-01\n",
      "timedelta(days=minus) 54 days, 0:00:00\n",
      "dt 2013-08-01\n",
      "timedelta(days=minus) 138 days, 0:00:00\n",
      "dt 2013-08-01\n",
      "timedelta(days=minus) 52 days, 0:00:00\n",
      "dt 2013-08-01\n",
      "timedelta(days=minus) 136 days, 0:00:00\n",
      "dt 2013-08-01\n",
      "timedelta(days=minus) 50 days, 0:00:00\n",
      "dt 2013-08-01\n",
      "timedelta(days=minus) 134 days, 0:00:00\n",
      "dt 2013-08-01\n",
      "timedelta(days=minus) 48 days, 0:00:00\n",
      "dt 2013-08-01\n",
      "timedelta(days=minus) 132 days, 0:00:00\n",
      "dt 2013-08-01\n",
      "timedelta(days=minus) 46 days, 0:00:00\n",
      "dt 2013-08-01\n",
      "timedelta(days=minus) 130 days, 0:00:00\n",
      "dt 2013-08-01\n",
      "timedelta(days=minus) 44 days, 0:00:00\n",
      "dt 2013-08-01\n",
      "timedelta(days=minus) 128 days, 0:00:00\n",
      "dt 2013-08-01\n",
      "Preparing num feature...\n",
      "timedelta(days=minus) 3 days, 0:00:00\n",
      "dt 2013-08-01\n",
      "timedelta(days=minus) 3 days, 0:00:00\n",
      "dt 2013-07-25\n",
      "timedelta(days=minus) 21 days, 0:00:00\n",
      "dt 2013-08-01\n",
      "timedelta(days=minus) 21 days, 0:00:00\n",
      "dt 2013-07-25\n",
      "timedelta(days=minus) 35 days, 0:00:00\n",
      "dt 2013-08-01\n",
      "timedelta(days=minus) 35 days, 0:00:00\n",
      "dt 2013-07-25\n",
      "timedelta(days=minus) 49 days, 0:00:00\n",
      "dt 2013-08-01\n",
      "timedelta(days=minus) 49 days, 0:00:00\n",
      "dt 2013-07-25\n",
      "timedelta(days=minus) 70 days, 0:00:00\n",
      "dt 2013-08-01\n",
      "timedelta(days=minus) 70 days, 0:00:00\n",
      "dt 2013-07-25\n",
      "timedelta(days=minus) 84 days, 0:00:00\n",
      "dt 2013-08-01\n",
      "timedelta(days=minus) 84 days, 0:00:00\n",
      "dt 2013-07-25\n",
      "timedelta(days=minus) 105 days, 0:00:00\n",
      "dt 2013-08-01\n",
      "timedelta(days=minus) 105 days, 0:00:00\n",
      "dt 2013-07-25\n",
      "timedelta(days=minus) 28 days, 0:00:00\n",
      "dt 2013-08-01\n",
      "timedelta(days=minus) 56 days, 0:00:00\n",
      "dt 2013-08-01\n",
      "timedelta(days=minus) 84 days, 0:00:00\n",
      "dt 2013-08-01\n",
      "timedelta(days=minus) 56 days, 0:00:00\n",
      "dt 2013-08-01\n",
      "timedelta(days=minus) 140 days, 0:00:00\n",
      "dt 2013-08-01\n",
      "timedelta(days=minus) 54 days, 0:00:00\n",
      "dt 2013-08-01\n",
      "timedelta(days=minus) 138 days, 0:00:00\n",
      "dt 2013-08-01\n",
      "timedelta(days=minus) 52 days, 0:00:00\n",
      "dt 2013-08-01\n",
      "timedelta(days=minus) 136 days, 0:00:00\n",
      "dt 2013-08-01\n",
      "timedelta(days=minus) 50 days, 0:00:00\n",
      "dt 2013-08-01\n",
      "timedelta(days=minus) 134 days, 0:00:00\n",
      "dt 2013-08-01\n",
      "timedelta(days=minus) 48 days, 0:00:00\n",
      "dt 2013-08-01\n",
      "timedelta(days=minus) 132 days, 0:00:00\n",
      "dt 2013-08-01\n",
      "timedelta(days=minus) 46 days, 0:00:00\n",
      "dt 2013-08-01\n",
      "timedelta(days=minus) 130 days, 0:00:00\n",
      "dt 2013-08-01\n",
      "timedelta(days=minus) 44 days, 0:00:00\n",
      "dt 2013-08-01\n",
      "timedelta(days=minus) 128 days, 0:00:00\n",
      "dt 2013-08-01\n",
      "Memory usage of the dataframe is : 561.9364624023438 MB\n",
      "___MEMORY USAGE AFTER COMPLETION:___\n",
      "Memory usage is:  113.8539457321167  MB\n",
      "This is  20.26099983713067 % of the initial size\n",
      "CPU times: user 2min 28s, sys: 1min 20s, total: 3min 49s\n",
      "Wall time: 3min 49s\n"
     ]
    }
   ],
   "source": [
    "%%time\n",
    "# 2013.08.01之前的用户，在2013.08.01后30天的时间滑窗\n",
    "print(\"Preparing Validation dataset...\")\n",
    "df_0801 = train[(train.order_pay_time > '2013-03-01')&(train.order_pay_time <= '2013-08-01')][['customer_id']]\n",
    "df_0801 = df_0801.drop_duplicates(['customer_id'])\n",
    "df_part5_partment = make_slides(train,df_0801,'2013-03-01','2013-08-31','order_total_payment')\n",
    "df_part5_goods = make_slides(train,df_0801,'2013-03-01','2013-08-31','order_total_num')\n",
    "X_val, y_val = prepare_dataset(df_part5_partment, df_part5_goods, date(2013, 8, 1))"
   ]
  },
  {
   "cell_type": "code",
   "execution_count": null,
   "metadata": {
    "collapsed": false
   },
   "outputs": [
    {
     "name": "stdout",
     "output_type": "stream",
     "text": [
      "CPU times: user 112 ms, sys: 240 ms, total: 352 ms\n",
      "Wall time: 357 ms\n"
     ]
    }
   ],
   "source": [
    "%%time\n",
    "X_val.to_pickle('./X_val.pkl')\n",
    "np.save(\"./y_val.npy\", y_val)"
   ]
  },
  {
   "cell_type": "code",
   "execution_count": null,
   "metadata": {
    "collapsed": false
   },
   "outputs": [
    {
     "name": "stdout",
     "output_type": "stream",
     "text": [
      "CPU times: user 128 ms, sys: 68 ms, total: 196 ms\n",
      "Wall time: 197 ms\n"
     ]
    }
   ],
   "source": [
    "%%time\n",
    "del df_0801\n",
    "del df_part5_partment\n",
    "del df_part5_goods\n",
    "gc.collect()"
   ]
  },
  {
   "cell_type": "code",
   "execution_count": null,
   "metadata": {
    "collapsed": false
   },
   "outputs": [
    {
     "name": "stdout",
     "output_type": "stream",
     "text": [
      "Preparing payment feature...\n",
      "timedelta(days=minus) 7 days, 0:00:00\n",
      "dt 2013-09-01\n",
      "timedelta(days=minus) 7 days, 0:00:00\n",
      "dt 2013-08-25\n",
      "timedelta(days=minus) 14 days, 0:00:00\n",
      "dt 2013-09-01\n",
      "timedelta(days=minus) 14 days, 0:00:00\n",
      "dt 2013-08-25\n",
      "timedelta(days=minus) 30 days, 0:00:00\n",
      "dt 2013-09-01\n",
      "timedelta(days=minus) 30 days, 0:00:00\n",
      "dt 2013-08-25\n",
      "timedelta(days=minus) 49 days, 0:00:00\n",
      "dt 2013-09-01\n",
      "timedelta(days=minus) 49 days, 0:00:00\n",
      "dt 2013-08-25\n",
      "timedelta(days=minus) 60 days, 0:00:00\n",
      "dt 2013-09-01\n",
      "timedelta(days=minus) 60 days, 0:00:00\n",
      "dt 2013-08-25\n",
      "timedelta(days=minus) 91 days, 0:00:00\n",
      "dt 2013-09-01\n",
      "timedelta(days=minus) 91 days, 0:00:00\n",
      "dt 2013-08-25\n",
      "timedelta(days=minus) 120 days, 0:00:00\n",
      "dt 2013-09-01\n",
      "timedelta(days=minus) 120 days, 0:00:00\n",
      "dt 2013-08-25\n",
      "timedelta(days=minus) 30 days, 0:00:00\n",
      "dt 2013-09-01\n",
      "timedelta(days=minus) 60 days, 0:00:00\n",
      "dt 2013-09-01\n",
      "timedelta(days=minus) 90 days, 0:00:00\n",
      "dt 2013-09-01\n",
      "timedelta(days=minus) 56 days, 0:00:00\n",
      "dt 2013-09-01\n",
      "timedelta(days=minus) 140 days, 0:00:00\n",
      "dt 2013-09-01\n",
      "timedelta(days=minus) 54 days, 0:00:00\n",
      "dt 2013-09-01\n",
      "timedelta(days=minus) 138 days, 0:00:00\n",
      "dt 2013-09-01\n",
      "timedelta(days=minus) 52 days, 0:00:00\n",
      "dt 2013-09-01\n",
      "timedelta(days=minus) 136 days, 0:00:00\n",
      "dt 2013-09-01\n",
      "timedelta(days=minus) 50 days, 0:00:00\n",
      "dt 2013-09-01\n",
      "timedelta(days=minus) 134 days, 0:00:00\n",
      "dt 2013-09-01\n",
      "timedelta(days=minus) 48 days, 0:00:00\n",
      "dt 2013-09-01\n",
      "timedelta(days=minus) 132 days, 0:00:00\n",
      "dt 2013-09-01\n",
      "timedelta(days=minus) 46 days, 0:00:00\n",
      "dt 2013-09-01\n",
      "timedelta(days=minus) 130 days, 0:00:00\n",
      "dt 2013-09-01\n",
      "timedelta(days=minus) 44 days, 0:00:00\n",
      "dt 2013-09-01\n",
      "timedelta(days=minus) 128 days, 0:00:00\n",
      "dt 2013-09-01\n",
      "Preparing num feature...\n",
      "timedelta(days=minus) 3 days, 0:00:00\n",
      "dt 2013-09-01\n",
      "timedelta(days=minus) 3 days, 0:00:00\n",
      "dt 2013-08-25\n",
      "timedelta(days=minus) 21 days, 0:00:00\n",
      "dt 2013-09-01\n",
      "timedelta(days=minus) 21 days, 0:00:00\n",
      "dt 2013-08-25\n",
      "timedelta(days=minus) 35 days, 0:00:00\n",
      "dt 2013-09-01\n",
      "timedelta(days=minus) 35 days, 0:00:00\n",
      "dt 2013-08-25\n",
      "timedelta(days=minus) 49 days, 0:00:00\n",
      "dt 2013-09-01\n",
      "timedelta(days=minus) 49 days, 0:00:00\n",
      "dt 2013-08-25\n",
      "timedelta(days=minus) 70 days, 0:00:00\n",
      "dt 2013-09-01\n",
      "timedelta(days=minus) 70 days, 0:00:00\n",
      "dt 2013-08-25\n",
      "timedelta(days=minus) 84 days, 0:00:00\n",
      "dt 2013-09-01\n",
      "timedelta(days=minus) 84 days, 0:00:00\n",
      "dt 2013-08-25\n",
      "timedelta(days=minus) 105 days, 0:00:00\n",
      "dt 2013-09-01\n",
      "timedelta(days=minus) 105 days, 0:00:00\n",
      "dt 2013-08-25\n",
      "timedelta(days=minus) 28 days, 0:00:00\n",
      "dt 2013-09-01\n",
      "timedelta(days=minus) 56 days, 0:00:00\n",
      "dt 2013-09-01\n",
      "timedelta(days=minus) 84 days, 0:00:00\n",
      "dt 2013-09-01\n",
      "timedelta(days=minus) 56 days, 0:00:00\n",
      "dt 2013-09-01\n",
      "timedelta(days=minus) 140 days, 0:00:00\n",
      "dt 2013-09-01\n",
      "timedelta(days=minus) 54 days, 0:00:00\n",
      "dt 2013-09-01\n",
      "timedelta(days=minus) 138 days, 0:00:00\n",
      "dt 2013-09-01\n",
      "timedelta(days=minus) 52 days, 0:00:00\n",
      "dt 2013-09-01\n",
      "timedelta(days=minus) 136 days, 0:00:00\n",
      "dt 2013-09-01\n",
      "timedelta(days=minus) 50 days, 0:00:00\n",
      "dt 2013-09-01\n",
      "timedelta(days=minus) 134 days, 0:00:00\n",
      "dt 2013-09-01\n",
      "timedelta(days=minus) 48 days, 0:00:00\n",
      "dt 2013-09-01\n",
      "timedelta(days=minus) 132 days, 0:00:00\n",
      "dt 2013-09-01\n",
      "timedelta(days=minus) 46 days, 0:00:00\n",
      "dt 2013-09-01\n",
      "timedelta(days=minus) 130 days, 0:00:00\n",
      "dt 2013-09-01\n",
      "timedelta(days=minus) 44 days, 0:00:00\n",
      "dt 2013-09-01\n",
      "timedelta(days=minus) 128 days, 0:00:00\n",
      "dt 2013-09-01\n",
      "Memory usage of the dataframe is : 672.3983764648438 MB\n",
      "___MEMORY USAGE AFTER COMPLETION:___\n",
      "Memory usage is:  137.15824604034424  MB\n",
      "This is  20.398360680383878 % of the initial size\n",
      "CPU times: user 2min 54s, sys: 1min 37s, total: 4min 31s\n",
      "Wall time: 4min 31s\n"
     ]
    }
   ],
   "source": [
    "%%time\n",
    "# 2013.09.01之前的用户，在2013.09.01后30天的时间滑窗 \n",
    "df_0901 = train[(train.order_pay_time > '2013-03-01')&(train.order_pay_time < '2013-09-01')][['customer_id']]\n",
    "df_0901 = df_0901.drop_duplicates(['customer_id'])\n",
    "df_test_partment = make_slides(train,df_0901,'2013-04-01','2013-09-01','order_total_payment')\n",
    "df_test_goods = make_slides(train,df_0901,'2013-04-01','2013-09-01','order_total_num')\n",
    "X_test = prepare_dataset(df_test_partment, df_test_goods, date(2013, 9, 1),is_train=False)"
   ]
  },
  {
   "cell_type": "code",
   "execution_count": null,
   "metadata": {
    "collapsed": false
   },
   "outputs": [],
   "source": [
    "X_test.to_pickle('./X_test.pkl')"
   ]
  },
  {
   "cell_type": "code",
   "execution_count": null,
   "metadata": {
    "collapsed": false
   },
   "outputs": [
    {
     "name": "stdout",
     "output_type": "stream",
     "text": [
      "CPU times: user 112 ms, sys: 64 ms, total: 176 ms\n",
      "Wall time: 176 ms\n"
     ]
    }
   ],
   "source": [
    "%%time\n",
    "del df_0901\n",
    "del df_test_partment\n",
    "del df_test_goods\n",
    "del X_test\n",
    "gc.collect()"
   ]
  },
  {
   "cell_type": "code",
   "execution_count": null,
   "metadata": {
    "collapsed": false
   },
   "outputs": [
    {
     "data": {
      "text/html": [
       "<div>\n",
       "<style scoped>\n",
       "    .dataframe tbody tr th:only-of-type {\n",
       "        vertical-align: middle;\n",
       "    }\n",
       "\n",
       "    .dataframe tbody tr th {\n",
       "        vertical-align: top;\n",
       "    }\n",
       "\n",
       "    .dataframe thead th {\n",
       "        text-align: right;\n",
       "    }\n",
       "</style>\n",
       "<table border=\"1\" class=\"dataframe\">\n",
       "  <thead>\n",
       "    <tr style=\"text-align: right;\">\n",
       "      <th></th>\n",
       "      <th>member_id</th>\n",
       "      <th>customer_id</th>\n",
       "      <th>customer_gender</th>\n",
       "      <th>customer_province_id</th>\n",
       "      <th>customer_city_id</th>\n",
       "      <th>is_member_actived</th>\n",
       "    </tr>\n",
       "  </thead>\n",
       "  <tbody>\n",
       "    <tr>\n",
       "      <th>0</th>\n",
       "      <td>0</td>\n",
       "      <td>1000000</td>\n",
       "      <td>0</td>\n",
       "      <td>4</td>\n",
       "      <td>53</td>\n",
       "      <td>0</td>\n",
       "    </tr>\n",
       "    <tr>\n",
       "      <th>1</th>\n",
       "      <td>0</td>\n",
       "      <td>1001324</td>\n",
       "      <td>0</td>\n",
       "      <td>3</td>\n",
       "      <td>322</td>\n",
       "      <td>0</td>\n",
       "    </tr>\n",
       "    <tr>\n",
       "      <th>3</th>\n",
       "      <td>0</td>\n",
       "      <td>1001325</td>\n",
       "      <td>0</td>\n",
       "      <td>20</td>\n",
       "      <td>185</td>\n",
       "      <td>0</td>\n",
       "    </tr>\n",
       "    <tr>\n",
       "      <th>4</th>\n",
       "      <td>0</td>\n",
       "      <td>1001326</td>\n",
       "      <td>0</td>\n",
       "      <td>4</td>\n",
       "      <td>53</td>\n",
       "      <td>0</td>\n",
       "    </tr>\n",
       "    <tr>\n",
       "      <th>5</th>\n",
       "      <td>0</td>\n",
       "      <td>1001327</td>\n",
       "      <td>0</td>\n",
       "      <td>4</td>\n",
       "      <td>53</td>\n",
       "      <td>0</td>\n",
       "    </tr>\n",
       "  </tbody>\n",
       "</table>\n",
       "</div>"
      ],
      "text/plain": [
       "   member_id  customer_id  customer_gender  customer_province_id  \\\n",
       "0          0      1000000                0                     4   \n",
       "1          0      1001324                0                     3   \n",
       "3          0      1001325                0                    20   \n",
       "4          0      1001326                0                     4   \n",
       "5          0      1001327                0                     4   \n",
       "\n",
       "   customer_city_id  is_member_actived  \n",
       "0                53                  0  \n",
       "1               322                  0  \n",
       "3               185                  0  \n",
       "4                53                  0  \n",
       "5                53                  0  "
      ]
     },
     "execution_count": null,
     "metadata": {},
     "output_type": "execute_result"
    }
   ],
   "source": [
    "df_customer = train[['member_id','customer_id','customer_gender','customer_province_id','customer_city_id','is_member_actived']]\n",
    "# 删除重复行\n",
    "df_customer = df_customer.drop_duplicates(['customer_id'])\n",
    "df_customer.head()"
   ]
  },
  {
   "cell_type": "code",
   "execution_count": null,
   "metadata": {
    "collapsed": false
   },
   "outputs": [],
   "source": [
    "X_test = pd.read_pickle('./X_test.pkl')\n",
    "X_train = pd.merge(X_train,df_customer,how='left')\n",
    "X_val = pd.merge(X_val,df_customer,how='left')\n",
    "X_test = pd.merge(X_test,df_customer,how='left')"
   ]
  },
  {
   "cell_type": "code",
   "execution_count": null,
   "metadata": {
    "collapsed": false
   },
   "outputs": [],
   "source": [
    "X_train.to_pickle('X_train.pkl')\n",
    "X_val.to_pickle('X_val.pkl')\n",
    "X_test.to_pickle('X_test.pkl')"
   ]
  },
  {
   "cell_type": "code",
   "execution_count": null,
   "metadata": {
    "collapsed": false
   },
   "outputs": [],
   "source": [
    "# 读取数据\n",
    "X_train = pd.read_pickle('./X_train.pkl')\n",
    "X_val = pd.read_pickle('./X_val.pkl')\n",
    "X_test = pd.read_pickle('./X_test.pkl')"
   ]
  },
  {
   "cell_type": "code",
   "execution_count": null,
   "metadata": {
    "collapsed": false
   },
   "outputs": [],
   "source": [
    "y_train = np.load(\"./y_train.npy\")\n",
    "y_val = np.load(\"./y_val.npy\")\n",
    "\n",
    "# 合并数据\n",
    "X_l, y_l = [], []\n",
    "X_l.append(X_train)\n",
    "y_l.append(y_train)\n",
    "X_l.append(X_val)\n",
    "y_l.append(y_val)\n",
    "\n",
    "X_train_cv = pd.concat(X_l, axis=0)\n",
    "y_train_cv = np.concatenate(y_l, axis=0)\n",
    "\n",
    "del X_l\n",
    "del y_l\n",
    "gc.collect()\n",
    "X_train_cv.to_pickle('./X_train_cv.pkl')\n",
    "np.save(\"./y_train_cv.npy\", y_train_cv)\n",
    "\n",
    "X_train_cv = pd.read_pickle('./X_train_cv.pkl')\n",
    "y_train_cv = np.load(\"./y_train_cv.npy\")\n",
    "X_test = pd.read_pickle('./X_test.pkl')\n",
    "\n",
    "X_train = pd.read_pickle('./X_train.pkl')"
   ]
  },
  {
   "cell_type": "code",
   "execution_count": null,
   "metadata": {
    "collapsed": false
   },
   "outputs": [
    {
     "data": {
      "text/plain": [
       "array([  0, 182, 183, 184, 185, 186,  -1,  -1,  -1])"
      ]
     },
     "execution_count": null,
     "metadata": {},
     "output_type": "execute_result"
    }
   ],
   "source": [
    "# 找到类别型特征的位置\n",
    "X_train.columns.get_indexer(['customer_id','member_id','customer_gender','customer_province_id','customer_city_id',\n",
    "'is_member_actived','user_product_mode','user_product_mode_1','user_product_mode_2'])"
   ]
  },
  {
   "cell_type": "code",
   "execution_count": null,
   "metadata": {
    "collapsed": false
   },
   "outputs": [],
   "source": [
    "cat_features = [0, 182, 183, 184, 185, 186]"
   ]
  },
  {
   "cell_type": "code",
   "execution_count": null,
   "metadata": {
    "collapsed": false
   },
   "outputs": [
    {
     "name": "stdout",
     "output_type": "stream",
     "text": [
      "Looking in indexes: https://mirror.baidu.com/pypi/simple/\n",
      "Collecting catboost\n",
      "\u001b[?25l  Downloading https://mirror.baidu.com/pypi/packages/7d/df/a91979a1fe27f6c929ec0d94c31e6f3df9a2db43146a632aecf3ec9b416b/catboost-0.24.3-cp37-none-manylinux1_x86_64.whl (66.1MB)\n",
      "\u001b[K     |████████████████████████████████| 66.1MB 8.8MB/s eta 0:00:013\n",
      "\u001b[?25hRequirement already satisfied: numpy>=1.16.0 in /opt/conda/envs/python35-paddle120-env/lib/python3.7/site-packages (from catboost) (1.16.4)\n",
      "Collecting plotly (from catboost)\n",
      "\u001b[?25l  Downloading https://mirror.baidu.com/pypi/packages/c9/09/315462259ab7b60a3d4b7159233ed700733c87d889755bdc00a9fb46d692/plotly-4.14.1-py2.py3-none-any.whl (13.2MB)\n",
      "\u001b[K     |████████████████████████████████| 13.2MB 8.3MB/s eta 0:00:011\n",
      "\u001b[?25hRequirement already satisfied: graphviz in /opt/conda/envs/python35-paddle120-env/lib/python3.7/site-packages (from catboost) (0.13)\n",
      "Requirement already satisfied: scipy in /opt/conda/envs/python35-paddle120-env/lib/python3.7/site-packages (from catboost) (1.3.0)\n",
      "Collecting pandas>=0.24.0 (from catboost)\n",
      "\u001b[?25l  Downloading https://mirror.baidu.com/pypi/packages/fd/70/e8eee0cbddf926bf51958c7d6a86bc69167c300fa2ba8e592330a2377d1b/pandas-1.1.5-cp37-cp37m-manylinux1_x86_64.whl (9.5MB)\n",
      "\u001b[K     |████████████████████████████████| 9.5MB 13.5MB/s eta 0:00:01\n",
      "\u001b[?25hRequirement already satisfied: six in /opt/conda/envs/python35-paddle120-env/lib/python3.7/site-packages (from catboost) (1.15.0)\n",
      "Requirement already satisfied: matplotlib in /opt/conda/envs/python35-paddle120-env/lib/python3.7/site-packages (from catboost) (2.2.3)\n",
      "Collecting retrying>=1.3.3 (from plotly->catboost)\n",
      "  Downloading https://mirror.baidu.com/pypi/packages/44/ef/beae4b4ef80902f22e3af073397f079c96969c69b2c7d52a57ea9ae61c9d/retrying-1.3.3.tar.gz\n",
      "Requirement already satisfied: python-dateutil>=2.7.3 in /opt/conda/envs/python35-paddle120-env/lib/python3.7/site-packages (from pandas>=0.24.0->catboost) (2.8.0)\n",
      "Requirement already satisfied: pytz>=2017.2 in /opt/conda/envs/python35-paddle120-env/lib/python3.7/site-packages (from pandas>=0.24.0->catboost) (2019.3)\n",
      "Requirement already satisfied: pyparsing!=2.0.4,!=2.1.2,!=2.1.6,>=2.0.1 in /opt/conda/envs/python35-paddle120-env/lib/python3.7/site-packages (from matplotlib->catboost) (2.4.2)\n",
      "Requirement already satisfied: kiwisolver>=1.0.1 in /opt/conda/envs/python35-paddle120-env/lib/python3.7/site-packages (from matplotlib->catboost) (1.1.0)\n",
      "Requirement already satisfied: cycler>=0.10 in /opt/conda/envs/python35-paddle120-env/lib/python3.7/site-packages (from matplotlib->catboost) (0.10.0)\n",
      "Requirement already satisfied: setuptools in /opt/conda/envs/python35-paddle120-env/lib/python3.7/site-packages (from kiwisolver>=1.0.1->matplotlib->catboost) (41.4.0)\n",
      "Building wheels for collected packages: retrying\n",
      "  Building wheel for retrying (setup.py) ... \u001b[?25ldone\n",
      "\u001b[?25h  Created wheel for retrying: filename=retrying-1.3.3-cp37-none-any.whl size=11429 sha256=e12f95d4ed716e47ece06818950b4f666e8da8b502875b800b3c6917ac1800bd\n",
      "  Stored in directory: /home/aistudio/.cache/pip/wheels/85/a4/d0/31e19640ecb1909b9d9d765287915a450ce08e0cbc7402a773\n",
      "Successfully built retrying\n",
      "Installing collected packages: retrying, plotly, pandas, catboost\n",
      "  Found existing installation: pandas 0.23.4\n",
      "    Uninstalling pandas-0.23.4:\n",
      "      Successfully uninstalled pandas-0.23.4\n",
      "Successfully installed catboost-0.24.3 pandas-1.1.5 plotly-4.14.1 retrying-1.3.3\n"
     ]
    }
   ],
   "source": [
    "!pip install catboost"
   ]
  },
  {
   "cell_type": "code",
   "execution_count": null,
   "metadata": {
    "collapsed": false
   },
   "outputs": [
    {
     "name": "stdout",
     "output_type": "stream",
     "text": [
      "0:\tlearn: 0.6688002\ttotal: 3.1s\tremaining: 58.9s\n",
      "5:\tlearn: 0.5101730\ttotal: 15.6s\tremaining: 36.4s\n",
      "10:\tlearn: 0.4258895\ttotal: 27s\tremaining: 22.1s\n",
      "15:\tlearn: 0.3927031\ttotal: 39.6s\tremaining: 9.9s\n",
      "19:\tlearn: 0.3840942\ttotal: 48.2s\tremaining: 0us\n"
     ]
    },
    {
     "data": {
      "text/plain": [
       "<catboost.core.CatBoostClassifier at 0x7f219c027550>"
      ]
     },
     "execution_count": null,
     "metadata": {},
     "output_type": "execute_result"
    }
   ],
   "source": [
    "from catboost import CatBoostClassifier\n",
    "model = CatBoostClassifier(\n",
    "    iterations=20,\n",
    "    learning_rate=0.1,\n",
    "    loss_function='Logloss',\n",
    "    scale_pos_weight=63,\n",
    "    verbose=5\n",
    ")\n",
    "model.fit(\n",
    "    X_train_cv, y_train_cv,\n",
    "    cat_features=cat_features\n",
    ")"
   ]
  },
  {
   "cell_type": "code",
   "execution_count": null,
   "metadata": {
    "collapsed": false
   },
   "outputs": [
    {
     "data": {
      "text/plain": [
       "array([0.62247893, 0.10787898, 0.26685457, ..., 0.5025656 , 0.76843314,\n",
       "       0.94210921])"
      ]
     },
     "execution_count": null,
     "metadata": {},
     "output_type": "execute_result"
    }
   ],
   "source": [
    "cat_pred = model.predict_proba(data=X_test)[:,1]\n",
    "cat_pred"
   ]
  },
  {
   "cell_type": "code",
   "execution_count": null,
   "metadata": {
    "collapsed": false
   },
   "outputs": [
    {
     "name": "stdout",
     "output_type": "stream",
     "text": [
      "Looking in indexes: https://mirror.baidu.com/pypi/simple/\n",
      "Requirement already satisfied: ipywidgets in /opt/conda/envs/python35-paddle120-env/lib/python3.7/site-packages (7.5.1)\n",
      "Requirement already satisfied: nbformat>=4.2.0 in /opt/conda/envs/python35-paddle120-env/lib/python3.7/site-packages (from ipywidgets) (4.4.0)\n",
      "Requirement already satisfied: widgetsnbextension~=3.5.0 in /opt/conda/envs/python35-paddle120-env/lib/python3.7/site-packages (from ipywidgets) (3.5.1)\n",
      "Requirement already satisfied: ipython>=4.0.0; python_version >= \"3.3\" in /opt/conda/envs/python35-paddle120-env/lib/python3.7/site-packages (from ipywidgets) (7.0.1)\n",
      "Requirement already satisfied: traitlets>=4.3.1 in /opt/conda/envs/python35-paddle120-env/lib/python3.7/site-packages (from ipywidgets) (4.3.3)\n",
      "Requirement already satisfied: ipykernel>=4.5.1 in /opt/conda/envs/python35-paddle120-env/lib/python3.7/site-packages (from ipywidgets) (5.1.0)\n",
      "Requirement already satisfied: ipython_genutils in /opt/conda/envs/python35-paddle120-env/lib/python3.7/site-packages (from nbformat>=4.2.0->ipywidgets) (0.2.0)\n",
      "Requirement already satisfied: jsonschema!=2.5.0,>=2.4 in /opt/conda/envs/python35-paddle120-env/lib/python3.7/site-packages (from nbformat>=4.2.0->ipywidgets) (3.1.1)\n",
      "Requirement already satisfied: jupyter_core in /opt/conda/envs/python35-paddle120-env/lib/python3.7/site-packages (from nbformat>=4.2.0->ipywidgets) (4.5.0)\n",
      "Requirement already satisfied: notebook>=4.4.1 in /opt/conda/envs/python35-paddle120-env/lib/python3.7/site-packages (from widgetsnbextension~=3.5.0->ipywidgets) (5.7.0)\n",
      "Requirement already satisfied: setuptools>=18.5 in /opt/conda/envs/python35-paddle120-env/lib/python3.7/site-packages (from ipython>=4.0.0; python_version >= \"3.3\"->ipywidgets) (41.4.0)\n",
      "Requirement already satisfied: jedi>=0.10 in /opt/conda/envs/python35-paddle120-env/lib/python3.7/site-packages (from ipython>=4.0.0; python_version >= \"3.3\"->ipywidgets) (0.17.0)\n",
      "Requirement already satisfied: decorator in /opt/conda/envs/python35-paddle120-env/lib/python3.7/site-packages (from ipython>=4.0.0; python_version >= \"3.3\"->ipywidgets) (4.4.0)\n",
      "Requirement already satisfied: pickleshare in /opt/conda/envs/python35-paddle120-env/lib/python3.7/site-packages (from ipython>=4.0.0; python_version >= \"3.3\"->ipywidgets) (0.7.5)\n",
      "Requirement already satisfied: simplegeneric>0.8 in /opt/conda/envs/python35-paddle120-env/lib/python3.7/site-packages (from ipython>=4.0.0; python_version >= \"3.3\"->ipywidgets) (0.8.1)\n",
      "Requirement already satisfied: prompt_toolkit<2.1.0,>=2.0.0 in /opt/conda/envs/python35-paddle120-env/lib/python3.7/site-packages (from ipython>=4.0.0; python_version >= \"3.3\"->ipywidgets) (2.0.10)\n",
      "Requirement already satisfied: pygments in /opt/conda/envs/python35-paddle120-env/lib/python3.7/site-packages (from ipython>=4.0.0; python_version >= \"3.3\"->ipywidgets) (2.4.2)\n",
      "Requirement already satisfied: backcall in /opt/conda/envs/python35-paddle120-env/lib/python3.7/site-packages (from ipython>=4.0.0; python_version >= \"3.3\"->ipywidgets) (0.1.0)\n",
      "Requirement already satisfied: pexpect in /opt/conda/envs/python35-paddle120-env/lib/python3.7/site-packages (from ipython>=4.0.0; python_version >= \"3.3\"->ipywidgets) (4.7.0)\n",
      "Requirement already satisfied: six in /opt/conda/envs/python35-paddle120-env/lib/python3.7/site-packages (from traitlets>=4.3.1->ipywidgets) (1.15.0)\n",
      "Requirement already satisfied: tornado>=4.2 in /opt/conda/envs/python35-paddle120-env/lib/python3.7/site-packages (from ipykernel>=4.5.1->ipywidgets) (5.1.1)\n",
      "Requirement already satisfied: jupyter-client in /opt/conda/envs/python35-paddle120-env/lib/python3.7/site-packages (from ipykernel>=4.5.1->ipywidgets) (5.3.3)\n",
      "Requirement already satisfied: pyrsistent>=0.14.0 in /opt/conda/envs/python35-paddle120-env/lib/python3.7/site-packages (from jsonschema!=2.5.0,>=2.4->nbformat>=4.2.0->ipywidgets) (0.15.4)\n",
      "Requirement already satisfied: importlib-metadata in /opt/conda/envs/python35-paddle120-env/lib/python3.7/site-packages (from jsonschema!=2.5.0,>=2.4->nbformat>=4.2.0->ipywidgets) (0.23)\n",
      "Requirement already satisfied: attrs>=17.4.0 in /opt/conda/envs/python35-paddle120-env/lib/python3.7/site-packages (from jsonschema!=2.5.0,>=2.4->nbformat>=4.2.0->ipywidgets) (19.2.0)\n",
      "Requirement already satisfied: jinja2 in /opt/conda/envs/python35-paddle120-env/lib/python3.7/site-packages (from notebook>=4.4.1->widgetsnbextension~=3.5.0->ipywidgets) (2.10.1)\n",
      "Requirement already satisfied: pyzmq>=17 in /opt/conda/envs/python35-paddle120-env/lib/python3.7/site-packages (from notebook>=4.4.1->widgetsnbextension~=3.5.0->ipywidgets) (18.0.1)\n",
      "Requirement already satisfied: nbconvert in /opt/conda/envs/python35-paddle120-env/lib/python3.7/site-packages (from notebook>=4.4.1->widgetsnbextension~=3.5.0->ipywidgets) (5.3.1)\n",
      "Requirement already satisfied: Send2Trash in /opt/conda/envs/python35-paddle120-env/lib/python3.7/site-packages (from notebook>=4.4.1->widgetsnbextension~=3.5.0->ipywidgets) (1.5.0)\n",
      "Requirement already satisfied: terminado>=0.8.1 in /opt/conda/envs/python35-paddle120-env/lib/python3.7/site-packages (from notebook>=4.4.1->widgetsnbextension~=3.5.0->ipywidgets) (0.8.2)\n",
      "Requirement already satisfied: prometheus_client in /opt/conda/envs/python35-paddle120-env/lib/python3.7/site-packages (from notebook>=4.4.1->widgetsnbextension~=3.5.0->ipywidgets) (0.5.0)\n",
      "Requirement already satisfied: parso>=0.7.0 in /opt/conda/envs/python35-paddle120-env/lib/python3.7/site-packages (from jedi>=0.10->ipython>=4.0.0; python_version >= \"3.3\"->ipywidgets) (0.7.0)\n",
      "Requirement already satisfied: wcwidth in /opt/conda/envs/python35-paddle120-env/lib/python3.7/site-packages (from prompt_toolkit<2.1.0,>=2.0.0->ipython>=4.0.0; python_version >= \"3.3\"->ipywidgets) (0.1.7)\n",
      "Requirement already satisfied: ptyprocess>=0.5 in /opt/conda/envs/python35-paddle120-env/lib/python3.7/site-packages (from pexpect->ipython>=4.0.0; python_version >= \"3.3\"->ipywidgets) (0.6.0)\n",
      "Requirement already satisfied: python-dateutil>=2.1 in /opt/conda/envs/python35-paddle120-env/lib/python3.7/site-packages (from jupyter-client->ipykernel>=4.5.1->ipywidgets) (2.8.0)\n",
      "Requirement already satisfied: zipp>=0.5 in /opt/conda/envs/python35-paddle120-env/lib/python3.7/site-packages (from importlib-metadata->jsonschema!=2.5.0,>=2.4->nbformat>=4.2.0->ipywidgets) (0.6.0)\n",
      "Requirement already satisfied: MarkupSafe>=0.23 in /opt/conda/envs/python35-paddle120-env/lib/python3.7/site-packages (from jinja2->notebook>=4.4.1->widgetsnbextension~=3.5.0->ipywidgets) (1.1.1)\n",
      "Requirement already satisfied: entrypoints>=0.2.2 in /opt/conda/envs/python35-paddle120-env/lib/python3.7/site-packages (from nbconvert->notebook>=4.4.1->widgetsnbextension~=3.5.0->ipywidgets) (0.3)\n",
      "Requirement already satisfied: mistune>=0.7.4 in /opt/conda/envs/python35-paddle120-env/lib/python3.7/site-packages (from nbconvert->notebook>=4.4.1->widgetsnbextension~=3.5.0->ipywidgets) (0.8.4)\n",
      "Requirement already satisfied: bleach in /opt/conda/envs/python35-paddle120-env/lib/python3.7/site-packages (from nbconvert->notebook>=4.4.1->widgetsnbextension~=3.5.0->ipywidgets) (3.1.0)\n",
      "Requirement already satisfied: testpath in /opt/conda/envs/python35-paddle120-env/lib/python3.7/site-packages (from nbconvert->notebook>=4.4.1->widgetsnbextension~=3.5.0->ipywidgets) (0.4.2)\n",
      "Requirement already satisfied: pandocfilters>=1.4.1 in /opt/conda/envs/python35-paddle120-env/lib/python3.7/site-packages (from nbconvert->notebook>=4.4.1->widgetsnbextension~=3.5.0->ipywidgets) (1.4.2)\n",
      "Requirement already satisfied: more-itertools in /opt/conda/envs/python35-paddle120-env/lib/python3.7/site-packages (from zipp>=0.5->importlib-metadata->jsonschema!=2.5.0,>=2.4->nbformat>=4.2.0->ipywidgets) (7.2.0)\n",
      "Requirement already satisfied: webencodings in /opt/conda/envs/python35-paddle120-env/lib/python3.7/site-packages (from bleach->nbconvert->notebook>=4.4.1->widgetsnbextension~=3.5.0->ipywidgets) (0.5.1)\n"
     ]
    }
   ],
   "source": [
    "!pip install ipywidgets"
   ]
  },
  {
   "cell_type": "code",
   "execution_count": null,
   "metadata": {
    "collapsed": false
   },
   "outputs": [
    {
     "data": {
      "text/html": [
       "<div>\n",
       "<style scoped>\n",
       "    .dataframe tbody tr th:only-of-type {\n",
       "        vertical-align: middle;\n",
       "    }\n",
       "\n",
       "    .dataframe tbody tr th {\n",
       "        vertical-align: top;\n",
       "    }\n",
       "\n",
       "    .dataframe thead th {\n",
       "        text-align: right;\n",
       "    }\n",
       "</style>\n",
       "<table border=\"1\" class=\"dataframe\">\n",
       "  <thead>\n",
       "    <tr style=\"text-align: right;\">\n",
       "      <th></th>\n",
       "      <th>iterations</th>\n",
       "      <th>test-Logloss-mean</th>\n",
       "      <th>test-Logloss-std</th>\n",
       "      <th>train-Logloss-mean</th>\n",
       "      <th>train-Logloss-std</th>\n",
       "    </tr>\n",
       "  </thead>\n",
       "  <tbody>\n",
       "    <tr>\n",
       "      <th>0</th>\n",
       "      <td>0</td>\n",
       "      <td>0.504935</td>\n",
       "      <td>0.000740</td>\n",
       "      <td>0.504932</td>\n",
       "      <td>0.000757</td>\n",
       "    </tr>\n",
       "    <tr>\n",
       "      <th>1</th>\n",
       "      <td>1</td>\n",
       "      <td>0.377912</td>\n",
       "      <td>0.002339</td>\n",
       "      <td>0.377896</td>\n",
       "      <td>0.002394</td>\n",
       "    </tr>\n",
       "    <tr>\n",
       "      <th>2</th>\n",
       "      <td>2</td>\n",
       "      <td>0.288686</td>\n",
       "      <td>0.002333</td>\n",
       "      <td>0.288670</td>\n",
       "      <td>0.002290</td>\n",
       "    </tr>\n",
       "    <tr>\n",
       "      <th>3</th>\n",
       "      <td>3</td>\n",
       "      <td>0.226384</td>\n",
       "      <td>0.001517</td>\n",
       "      <td>0.226366</td>\n",
       "      <td>0.001324</td>\n",
       "    </tr>\n",
       "    <tr>\n",
       "      <th>4</th>\n",
       "      <td>4</td>\n",
       "      <td>0.183134</td>\n",
       "      <td>0.000819</td>\n",
       "      <td>0.183117</td>\n",
       "      <td>0.000838</td>\n",
       "    </tr>\n",
       "  </tbody>\n",
       "</table>\n",
       "</div>"
      ],
      "text/plain": [
       "   iterations  test-Logloss-mean  test-Logloss-std  train-Logloss-mean  \\\n",
       "0           0           0.504935          0.000740            0.504932   \n",
       "1           1           0.377912          0.002339            0.377896   \n",
       "2           2           0.288686          0.002333            0.288670   \n",
       "3           3           0.226384          0.001517            0.226366   \n",
       "4           4           0.183134          0.000819            0.183117   \n",
       "\n",
       "   train-Logloss-std  \n",
       "0           0.000757  \n",
       "1           0.002394  \n",
       "2           0.002290  \n",
       "3           0.001324  \n",
       "4           0.000838  "
      ]
     },
     "execution_count": null,
     "metadata": {},
     "output_type": "execute_result"
    }
   ],
   "source": [
    "#交叉验证\n",
    "%matplotlib inline\n",
    "from catboost import CatBoostClassifier, Pool, cv\n",
    "\n",
    "params = {}\n",
    "params['loss_function'] = 'Logloss'\n",
    "params['iterations'] = 80\n",
    "# params['custom_loss'] = 'AUC'\n",
    "params['random_seed'] = 63\n",
    "params['learning_rate'] = 0.1\n",
    "\n",
    "cv_data = cv(\n",
    "    params = params,\n",
    "    pool = Pool(X_train_cv, label=y_train_cv, cat_features=cat_features),\n",
    "    fold_count=5,\n",
    "    shuffle=True,\n",
    "    partition_random_seed=0,\n",
    "    plot=True,\n",
    "    stratified=False,\n",
    "    verbose=False\n",
    ")\n",
    "cv_data.head()"
   ]
  },
  {
   "cell_type": "code",
   "execution_count": null,
   "metadata": {
    "collapsed": false
   },
   "outputs": [
    {
     "name": "stdout",
     "output_type": "stream",
     "text": [
      "Best validation Logloss score, not stratified: 0.0493±0.0003 on step 79\n"
     ]
    }
   ],
   "source": [
    "best_value = np.min(cv_data['test-Logloss-mean'])\n",
    "best_iter = np.argmin(cv_data['test-Logloss-mean'])\n",
    "\n",
    "print('Best validation Logloss score, not stratified: {:.4f}±{:.4f} on step {}'.format(\n",
    "    best_value,\n",
    "    cv_data['test-Logloss-std'][best_iter],\n",
    "    best_iter)\n",
    ")"
   ]
  },
  {
   "cell_type": "code",
   "execution_count": null,
   "metadata": {
    "collapsed": false
   },
   "outputs": [
    {
     "name": "stdout",
     "output_type": "stream",
     "text": [
      "Looking in indexes: https://mirror.baidu.com/pypi/simple/\n",
      "Collecting hyperopt\n",
      "\u001b[?25l  Downloading https://mirror.baidu.com/pypi/packages/a6/07/bd524635d218adae139be320eeac87fb4fbbd45c63b0bd58930c9e91f1fc/hyperopt-0.2.5-py2.py3-none-any.whl (965kB)\n",
      "\u001b[K     |████████████████████████████████| 972kB 13.3MB/s eta 0:00:01\n",
      "\u001b[?25hRequirement already satisfied: networkx>=2.2 in /opt/conda/envs/python35-paddle120-env/lib/python3.7/site-packages (from hyperopt) (2.4)\n",
      "Requirement already satisfied: numpy in /opt/conda/envs/python35-paddle120-env/lib/python3.7/site-packages (from hyperopt) (1.16.4)\n",
      "Requirement already satisfied: future in /opt/conda/envs/python35-paddle120-env/lib/python3.7/site-packages (from hyperopt) (0.18.0)\n",
      "Requirement already satisfied: cloudpickle in /opt/conda/envs/python35-paddle120-env/lib/python3.7/site-packages (from hyperopt) (1.2.1)\n",
      "Requirement already satisfied: tqdm in /opt/conda/envs/python35-paddle120-env/lib/python3.7/site-packages (from hyperopt) (4.36.1)\n",
      "Requirement already satisfied: six in /opt/conda/envs/python35-paddle120-env/lib/python3.7/site-packages (from hyperopt) (1.15.0)\n",
      "Requirement already satisfied: scipy in /opt/conda/envs/python35-paddle120-env/lib/python3.7/site-packages (from hyperopt) (1.3.0)\n",
      "Requirement already satisfied: decorator>=4.3.0 in /opt/conda/envs/python35-paddle120-env/lib/python3.7/site-packages (from networkx>=2.2->hyperopt) (4.4.0)\n",
      "Installing collected packages: hyperopt\n",
      "Successfully installed hyperopt-0.2.5\n"
     ]
    }
   ],
   "source": [
    "!pip install hyperopt"
   ]
  },
  {
   "cell_type": "code",
   "execution_count": null,
   "metadata": {
    "collapsed": false
   },
   "outputs": [],
   "source": [
    "#自动调参\n",
    "import hyperopt\n",
    "\n",
    "def hyperopt_objective(params):\n",
    "    model = CatBoostClassifier(\n",
    "        l2_leaf_reg=int(params['l2_leaf_reg']),\n",
    "        learning_rate=params['learning_rate'],\n",
    "        iterations=500,\n",
    "        eval_metric='Accuracy',\n",
    "        random_seed=2020,\n",
    "        scale_pos_weight=60,\n",
    "        verbose=False,\n",
    "        loss_function='Logloss',\n",
    "    )\n",
    "    \n",
    "    cv_data = cv(\n",
    "        Pool(X_train_cv, y_train_cv, cat_features=cat_features),\n",
    "        model.get_params()\n",
    "    )\n",
    "    best_accuracy = np.max(cv_data['test-Accuracy-mean'])\n",
    "    \n",
    "    return 1 - best_accuracy # as hyperopt minimises"
   ]
  },
  {
   "cell_type": "code",
   "execution_count": 19,
   "metadata": {
    "collapsed": false
   },
   "outputs": [
    {
     "name": "stdout",
     "output_type": "stream",
     "text": [
      "  0%|          | 0/50 [00:00<?, ?trial/s, best loss=?]"
     ]
    }
   ],
   "source": [
    "from numpy.random import RandomState\n",
    "\n",
    "params_space = {\n",
    "    'l2_leaf_reg': hyperopt.hp.qloguniform('l2_leaf_reg', 0, 2, 1),\n",
    "    'learning_rate': hyperopt.hp.uniform('learning_rate', 1e-3, 5e-1),\n",
    "}\n",
    "\n",
    "trials = hyperopt.Trials()\n",
    "\n",
    "best = hyperopt.fmin(\n",
    "    hyperopt_objective,\n",
    "    space=params_space,\n",
    "    algo=hyperopt.tpe.suggest,\n",
    "    max_evals=50,\n",
    "    trials=trials,\n",
    "    rstate=RandomState(123)\n",
    ")\n",
    "\n",
    "print(best)"
   ]
  },
  {
   "cell_type": "code",
   "execution_count": null,
   "metadata": {
    "collapsed": false
   },
   "outputs": [
    {
     "ename": "NameError",
     "evalue": "name 'best' is not defined",
     "output_type": "error",
     "traceback": [
      "\u001b[0;31m---------------------------------------------------------------------------\u001b[0m",
      "\u001b[0;31mNameError\u001b[0m                                 Traceback (most recent call last)",
      "\u001b[0;32m<ipython-input-18-7e9e463fb4df>\u001b[0m in \u001b[0;36m<module>\u001b[0;34m\u001b[0m\n\u001b[1;32m      1\u001b[0m model = CatBoostClassifier(\n\u001b[0;32m----> 2\u001b[0;31m     \u001b[0ml2_leaf_reg\u001b[0m\u001b[0;34m=\u001b[0m\u001b[0mint\u001b[0m\u001b[0;34m(\u001b[0m\u001b[0mbest\u001b[0m\u001b[0;34m[\u001b[0m\u001b[0;34m'l2_leaf_reg'\u001b[0m\u001b[0;34m]\u001b[0m\u001b[0;34m)\u001b[0m\u001b[0;34m,\u001b[0m\u001b[0;34m\u001b[0m\u001b[0;34m\u001b[0m\u001b[0m\n\u001b[0m\u001b[1;32m      3\u001b[0m     \u001b[0mlearning_rate\u001b[0m\u001b[0;34m=\u001b[0m\u001b[0mbest\u001b[0m\u001b[0;34m[\u001b[0m\u001b[0;34m'learning_rate'\u001b[0m\u001b[0;34m]\u001b[0m\u001b[0;34m,\u001b[0m\u001b[0;34m\u001b[0m\u001b[0;34m\u001b[0m\u001b[0m\n\u001b[1;32m      4\u001b[0m     \u001b[0miterations\u001b[0m\u001b[0;34m=\u001b[0m\u001b[0;36m500\u001b[0m\u001b[0;34m,\u001b[0m\u001b[0;34m\u001b[0m\u001b[0;34m\u001b[0m\u001b[0m\n\u001b[1;32m      5\u001b[0m     \u001b[0meval_metric\u001b[0m\u001b[0;34m=\u001b[0m\u001b[0;34m'Accuracy'\u001b[0m\u001b[0;34m,\u001b[0m\u001b[0;34m\u001b[0m\u001b[0;34m\u001b[0m\u001b[0m\n",
      "\u001b[0;31mNameError\u001b[0m: name 'best' is not defined"
     ]
    }
   ],
   "source": [
    "model = CatBoostClassifier(\n",
    "    l2_leaf_reg=int(best['l2_leaf_reg']),\n",
    "    learning_rate=best['learning_rate'],\n",
    "    iterations=500,\n",
    "    eval_metric='Accuracy',\n",
    "    random_seed=2020,\n",
    "    scale_pos_weight=60,\n",
    "    verbose=False,\n",
    "    loss_function='Logloss',\n",
    ")\n",
    "cv_data = cv(Pool(X_train_cv, y_train_cv, cat_features=cat_features), model.get_params())\n",
    "\n",
    "print('Precise validation accuracy score: {}'.format(np.max(cv_data['test-Accuracy-mean'])))\n",
    "\n",
    "test_pred = model.predict(X_test)"
   ]
  },
  {
   "cell_type": "code",
   "execution_count": null,
   "metadata": {
    "collapsed": false
   },
   "outputs": [],
   "source": [
    "import lightgbm as lgb\n",
    "\n",
    "print(\"Training and predicting models...\")\n",
    "\n",
    "# specify your configurations as a dict\n",
    "params = {\n",
    "    'boosting_type': 'gbdt',\n",
    "    'objective': 'binary',\n",
    "    # 'metric': {'auc','binary_logloss'},\n",
    "    'metric': {'binary_logloss'},\n",
    "    'num_leaves': 199,\n",
    "    'max_depth': 11,\n",
    "    'max_bin': 50,\n",
    "    'min_data_in_leaf': 35,\n",
    "    'learning_rate': 0.05,\n",
    "    'feature_fraction': 0.75,\n",
    "    'bagging_fraction': 0.65,\n",
    "    'bagging_freq': 4,\n",
    "    'scale_pos_weight': 63\n",
    "}\n",
    "\n",
    "MAX_ROUNDS = 100\n",
    "val_pred = []\n",
    "test_pred = []\n",
    "cate_vars = ['customer_id','member_id','customer_gender','customer_province_id',\n",
    "'customer_city_id','is_member_actived']\n",
    "\n",
    "dtrain = lgb.Dataset(\n",
    "    X_train_cv, label=y_train_cv\n",
    ")\n",
    "bst = lgb.train(\n",
    "    params, dtrain, num_boost_round=MAX_ROUNDS,\n",
    "    categorical_feature= cate_vars\n",
    ")"
   ]
  },
  {
   "cell_type": "code",
   "execution_count": null,
   "metadata": {
    "collapsed": false
   },
   "outputs": [],
   "source": [
    "from lightgbm import plot_importance,plot_split_value_histogram\n",
    "\n",
    "def plot_features(booster, figsize):    \n",
    "    fig, ax = plt.subplots(1,1,figsize=figsize)\n",
    "    return plot_importance(booster=booster, ax=ax,max_num_features=30)\n",
    "    \n",
    "plot_features(bst, (10,14))"
   ]
  },
  {
   "cell_type": "code",
   "execution_count": null,
   "metadata": {
    "collapsed": false
   },
   "outputs": [],
   "source": [
    "X_train = pd.read_pickle('./X_train.pkl')"
   ]
  },
  {
   "cell_type": "code",
   "execution_count": null,
   "metadata": {
    "collapsed": false
   },
   "outputs": [],
   "source": [
    "pd.DataFrame({'fea':X_train.columns, 'imp':bst.feature_importance()}).sort_values('imp',ascending = False)"
   ]
  },
  {
   "cell_type": "code",
   "execution_count": null,
   "metadata": {
    "collapsed": false
   },
   "outputs": [],
   "source": [
    "lgb_pred = bst.predict(\n",
    "        X_test, num_iteration=bst.best_iteration or MAX_ROUNDS)\n",
    "\n",
    "lgb_pred"
   ]
  },
  {
   "cell_type": "code",
   "execution_count": null,
   "metadata": {
    "collapsed": false
   },
   "outputs": [],
   "source": [
    "test_pred = (cat_pred + lgb_pred)/2\n",
    "test_pred\n",
    "print(len(test_pred))"
   ]
  },
  {
   "cell_type": "code",
   "execution_count": null,
   "metadata": {
    "collapsed": false
   },
   "outputs": [],
   "source": [
    "print(\"Preparing Predict dataset...\")\n",
    "\n",
    "print(\"Making submission...\")\n",
    "y_test = np.array(test_pred).transpose()\n",
    "df_preds = pd.DataFrame(\n",
    "{    \"customer_id\": X_test.customer_id, \n",
    "    \"pred\": y_test}\n",
    ")\n",
    "df_preds.head()"
   ]
  },
  {
   "cell_type": "markdown",
   "metadata": {
    "collapsed": false
   },
   "source": [
    "全样本集合"
   ]
  },
  {
   "cell_type": "code",
   "execution_count": null,
   "metadata": {
    "collapsed": false
   },
   "outputs": [],
   "source": [
    "# 将用户下单金额按天进行汇总\n",
    "df = train[train.order_pay_time>'2012-11-01']\n",
    "df['date'] = pd.DatetimeIndex(df['order_pay_time']).date\n",
    "df_payment_total = df[['customer_id','date','order_total_payment']]"
   ]
  },
  {
   "cell_type": "code",
   "execution_count": null,
   "metadata": {
    "collapsed": false
   },
   "outputs": [],
   "source": [
    "len(df_payment_total['customer_id'].unique())"
   ]
  },
  {
   "cell_type": "code",
   "execution_count": null,
   "metadata": {
    "collapsed": false
   },
   "outputs": [],
   "source": [
    "df_payment_total = df_payment_total.groupby(['date','customer_id']).agg({'order_total_payment': ['sum']})\n",
    "df_payment_total.columns = ['day_total_payment']\n",
    "df_payment_total.reset_index(inplace=True)\n",
    "df_payment_total.head()"
   ]
  },
  {
   "cell_type": "code",
   "execution_count": null,
   "metadata": {
    "collapsed": false
   },
   "outputs": [],
   "source": [
    "df_payment_total.to_pickle('./df_payment_total.pkl')"
   ]
  },
  {
   "cell_type": "code",
   "execution_count": null,
   "metadata": {
    "collapsed": false
   },
   "outputs": [],
   "source": [
    "df_payment_total = df_payment_total.set_index(\n",
    "    [\"customer_id\", \"date\"])[[\"day_total_payment\"]].unstack(level=-1).fillna(0)# unstack(level=-1) 该操作会将行中数据透视到列,level: 默认为-1，即行索引的最后一级\n",
    "df_payment_total.columns = df_payment_total.columns.get_level_values(1)# get_level_values(1)# 行索引有多个，索引第2个的值"
   ]
  },
  {
   "cell_type": "code",
   "execution_count": null,
   "metadata": {
    "collapsed": false
   },
   "outputs": [],
   "source": [
    "df_goods_total = df[['customer_id','date','order_total_num']]\n",
    "df_goods_total = df_goods_total.groupby(['date','customer_id']).agg({'order_total_num': ['sum']})\n",
    "df_goods_total.columns = ['day_total_num']\n",
    "df_goods_total.reset_index(inplace=True)"
   ]
  },
  {
   "cell_type": "code",
   "execution_count": null,
   "metadata": {
    "collapsed": false
   },
   "outputs": [],
   "source": [
    "df_goods_total = df_goods_total.set_index(\n",
    "    [\"customer_id\", \"date\"])[[\"day_total_num\"]].unstack(level=-1).fillna(0)\n",
    "df_goods_total.columns = df_goods_total.columns.get_level_values(1)"
   ]
  },
  {
   "cell_type": "code",
   "execution_count": null,
   "metadata": {
    "collapsed": false
   },
   "outputs": [],
   "source": [
    "df_goods_total.to_pickle('./df_goods_total.pkl')"
   ]
  },
  {
   "cell_type": "code",
   "execution_count": null,
   "metadata": {
    "collapsed": false
   },
   "outputs": [],
   "source": [
    "df_payment_total = pd.read_pickle('./df_payment_total.pkl')\n",
    "df_goods_total = pd.read_pickle('./df_goods_total.pkl')"
   ]
  },
  {
   "cell_type": "code",
   "execution_count": null,
   "metadata": {
    "collapsed": false
   },
   "outputs": [],
   "source": [
    "%%time\n",
    "X_total = prepare_dataset(df_payment_total, df_goods_total, date(2013, 9, 1),is_train=False)"
   ]
  },
  {
   "cell_type": "code",
   "execution_count": null,
   "metadata": {
    "collapsed": false
   },
   "outputs": [],
   "source": [
    "X_total.to_pickle('./X_total.pkl')"
   ]
  },
  {
   "cell_type": "code",
   "execution_count": null,
   "metadata": {
    "collapsed": false
   },
   "outputs": [],
   "source": [
    "# 全量样本的测试集维度要与训练集样本的维度保持一致 要将用户特征进行merge\n",
    "df_customer = train[['member_id','customer_id','customer_gender','customer_province_id','customer_city_id','is_member_actived']]\n",
    "# 删除重复行\n",
    "df_customer = df_customer.drop_duplicates(['customer_id'])\n",
    "df_customer.head()\n",
    "X_total = pd.merge(X_total,df_customer,how='left')\n",
    "X_total.to_pickle('X_total.pkl')"
   ]
  },
  {
   "cell_type": "code",
   "execution_count": null,
   "metadata": {
    "collapsed": false
   },
   "outputs": [],
   "source": [
    "X_total = pd.read_pickle('./X_total.pkl')\n",
    "X_train_cv = pd.read_pickle('./X_train_cv.pkl')\n",
    "y_train_cv = np.load(\"./y_train_cv.npy\")\n",
    "\n",
    "cat_features = [0, 182, 183, 184, 185, 186]\n",
    "\n",
    "from catboost import CatBoostClassifier\n",
    "model = CatBoostClassifier(\n",
    "    iterations=20,\n",
    "    learning_rate=0.1,\n",
    "    loss_function='Logloss',\n",
    "    scale_pos_weight=63,\n",
    "    verbose=5\n",
    ")\n",
    "model.fit(\n",
    "    X_train_cv, y_train_cv,\n",
    "    cat_features=cat_features\n",
    ")"
   ]
  },
  {
   "cell_type": "code",
   "execution_count": null,
   "metadata": {
    "collapsed": false
   },
   "outputs": [],
   "source": [
    "cat_pred = model.predict_proba(data=X_total)[:,1]\n",
    "cat_pred"
   ]
  },
  {
   "cell_type": "code",
   "execution_count": null,
   "metadata": {
    "collapsed": false
   },
   "outputs": [],
   "source": [
    "np.save(\"./catboost_pred.npy\", cat_pred)\n",
    "cat_pred = np.load(\"./catboost_pred.npy\")"
   ]
  },
  {
   "cell_type": "code",
   "execution_count": null,
   "metadata": {
    "collapsed": false
   },
   "outputs": [],
   "source": [
    "import lightgbm as lgb\n",
    "\n",
    "print(\"Training and predicting models...\")\n",
    "\n",
    "# specify your configurations as a dict\n",
    "params = {\n",
    "    'boosting_type': 'gbdt',\n",
    "    'objective': 'binary',\n",
    "    # 'metric': {'auc','binary_logloss'},\n",
    "    'metric': {'binary_logloss'},\n",
    "    'num_leaves': 199,\n",
    "    'max_depth': 11,\n",
    "    'max_bin': 50,\n",
    "    'min_data_in_leaf': 35,\n",
    "    'learning_rate': 0.05,\n",
    "    'feature_fraction': 0.75,\n",
    "    'bagging_fraction': 0.65,\n",
    "    'bagging_freq': 4,\n",
    "    'scale_pos_weight': 63\n",
    "}\n",
    "\n",
    "MAX_ROUNDS = 100\n",
    "val_pred = []\n",
    "test_pred = []\n",
    "cate_vars = ['customer_id','member_id','customer_gender','customer_province_id',\n",
    "'customer_city_id','is_member_actived']\n",
    "\n",
    "dtrain = lgb.Dataset(\n",
    "    X_train_cv, label=y_train_cv\n",
    ")\n",
    "bst = lgb.train(\n",
    "    params, dtrain, num_boost_round=MAX_ROUNDS,\n",
    "    categorical_feature= cate_vars\n",
    ")"
   ]
  },
  {
   "cell_type": "code",
   "execution_count": null,
   "metadata": {
    "collapsed": false
   },
   "outputs": [],
   "source": [
    "from lightgbm import plot_importance,plot_split_value_histogram\n",
    "\n",
    "def plot_features(booster, figsize):    \n",
    "    fig, ax = plt.subplots(1,1,figsize=figsize)\n",
    "    return plot_importance(booster=booster, ax=ax,max_num_features=30)\n",
    "    \n",
    "plot_features(bst, (10,14))"
   ]
  },
  {
   "cell_type": "code",
   "execution_count": null,
   "metadata": {
    "collapsed": false
   },
   "outputs": [],
   "source": [
    "pd.DataFrame({'fea':X_total.columns, 'imp':bst.feature_importance()}).sort_values('imp',ascending = False)"
   ]
  },
  {
   "cell_type": "code",
   "execution_count": null,
   "metadata": {
    "collapsed": false
   },
   "outputs": [],
   "source": [
    "lgb_pred = bst.predict(\n",
    "        X_total, num_iteration=bst.best_iteration or MAX_ROUNDS)\n",
    "lgb_pred"
   ]
  },
  {
   "cell_type": "code",
   "execution_count": null,
   "metadata": {
    "collapsed": false
   },
   "outputs": [],
   "source": [
    "np.save(\"./lightgbm_pred.npy\", lgb_pred)"
   ]
  },
  {
   "cell_type": "code",
   "execution_count": null,
   "metadata": {
    "collapsed": false
   },
   "outputs": [],
   "source": [
    "lgb_pred = np.load(\"./lightgbm_pred.npy\")"
   ]
  },
  {
   "cell_type": "code",
   "execution_count": null,
   "metadata": {
    "collapsed": false
   },
   "outputs": [],
   "source": [
    "test_pred = (cat_pred + lgb_pred)/2\n",
    "print(\"Preparing Predict dataset...\")\n",
    "\n",
    "print(\"Making submission...\")\n",
    "y_test = np.array(test_pred).transpose()\n",
    "df_preds = pd.DataFrame(\n",
    "{    \"customer_id\": X_total.customer_id, \n",
    "    \"result\": y_test}\n",
    ")\n",
    "df_preds.head()"
   ]
  },
  {
   "cell_type": "code",
   "execution_count": null,
   "metadata": {
    "collapsed": false
   },
   "outputs": [],
   "source": [
    "submission = df_preds.copy()\n",
    "submission['result'] = submission['result'].apply(lambda x : 1 if x > 0.5 else 0)"
   ]
  },
  {
   "cell_type": "code",
   "execution_count": null,
   "metadata": {
    "collapsed": false
   },
   "outputs": [],
   "source": [
    "submission.to_csv('./submission.csv',index=None)"
   ]
  },
  {
   "cell_type": "code",
   "execution_count": null,
   "metadata": {
    "collapsed": false
   },
   "outputs": [],
   "source": []
  },
  {
   "cell_type": "code",
   "execution_count": null,
   "metadata": {
    "collapsed": false
   },
   "outputs": [],
   "source": []
  },
  {
   "cell_type": "code",
   "execution_count": null,
   "metadata": {
    "collapsed": false
   },
   "outputs": [],
   "source": []
  },
  {
   "cell_type": "code",
   "execution_count": null,
   "metadata": {
    "collapsed": false
   },
   "outputs": [],
   "source": []
  },
  {
   "cell_type": "code",
   "execution_count": null,
   "metadata": {
    "collapsed": false
   },
   "outputs": [],
   "source": []
  },
  {
   "cell_type": "code",
   "execution_count": null,
   "metadata": {
    "collapsed": false
   },
   "outputs": [],
   "source": []
  },
  {
   "cell_type": "code",
   "execution_count": null,
   "metadata": {
    "collapsed": false
   },
   "outputs": [],
   "source": []
  }
 ],
 "metadata": {
  "kernelspec": {
   "display_name": "PaddlePaddle 1.8.0 (Python 3.5)",
   "language": "python",
   "name": "py35-paddle1.2.0"
  }
 },
 "nbformat": 4,
 "nbformat_minor": 1
}
